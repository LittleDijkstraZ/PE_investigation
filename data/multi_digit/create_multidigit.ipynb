{
 "cells": [
  {
   "cell_type": "code",
   "execution_count": 1,
   "metadata": {},
   "outputs": [],
   "source": [
    "import argparse\n",
    "import os\n",
    "import pickle\n",
    "import numpy as np\n",
    "import random\n",
    "import math\n"
   ]
  },
  {
   "cell_type": "code",
   "execution_count": 2,
   "metadata": {},
   "outputs": [],
   "source": [
    "def numCarryOps(a, b):\n",
    "    a,b=int(a),int(b)\n",
    "    def digitSum(n):\n",
    "        return sum(map(int,str(n)))\n",
    "    # assert(a >= 0); assert(b >= 0);\n",
    "    return int((digitSum(a) + digitSum(b) - digitSum(a+b)) / 9)"
   ]
  },
  {
   "cell_type": "code",
   "execution_count": 3,
   "metadata": {},
   "outputs": [],
   "source": [
    "def make_n_digit_examples(n=3, num_sample=10000):\n",
    "    filename = f\"{n}digit_{num_sample}.txt\"\n",
    "    # we have 100, 2d, 3d, ..., nd for each digit\n",
    "    # 100 + 2d + 3d + ... + nd = num_sample\n",
    "    d = int((num_sample-100)  / (n*(n+1)/2 - 1))\n",
    "    p_list = [100] + [i*d for i in range(2, n+1)]\n",
    "    if p_list[1] > 10000:\n",
    "        p_list[1] = 10000\n",
    "        p_list[2] += num_sample - sum(p_list)\n",
    "\n",
    "    else:\n",
    "        p_list[1] += num_sample - sum(p_list)\n",
    "    \n",
    "    print(f\"number of examples for each digit: {p_list}\")\n",
    "    num_carry_list = [0 for i in range(n+1)]\n",
    "\n",
    "    if os.path.exists(filename):\n",
    "        print(f\"File {filename} already exists. Skipping...\")\n",
    "        return\n",
    "\n",
    "    count = 0\n",
    "    with open(filename, \"w\") as f:\n",
    "        for i in range(10):\n",
    "            for j in range(10):\n",
    "                f.write(f\"{i}+{j}={i+j}\\n\")\n",
    "                count += 1\n",
    "\n",
    "                num_carry = numCarryOps(i, j)\n",
    "                num_carry_list[num_carry] += 1\n",
    "\n",
    "\n",
    "        for digit_num in range(2, n+1):\n",
    "            d = p_list[digit_num-1] // digit_num\n",
    "            for k in range(1, digit_num+1):\n",
    "                if k == digit_num:\n",
    "                    d = p_list[digit_num-1] - (digit_num-1)*d\n",
    "                print(digit_num, k, d)\n",
    "                for _ in range(d):\n",
    "                    i = random.randint(10**(digit_num-1), 10**digit_num-1)\n",
    "                    j = random.randint(10**(k-1), 10**k-1)\n",
    "                    if random.random() < 0.5:\n",
    "                        f.write(f\"{i}+{j}={i+j}\\n\")\n",
    "                    else:\n",
    "                        f.write(f\"{j}+{i}={i+j}\\n\")\n",
    "                    count += 1\n",
    "                    num_carry = numCarryOps(i, j)\n",
    "                    num_carry_list[num_carry] += 1\n",
    "\n",
    "    print(f\"number of examples for each carry: {num_carry_list}\")\n",
    "    print(f\"Total number of examples: {count}\")"
   ]
  },
  {
   "cell_type": "code",
   "execution_count": 23,
   "metadata": {},
   "outputs": [
    {
     "name": "stdout",
     "output_type": "stream",
     "text": [
      "number of examples for each digit: [100, 3960, 5940]\n",
      "2 1 1980\n",
      "2 2 1980\n",
      "3 1 1980\n",
      "3 2 1980\n",
      "3 3 1980\n",
      "number of examples for each carry: [3323, 4255, 2026, 396]\n",
      "Total number of examples: 10000\n"
     ]
    }
   ],
   "source": [
    "make_n_digit_examples()"
   ]
  },
  {
   "cell_type": "code",
   "execution_count": 13,
   "metadata": {},
   "outputs": [
    {
     "name": "stdout",
     "output_type": "stream",
     "text": [
      "number of examples for each digit: [100, 7400, 11100, 14800, 18500, 22200, 25900]\n",
      "File 7digit_100000.txt already exists. Skipping...\n"
     ]
    }
   ],
   "source": [
    "make_n_digit_examples(n=7, num_sample=500)\n",
    "make_n_digit_examples(n=7, num_sample=1000)\n",
    "make_n_digit_examples(n=7, num_sample=2000)\n",
    "make_n_digit_examples(n=7, num_sample=5000)\n",
    "make_n_digit_examples(n=7, num_sample=10000)\n",
    "make_n_digit_examples(n=7, num_sample=20000)\n",
    "make_n_digit_examples(n=7, num_sample=50000)\n",
    "make_n_digit_examples(n=7, num_sample=100000)\n",
    "make_n_digit_examples(n=7, num_sample=200000)\n"
   ]
  },
  {
   "cell_type": "code",
   "execution_count": 20,
   "metadata": {},
   "outputs": [
    {
     "name": "stdout",
     "output_type": "stream",
     "text": [
      "number of examples for each digit: [100, 38, 48, 64]\n",
      "File 4digit_250.txt already exists. Skipping...\n",
      "number of examples for each digit: [100, 92, 132, 176]\n",
      "File 4digit_500.txt already exists. Skipping...\n",
      "number of examples for each digit: [100, 200, 300, 400]\n",
      "File 4digit_1000.txt already exists. Skipping...\n",
      "number of examples for each digit: [100, 423, 633, 844]\n",
      "File 4digit_2000.txt already exists. Skipping...\n",
      "number of examples for each digit: [100, 1092, 1632, 2176]\n",
      "File 4digit_5000.txt already exists. Skipping...\n",
      "number of examples for each digit: [100, 2200, 3300, 4400]\n",
      "File 4digit_10000.txt already exists. Skipping...\n",
      "number of examples for each digit: [100, 4423, 6633, 8844]\n",
      "File 4digit_20000.txt already exists. Skipping...\n"
     ]
    }
   ],
   "source": [
    "make_n_digit_examples(n=4, num_sample=100)\n",
    "make_n_digit_examples(n=4, num_sample=250)\n",
    "make_n_digit_examples(n=4, num_sample=500)\n",
    "make_n_digit_examples(n=4, num_sample=700)\n",
    "make_n_digit_examples(n=4, num_sample=1000)\n",
    "make_n_digit_examples(n=4, num_sample=2000)\n",
    "make_n_digit_examples(n=4, num_sample=3000)\n",
    "make_n_digit_examples(n=4, num_sample=5000)\n",
    "make_n_digit_examples(n=4, num_sample=7000)\n",
    "make_n_digit_examples(n=4, num_sample=10000)\n",
    "make_n_digit_examples(n=4, num_sample=20000)\n",
    "make_n_digit_examples(n=4, num_sample=50000)\n"
   ]
  },
  {
   "cell_type": "code",
   "execution_count": 5,
   "metadata": {},
   "outputs": [
    {
     "name": "stdout",
     "output_type": "stream",
     "text": [
      "number of examples for each digit: [100, 0, 0, 0, 0, 0]\n",
      "File 6digit_100.txt already exists. Skipping...\n",
      "number of examples for each digit: [100, 10, 15, 20, 25, 30]\n",
      "File 6digit_200.txt already exists. Skipping...\n",
      "number of examples for each digit: [100, 40, 60, 80, 100, 120]\n",
      "File 6digit_500.txt already exists. Skipping...\n",
      "number of examples for each digit: [100, 90, 135, 180, 225, 270]\n",
      "File 6digit_1000.txt already exists. Skipping...\n",
      "number of examples for each digit: [100, 190, 285, 380, 475, 570]\n",
      "File 6digit_2000.txt already exists. Skipping...\n",
      "number of examples for each digit: [100, 290, 435, 580, 725, 870]\n",
      "File 6digit_3000.txt already exists. Skipping...\n",
      "number of examples for each digit: [100, 390, 585, 780, 975, 1170]\n",
      "File 6digit_4000.txt already exists. Skipping...\n",
      "number of examples for each digit: [100, 490, 735, 980, 1225, 1470]\n",
      "File 6digit_5000.txt already exists. Skipping...\n",
      "number of examples for each digit: [100, 690, 1035, 1380, 1725, 2070]\n",
      "File 6digit_7000.txt already exists. Skipping...\n",
      "number of examples for each digit: [100, 990, 1485, 1980, 2475, 2970]\n",
      "File 6digit_10000.txt already exists. Skipping...\n",
      "number of examples for each digit: [100, 1990, 2985, 3980, 4975, 5970]\n",
      "File 6digit_20000.txt already exists. Skipping...\n",
      "number of examples for each digit: [100, 4990, 7485, 9980, 12475, 14970]\n",
      "File 6digit_50000.txt already exists. Skipping...\n",
      "number of examples for each digit: [100, 9990, 14985, 19980, 24975, 29970]\n",
      "File 6digit_100000.txt already exists. Skipping...\n",
      "number of examples for each digit: [100, 10000, 39975, 39980, 49975, 59970]\n",
      "File 6digit_200000.txt already exists. Skipping...\n"
     ]
    }
   ],
   "source": [
    "n=6\n",
    "make_n_digit_examples(n=n, num_sample=100)\n",
    "make_n_digit_examples(n=n, num_sample=200)\n",
    "make_n_digit_examples(n=n, num_sample=500)\n",
    "make_n_digit_examples(n=n, num_sample=1000)\n",
    "make_n_digit_examples(n=n, num_sample=2000)\n",
    "make_n_digit_examples(n=n, num_sample=3000)\n",
    "make_n_digit_examples(n=n, num_sample=4000)\n",
    "make_n_digit_examples(n=n, num_sample=5000)\n",
    "make_n_digit_examples(n=n, num_sample=7000)\n",
    "make_n_digit_examples(n=n, num_sample=10000)\n",
    "make_n_digit_examples(n=n, num_sample=20000)\n",
    "make_n_digit_examples(n=n, num_sample=50000)\n",
    "make_n_digit_examples(n=n, num_sample=100000)\n",
    "make_n_digit_examples(n=n, num_sample=200000)"
   ]
  },
  {
   "cell_type": "code",
   "execution_count": 6,
   "metadata": {},
   "outputs": [
    {
     "name": "stdout",
     "output_type": "stream",
     "text": [
      "number of examples for each digit: [100, 0, 0, 0, 0, 0, 0, 0]\n",
      "File 8digit_100.txt already exists. Skipping...\n",
      "number of examples for each digit: [100, 34, 6, 8, 10, 12, 14, 16]\n",
      "File 8digit_200.txt already exists. Skipping...\n",
      "number of examples for each digit: [100, 37, 33, 44, 55, 66, 77, 88]\n",
      "File 8digit_500.txt already exists. Skipping...\n",
      "number of examples for each digit: [100, 75, 75, 100, 125, 150, 175, 200]\n",
      "File 8digit_1000.txt already exists. Skipping...\n",
      "number of examples for each digit: [100, 118, 162, 216, 270, 324, 378, 432]\n",
      "File 8digit_2000.txt already exists. Skipping...\n",
      "number of examples for each digit: [100, 280, 420, 560, 700, 840, 980, 1120]\n",
      "File 8digit_5000.txt already exists. Skipping...\n",
      "number of examples for each digit: [100, 399, 591, 788, 985, 1182, 1379, 1576]\n",
      "File 8digit_7000.txt already exists. Skipping...\n",
      "number of examples for each digit: [100, 594, 846, 1128, 1410, 1692, 1974, 2256]\n",
      "File 8digit_10000.txt already exists. Skipping...\n",
      "number of examples for each digit: [100, 1156, 1704, 2272, 2840, 3408, 3976, 4544]\n",
      "File 8digit_20000.txt already exists. Skipping...\n",
      "number of examples for each digit: [100, 2875, 4275, 5700, 7125, 8550, 9975, 11400]\n",
      "File 8digit_50000.txt already exists. Skipping...\n",
      "number of examples for each digit: [100, 5718, 8562, 11416, 14270, 17124, 19978, 22832]\n",
      "File 8digit_100000.txt already exists. Skipping...\n",
      "number of examples for each digit: [100, 10000, 18570, 22844, 28555, 34266, 39977, 45688]\n",
      "File 8digit_200000.txt already exists. Skipping...\n"
     ]
    }
   ],
   "source": [
    "n=8\n",
    "make_n_digit_examples(n=n, num_sample=100)\n",
    "make_n_digit_examples(n=n, num_sample=200)\n",
    "make_n_digit_examples(n=n, num_sample=500)\n",
    "make_n_digit_examples(n=n, num_sample=1000)\n",
    "make_n_digit_examples(n=n, num_sample=2000)\n",
    "make_n_digit_examples(n=n, num_sample=5000)\n",
    "make_n_digit_examples(n=n, num_sample=7000)\n",
    "make_n_digit_examples(n=n, num_sample=10000)\n",
    "make_n_digit_examples(n=n, num_sample=20000)\n",
    "make_n_digit_examples(n=n, num_sample=50000)\n",
    "make_n_digit_examples(n=n, num_sample=100000)\n",
    "make_n_digit_examples(n=n, num_sample=200000)"
   ]
  },
  {
   "cell_type": "code",
   "execution_count": 24,
   "metadata": {},
   "outputs": [
    {
     "name": "stdout",
     "output_type": "stream",
     "text": [
      "number of examples for each digit: [100, 132, 192, 256, 320]\n",
      "File 5digit_1000.txt already exists. Skipping...\n",
      "number of examples for each digit: [100, 700, 1050, 1400, 1750]\n",
      "File 5digit_5000.txt already exists. Skipping...\n",
      "number of examples for each digit: [100, 1416, 2121, 2828, 3535]\n",
      "File 5digit_10000.txt already exists. Skipping...\n",
      "number of examples for each digit: [100, 2848, 4263, 5684, 7105]\n",
      "File 5digit_20000.txt already exists. Skipping...\n",
      "number of examples for each digit: [100, 7132, 10692, 14256, 17820]\n",
      "File 5digit_50000.txt already exists. Skipping...\n"
     ]
    }
   ],
   "source": [
    "make_n_digit_examples(n=5, num_sample=500)\n",
    "make_n_digit_examples(n=5, num_sample=1000)\n",
    "make_n_digit_examples(n=5, num_sample=5000)\n",
    "make_n_digit_examples(n=5, num_sample=7000)\n",
    "make_n_digit_examples(n=5, num_sample=10000)\n",
    "make_n_digit_examples(n=5, num_sample=20000)\n",
    "make_n_digit_examples(n=5, num_sample=50000)\n",
    "make_n_digit_examples(n=5, num_sample=100000)\n"
   ]
  },
  {
   "cell_type": "code",
   "execution_count": 27,
   "metadata": {},
   "outputs": [
    {
     "name": "stdout",
     "output_type": "stream",
     "text": [
      "number of examples for each digit: [100, 68, 48, 64, 80, 96, 112, 128, 144, 160]\n",
      "File 10digit_1000.txt already exists. Skipping...\n",
      "number of examples for each digit: [100, 220, 270, 360, 450, 540, 630, 720, 810, 900]\n",
      "File 10digit_5000.txt already exists. Skipping...\n",
      "number of examples for each digit: [100, 384, 549, 732, 915, 1098, 1281, 1464, 1647, 1830]\n",
      "File 10digit_10000.txt already exists. Skipping...\n",
      "number of examples for each digit: [100, 1852, 2772, 3696, 4620, 5544, 6468, 7392, 8316, 9240]\n",
      "File 10digit_50000.txt already exists. Skipping...\n",
      "number of examples for each digit: [100, 3700, 5550, 7400, 9250, 11100, 12950, 14800, 16650, 18500]\n",
      "File 10digit_100000.txt already exists. Skipping...\n",
      "number of examples for each digit: [100, 10000, 36307, 37028, 46285, 55542, 64799, 74056, 83313, 92570]\n",
      "File 10digit_500000.txt already exists. Skipping...\n"
     ]
    }
   ],
   "source": [
    "make_n_digit_examples(n=10, num_sample=1000)\n",
    "make_n_digit_examples(n=10, num_sample=5000)\n",
    "make_n_digit_examples(n=10, num_sample=10000)\n",
    "make_n_digit_examples(n=10, num_sample=50000)\n",
    "make_n_digit_examples(n=10, num_sample=100000)\n",
    "make_n_digit_examples(n=10, num_sample=500000)"
   ]
  },
  {
   "cell_type": "code",
   "execution_count": 8,
   "metadata": {},
   "outputs": [
    {
     "name": "stdout",
     "output_type": "stream",
     "text": [
      "number of examples for each digit: [100, 0]\n",
      "File 2digit_100.txt already exists. Skipping...\n",
      "number of examples for each digit: [100, 100]\n",
      "File 2digit_200.txt already exists. Skipping...\n",
      "number of examples for each digit: [100, 400]\n",
      "File 2digit_500.txt already exists. Skipping...\n",
      "number of examples for each digit: [100, 900]\n",
      "File 2digit_1000.txt already exists. Skipping...\n",
      "number of examples for each digit: [100, 1900]\n",
      "File 2digit_2000.txt already exists. Skipping...\n",
      "number of examples for each digit: [100, 2900]\n",
      "File 2digit_3000.txt already exists. Skipping...\n",
      "number of examples for each digit: [100, 3900]\n",
      "File 2digit_4000.txt already exists. Skipping...\n",
      "number of examples for each digit: [100, 4900]\n",
      "File 2digit_5000.txt already exists. Skipping...\n",
      "number of examples for each digit: [100, 9900]\n",
      "File 2digit_10000.txt already exists. Skipping...\n"
     ]
    }
   ],
   "source": [
    "n=2\n",
    "make_n_digit_examples(n=n, num_sample=100)\n",
    "make_n_digit_examples(n=n, num_sample=200)\n",
    "make_n_digit_examples(n=n, num_sample=500)\n",
    "make_n_digit_examples(n=n, num_sample=1000)\n",
    "make_n_digit_examples(n=n, num_sample=2000)\n",
    "make_n_digit_examples(n=n, num_sample=3000)\n",
    "make_n_digit_examples(n=n, num_sample=4000)\n",
    "make_n_digit_examples(n=n, num_sample=5000)\n",
    "make_n_digit_examples(n=n, num_sample=10000)"
   ]
  },
  {
   "cell_type": "code",
   "execution_count": 10,
   "metadata": {},
   "outputs": [
    {
     "name": "stdout",
     "output_type": "stream",
     "text": [
      "number of examples for each digit: [100, 0, 0]\n",
      "File 3digit_100.txt already exists. Skipping...\n",
      "number of examples for each digit: [100, 40, 60]\n",
      "File 3digit_200.txt already exists. Skipping...\n",
      "number of examples for each digit: [100, 160, 240]\n",
      "File 3digit_500.txt already exists. Skipping...\n",
      "number of examples for each digit: [100, 360, 540]\n",
      "File 3digit_1000.txt already exists. Skipping...\n",
      "number of examples for each digit: [100, 760, 1140]\n",
      "File 3digit_2000.txt already exists. Skipping...\n",
      "number of examples for each digit: [100, 1160, 1740]\n",
      "File 3digit_3000.txt already exists. Skipping...\n",
      "number of examples for each digit: [100, 1560, 2340]\n",
      "File 3digit_4000.txt already exists. Skipping...\n",
      "number of examples for each digit: [100, 1960, 2940]\n",
      "File 3digit_5000.txt already exists. Skipping...\n",
      "number of examples for each digit: [100, 3960, 5940]\n",
      "File 3digit_10000.txt already exists. Skipping...\n",
      "number of examples for each digit: [100, 7960, 11940]\n",
      "File 3digit_20000.txt already exists. Skipping...\n",
      "number of examples for each digit: [100, 10000, 39900]\n",
      "File 3digit_50000.txt already exists. Skipping...\n"
     ]
    }
   ],
   "source": [
    "n=3\n",
    "make_n_digit_examples(n=n, num_sample=100)\n",
    "make_n_digit_examples(n=n, num_sample=200)\n",
    "make_n_digit_examples(n=n, num_sample=500)\n",
    "make_n_digit_examples(n=n, num_sample=1000)\n",
    "make_n_digit_examples(n=n, num_sample=2000)\n",
    "make_n_digit_examples(n=n, num_sample=3000)\n",
    "make_n_digit_examples(n=n, num_sample=4000)\n",
    "make_n_digit_examples(n=n, num_sample=5000)\n",
    "make_n_digit_examples(n=n, num_sample=10000)\n",
    "make_n_digit_examples(n=n, num_sample=20000)\n",
    "make_n_digit_examples(n=n, num_sample=50000)"
   ]
  },
  {
   "attachments": {},
   "cell_type": "markdown",
   "metadata": {},
   "source": [
    "# Make train examples for only n-digit"
   ]
  },
  {
   "cell_type": "code",
   "execution_count": 3,
   "metadata": {},
   "outputs": [],
   "source": [
    "def make_only_n_digit_examples(n=3, num_sample=10000):\n",
    "    if not os.path.exists(f\"only_{n}digit\"):\n",
    "        os.mkdir(f\"only_{n}digit\")\n",
    "        \n",
    "    filename = f\"only_{n}digit/{num_sample}.txt\"\n",
    "    \n",
    "    if os.path.exists(filename):\n",
    "        print(f\"File {filename} already exists. Skipping...\")\n",
    "        return\n",
    "\n",
    "    d = num_sample // n\n",
    "    p_list = [d for i in range(n)]\n",
    "    p_list[-1] += num_sample - sum(p_list)\n",
    "    \n",
    "    print(f\"number of examples for each digit: {p_list}\")\n",
    "    num_carry_list = [0 for i in range(n+1)]\n",
    "\n",
    "    count = 0\n",
    "    with open(filename, \"w\") as f:\n",
    "        digit_num = n\n",
    "        for k in range(1, digit_num+1):\n",
    "            for _ in range(p_list[k-1]):\n",
    "                i = random.randint(10**(digit_num-1), 10**digit_num-1)\n",
    "                j = random.randint(10**(k-1), 10**k-1)\n",
    "                if random.random() < 0.5:\n",
    "                    f.write(f\"{i}+{j}={i+j}\\n\")\n",
    "                else:\n",
    "                    f.write(f\"{j}+{i}={i+j}\\n\")\n",
    "                count += 1\n",
    "                num_carry = numCarryOps(i, j)\n",
    "                num_carry_list[num_carry] += 1\n",
    "\n",
    "    print(f\"number of examples for each carry: {num_carry_list}\")\n",
    "    print(f\"Total number of examples: {count}\")"
   ]
  },
  {
   "cell_type": "code",
   "execution_count": 14,
   "metadata": {},
   "outputs": [
    {
     "name": "stdout",
     "output_type": "stream",
     "text": [
      "number of examples for each digit: [50, 50]\n",
      "number of examples for each carry: [40, 40, 20]\n",
      "Total number of examples: 100\n",
      "number of examples for each digit: [100, 100]\n",
      "number of examples for each carry: [74, 97, 29]\n",
      "Total number of examples: 200\n",
      "number of examples for each digit: [250, 250]\n",
      "number of examples for each carry: [174, 246, 80]\n",
      "Total number of examples: 500\n",
      "number of examples for each digit: [500, 500]\n",
      "number of examples for each carry: [342, 472, 186]\n",
      "Total number of examples: 1000\n",
      "number of examples for each digit: [1000, 1000]\n",
      "number of examples for each carry: [737, 908, 355]\n",
      "Total number of examples: 2000\n",
      "number of examples for each digit: [2500, 2500]\n",
      "number of examples for each carry: [1844, 2290, 866]\n",
      "Total number of examples: 5000\n",
      "number of examples for each digit: [5000, 5000]\n",
      "number of examples for each carry: [3711, 4584, 1705]\n",
      "Total number of examples: 10000\n"
     ]
    }
   ],
   "source": [
    "n = 2\n",
    "make_only_n_digit_examples(n=n, num_sample=100)\n",
    "make_only_n_digit_examples(n=n, num_sample=200)\n",
    "make_only_n_digit_examples(n=n, num_sample=500)\n",
    "make_only_n_digit_examples(n=n, num_sample=1000)\n",
    "make_only_n_digit_examples(n=n, num_sample=2000)\n",
    "make_only_n_digit_examples(n=n, num_sample=5000)\n",
    "make_only_n_digit_examples(n=n, num_sample=10000)"
   ]
  },
  {
   "cell_type": "code",
   "execution_count": 13,
   "metadata": {},
   "outputs": [
    {
     "name": "stdout",
     "output_type": "stream",
     "text": [
      "number of examples for each digit: [33, 33, 34]\n",
      "number of examples for each carry: [32, 38, 22, 8]\n",
      "Total number of examples: 100\n",
      "number of examples for each digit: [66, 66, 68]\n",
      "number of examples for each carry: [60, 98, 34, 8]\n",
      "Total number of examples: 200\n",
      "number of examples for each digit: [166, 166, 168]\n",
      "number of examples for each carry: [146, 206, 119, 29]\n",
      "Total number of examples: 500\n",
      "number of examples for each digit: [333, 333, 334]\n",
      "number of examples for each carry: [320, 388, 219, 73]\n",
      "Total number of examples: 1000\n",
      "number of examples for each digit: [666, 666, 668]\n",
      "number of examples for each carry: [616, 802, 464, 118]\n",
      "Total number of examples: 2000\n",
      "number of examples for each digit: [1666, 1666, 1668]\n",
      "number of examples for each carry: [1544, 2000, 1134, 322]\n",
      "Total number of examples: 5000\n",
      "number of examples for each digit: [3333, 3333, 3334]\n",
      "number of examples for each carry: [3014, 4077, 2280, 629]\n",
      "Total number of examples: 10000\n"
     ]
    }
   ],
   "source": [
    "n = 3\n",
    "make_only_n_digit_examples(n=n, num_sample=100)\n",
    "make_only_n_digit_examples(n=n, num_sample=200)\n",
    "make_only_n_digit_examples(n=n, num_sample=500)\n",
    "make_only_n_digit_examples(n=n, num_sample=1000)\n",
    "make_only_n_digit_examples(n=n, num_sample=2000)\n",
    "make_only_n_digit_examples(n=n, num_sample=5000)\n",
    "make_only_n_digit_examples(n=n, num_sample=10000)"
   ]
  },
  {
   "cell_type": "code",
   "execution_count": null,
   "metadata": {},
   "outputs": [],
   "source": []
  },
  {
   "cell_type": "code",
   "execution_count": 8,
   "metadata": {},
   "outputs": [
    {
     "name": "stdout",
     "output_type": "stream",
     "text": [
      "File only_4digit/100.txt already exists. Skipping...\n",
      "File only_4digit/200.txt already exists. Skipping...\n",
      "File only_4digit/500.txt already exists. Skipping...\n",
      "File only_4digit/1000.txt already exists. Skipping...\n",
      "File only_4digit/2000.txt already exists. Skipping...\n",
      "File only_4digit/5000.txt already exists. Skipping...\n",
      "File only_4digit/10000.txt already exists. Skipping...\n",
      "number of examples for each digit: [12500, 12500, 12500, 12500]\n",
      "number of examples for each carry: [12620, 17914, 12491, 5571, 1404]\n",
      "Total number of examples: 50000\n"
     ]
    }
   ],
   "source": [
    "make_only_n_digit_examples(n=4, num_sample=100)\n",
    "make_only_n_digit_examples(n=4, num_sample=200)\n",
    "make_only_n_digit_examples(n=4, num_sample=500)\n",
    "make_only_n_digit_examples(n=4, num_sample=1000)\n",
    "make_only_n_digit_examples(n=4, num_sample=2000)\n",
    "make_only_n_digit_examples(n=4, num_sample=5000)\n",
    "make_only_n_digit_examples(n=4, num_sample=10000)\n",
    "make_only_n_digit_examples(n=4, num_sample=50000)"
   ]
  },
  {
   "cell_type": "code",
   "execution_count": 7,
   "metadata": {},
   "outputs": [
    {
     "name": "stdout",
     "output_type": "stream",
     "text": [
      "File only_6digit/100.txt already exists. Skipping...\n",
      "File only_6digit/200.txt already exists. Skipping...\n",
      "File only_6digit/500.txt already exists. Skipping...\n",
      "File only_6digit/1000.txt already exists. Skipping...\n",
      "File only_6digit/2000.txt already exists. Skipping...\n",
      "File only_6digit/5000.txt already exists. Skipping...\n",
      "File only_6digit/10000.txt already exists. Skipping...\n",
      "number of examples for each digit: [8333, 8333, 8333, 8333, 8333, 8335]\n",
      "number of examples for each carry: [9052, 14224, 12361, 8271, 4251, 1556, 285]\n",
      "Total number of examples: 50000\n"
     ]
    }
   ],
   "source": [
    "n = 6\n",
    "make_only_n_digit_examples(n=n, num_sample=100)\n",
    "make_only_n_digit_examples(n=n, num_sample=200)\n",
    "make_only_n_digit_examples(n=n, num_sample=500)\n",
    "make_only_n_digit_examples(n=n, num_sample=1000)\n",
    "make_only_n_digit_examples(n=n, num_sample=2000)\n",
    "make_only_n_digit_examples(n=n, num_sample=5000)\n",
    "make_only_n_digit_examples(n=n, num_sample=10000)\n",
    "make_only_n_digit_examples(n=n, num_sample=50000)"
   ]
  },
  {
   "cell_type": "code",
   "execution_count": 9,
   "metadata": {},
   "outputs": [
    {
     "name": "stdout",
     "output_type": "stream",
     "text": [
      "File only_8digit/100.txt already exists. Skipping...\n",
      "File only_8digit/200.txt already exists. Skipping...\n",
      "File only_8digit/500.txt already exists. Skipping...\n",
      "File only_8digit/1000.txt already exists. Skipping...\n",
      "File only_8digit/2000.txt already exists. Skipping...\n",
      "File only_8digit/5000.txt already exists. Skipping...\n",
      "File only_8digit/10000.txt already exists. Skipping...\n",
      "number of examples for each digit: [6250, 6250, 6250, 6250, 6250, 6250, 6250, 6250]\n",
      "number of examples for each carry: [6806, 11343, 10957, 9090, 6304, 3529, 1472, 434, 65]\n",
      "Total number of examples: 50000\n"
     ]
    }
   ],
   "source": [
    "n = 8\n",
    "make_only_n_digit_examples(n=n, num_sample=100)\n",
    "make_only_n_digit_examples(n=n, num_sample=200)\n",
    "make_only_n_digit_examples(n=n, num_sample=500)\n",
    "make_only_n_digit_examples(n=n, num_sample=1000)\n",
    "make_only_n_digit_examples(n=n, num_sample=2000)\n",
    "make_only_n_digit_examples(n=n, num_sample=5000)\n",
    "make_only_n_digit_examples(n=n, num_sample=10000)\n",
    "make_only_n_digit_examples(n=n, num_sample=50000)"
   ]
  },
  {
   "cell_type": "code",
   "execution_count": null,
   "metadata": {},
   "outputs": [],
   "source": []
  },
  {
   "attachments": {},
   "cell_type": "markdown",
   "metadata": {},
   "source": [
    "# Make test examples for each digit (100 samples)"
   ]
  },
  {
   "cell_type": "code",
   "execution_count": 1,
   "metadata": {},
   "outputs": [],
   "source": [
    "# with open('test_1digit_100.txt', \"w\") as f:\n",
    "#     for i in range(10):\n",
    "#         for j in range(10):\n",
    "#             f.write(f\"{i}+{j}={i+j}\\n\")"
   ]
  },
  {
   "cell_type": "code",
   "execution_count": 3,
   "metadata": {},
   "outputs": [],
   "source": [
    "def make_n_digit_test_examples(n=3, num_sample=100):\n",
    "    filename = f\"test_{n}digit_{num_sample}.txt\"\n",
    "    \n",
    "    if os.path.exists(filename):\n",
    "        print(f\"File {filename} already exists. Skipping...\")\n",
    "        return\n",
    "\n",
    "    with open(filename, \"w\") as f:\n",
    "        for _ in range(num_sample):\n",
    "            i = random.randint(0, 10**n-1)\n",
    "            j = random.randint(0, 10**n-1)\n",
    "            f.write(f\"{i}+{j}={i+j}\\n\")"
   ]
  },
  {
   "cell_type": "code",
   "execution_count": 30,
   "metadata": {},
   "outputs": [],
   "source": [
    "make_n_digit_test_examples(n=2, num_sample=100)\n",
    "make_n_digit_test_examples(n=3, num_sample=100)\n",
    "make_n_digit_test_examples(n=4, num_sample=100)\n",
    "make_n_digit_test_examples(n=5, num_sample=100)\n",
    "make_n_digit_test_examples(n=6, num_sample=100)\n",
    "make_n_digit_test_examples(n=7, num_sample=100)\n",
    "make_n_digit_test_examples(n=8, num_sample=100)\n",
    "make_n_digit_test_examples(n=9, num_sample=100)\n",
    "make_n_digit_test_examples(n=10, num_sample=100)"
   ]
  },
  {
   "cell_type": "code",
   "execution_count": 31,
   "metadata": {},
   "outputs": [],
   "source": [
    "make_n_digit_test_examples(n=2, num_sample=10000)\n",
    "make_n_digit_test_examples(n=3, num_sample=10000)\n",
    "make_n_digit_test_examples(n=4, num_sample=10000)\n",
    "make_n_digit_test_examples(n=5, num_sample=10000)\n",
    "make_n_digit_test_examples(n=6, num_sample=10000)\n",
    "make_n_digit_test_examples(n=7, num_sample=10000)\n",
    "make_n_digit_test_examples(n=8, num_sample=10000)\n",
    "make_n_digit_test_examples(n=9, num_sample=10000)\n",
    "make_n_digit_test_examples(n=10, num_sample=10000)"
   ]
  },
  {
   "cell_type": "code",
   "execution_count": 4,
   "metadata": {},
   "outputs": [],
   "source": [
    "make_n_digit_test_examples(n=2, num_sample=1000)\n",
    "make_n_digit_test_examples(n=3, num_sample=1000)\n",
    "make_n_digit_test_examples(n=4, num_sample=1000)\n",
    "make_n_digit_test_examples(n=5, num_sample=1000)\n",
    "make_n_digit_test_examples(n=6, num_sample=1000)\n",
    "make_n_digit_test_examples(n=7, num_sample=1000)\n",
    "make_n_digit_test_examples(n=8, num_sample=1000)\n",
    "make_n_digit_test_examples(n=9, num_sample=1000)\n",
    "make_n_digit_test_examples(n=10, num_sample=1000)"
   ]
  },
  {
   "cell_type": "code",
   "execution_count": null,
   "metadata": {},
   "outputs": [],
   "source": []
  }
 ],
 "metadata": {
  "kernelspec": {
   "display_name": "nanogpt",
   "language": "python",
   "name": "python3"
  },
  "language_info": {
   "codemirror_mode": {
    "name": "ipython",
    "version": 3
   },
   "file_extension": ".py",
   "mimetype": "text/x-python",
   "name": "python",
   "nbconvert_exporter": "python",
   "pygments_lexer": "ipython3",
   "version": "3.8.12"
  },
  "orig_nbformat": 4
 },
 "nbformat": 4,
 "nbformat_minor": 2
}
