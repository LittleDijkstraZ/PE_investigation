{
 "cells": [
  {
   "cell_type": "code",
   "execution_count": 4,
   "metadata": {},
   "outputs": [],
   "source": [
    "import os\n",
    "import pickle\n",
    "import requests\n",
    "import numpy as np\n",
    "import random\n",
    "import math"
   ]
  },
  {
   "cell_type": "code",
   "execution_count": 15,
   "metadata": {},
   "outputs": [],
   "source": [
    "total_num_examples = 4000 #1000 #20000 #5000 #2000\n",
    "num_digits = 3\n"
   ]
  },
  {
   "cell_type": "code",
   "execution_count": 16,
   "metadata": {},
   "outputs": [],
   "source": [
    "num_digit_2 = int(900*total_num_examples/10000)\n",
    "num_digit_list = [100, num_digit_2, total_num_examples - 100 - num_digit_2]\n",
    "\n",
    "target_num_carry_examples = math.ceil(total_num_examples / (num_digits+1))\n",
    "num_carry_list = [0 for i in range(num_digits+1)]\n",
    "\n",
    "input_file_path = f'add_examples_{total_num_examples}.txt'\n",
    "output_file_path = f'add_examples_{total_num_examples}_shuffled.txt'"
   ]
  },
  {
   "cell_type": "code",
   "execution_count": 17,
   "metadata": {},
   "outputs": [],
   "source": [
    "def numCarryOps(a, b):\n",
    "    a,b=int(a),int(b)\n",
    "    def digitSum(n):\n",
    "        return sum(map(int,str(n)))\n",
    "    # assert(a >= 0); assert(b >= 0);\n",
    "    return int((digitSum(a) + digitSum(b) - digitSum(a+b)) / 9)"
   ]
  },
  {
   "cell_type": "code",
   "execution_count": 18,
   "metadata": {},
   "outputs": [
    {
     "name": "stdout",
     "output_type": "stream",
     "text": [
      "1 100 0 [0, 0, 0, 0]\n",
      "2 360 100 [60, 40, 0, 0]\n",
      "3 3540 460 [173, 197, 90, 0]\n"
     ]
    }
   ],
   "source": [
    "# print('making examples of a+b=c')\n",
    "if not os.path.exists(input_file_path):\n",
    "    with open(input_file_path, 'w') as f:\n",
    "        num_example = 0\n",
    "        for num_digit in range(1, num_digits+1):\n",
    "            num_digit_example = 0\n",
    "            print(num_digit, num_digit_list[num_digit-1], num_example, num_carry_list)\n",
    "            while num_digit_example < num_digit_list[num_digit-1] and num_example < total_num_examples:\n",
    "            # generate a random number between 0 and 10^(i+1) - 1\n",
    "                a = random.randint(0, 10**(num_digit) - 1)\n",
    "                b = random.randint(0, 10**(num_digit) - 1)\n",
    "                c = a + b\n",
    "\n",
    "                # count number of carries in c\n",
    "                num_carry = numCarryOps(a, b)\n",
    "                if num_carry_list[num_carry] < target_num_carry_examples:\n",
    "                    # write the example to file\n",
    "                    f.write(f'${a}+{b}={c}$\\n')\n",
    "                    # increment num_carry_list[num_carry]\n",
    "                    num_carry_list[num_carry] += 1\n",
    "                    num_digit_example += 1\n",
    "                    num_example += 1\n",
    "                else:\n",
    "                    continue\n",
    "\n",
    "\n",
    "    with open(input_file_path, 'r') as f:\n",
    "            lines = f.readlines()\n",
    "            random.shuffle(lines)\n",
    "            with open(output_file_path, 'w') as f:\n",
    "                f.writelines(lines)"
   ]
  },
  {
   "cell_type": "code",
   "execution_count": 19,
   "metadata": {},
   "outputs": [
    {
     "name": "stdout",
     "output_type": "stream",
     "text": [
      "length of dataset in characters: 55,585\n",
      "all the unique characters: \n",
      "$+0123456789=\n",
      "vocab size: 14\n",
      "train has 55,585 tokens\n"
     ]
    }
   ],
   "source": [
    "with open(output_file_path, 'r') as f:\n",
    "    data = f.read()\n",
    "print(f\"length of dataset in characters: {len(data):,}\")\n",
    "\n",
    "# get all the unique characters that occur in this text\n",
    "chars = sorted(list(set(data)))\n",
    "vocab_size = len(chars)\n",
    "print(\"all the unique characters:\", ''.join(chars))\n",
    "print(f\"vocab size: {vocab_size:,}\")\n",
    "\n",
    "# create a mapping from characters to integers\n",
    "stoi = { ch:i for i,ch in enumerate(chars) }\n",
    "itos = { i:ch for i,ch in enumerate(chars) }\n",
    "def encode(s):\n",
    "    return [stoi[c] for c in s] # encoder: take a string, output a list of integers\n",
    "def decode(l):\n",
    "    ''.join([itos[i] for i in l]) # decoder: take a list of integers, output a string\n",
    "\n",
    "# create the train and test splits\n",
    "# n = len(data) # 130,023\n",
    "# train_data = data[:int(n*0.9)]\n",
    "# val_data = data[int(n*0.9):]\n",
    "\n",
    "# encode both to integers\n",
    "train_ids = encode(data)\n",
    "# val_ids = encode(val_data)\n",
    "print(f\"train has {len(train_ids):,} tokens\")\n",
    "# print(f\"val has {len(val_ids):,} tokens\")\n",
    "\n",
    "# export to bin files\n",
    "train_ids = np.array(train_ids, dtype=np.uint16)\n",
    "# val_ids = np.array(val_ids, dtype=np.uint16)\n",
    "train_ids.tofile(f'train_{total_num_examples}.bin')\n",
    "# val_ids.tofile(f'val_{total_num_examples}.bin')\n",
    "\n",
    "# save the meta information as well, to help us encode/decode later\n",
    "meta = {\n",
    "    'vocab_size': vocab_size,\n",
    "    'itos': itos,\n",
    "    'stoi': stoi,\n",
    "}\n",
    "with open(f'meta.pkl', 'wb') as f:\n",
    "    pickle.dump(meta, f)\n",
    "\n",
    "\n",
    "# length of dataset in characters: 142,699\n",
    "# all the unique characters: \n",
    "# $+0123456789=\n",
    "# vocab size: 14\n",
    "# train has 128,429 tokens\n",
    "# val has 14,270 tokens"
   ]
  },
  {
   "cell_type": "code",
   "execution_count": null,
   "metadata": {},
   "outputs": [],
   "source": []
  },
  {
   "cell_type": "code",
   "execution_count": null,
   "metadata": {},
   "outputs": [],
   "source": []
  }
 ],
 "metadata": {
  "kernelspec": {
   "display_name": "nanogpt",
   "language": "python",
   "name": "python3"
  },
  "language_info": {
   "codemirror_mode": {
    "name": "ipython",
    "version": 3
   },
   "file_extension": ".py",
   "mimetype": "text/x-python",
   "name": "python",
   "nbconvert_exporter": "python",
   "pygments_lexer": "ipython3",
   "version": "3.8.10"
  },
  "orig_nbformat": 4,
  "vscode": {
   "interpreter": {
    "hash": "a2ba5c7570592e86f20458013332ec3c55b0ae10b9d5b24be29cc9bc24858e1a"
   }
  }
 },
 "nbformat": 4,
 "nbformat_minor": 2
}
