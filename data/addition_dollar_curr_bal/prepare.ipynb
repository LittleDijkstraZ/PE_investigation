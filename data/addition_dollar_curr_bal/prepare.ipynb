{
 "cells": [
  {
   "cell_type": "code",
   "execution_count": 1,
   "metadata": {},
   "outputs": [],
   "source": [
    "import os\n",
    "import pickle\n",
    "import requests\n",
    "import numpy as np\n",
    "import random"
   ]
  },
  {
   "cell_type": "code",
   "execution_count": 2,
   "metadata": {},
   "outputs": [
    {
     "name": "stdout",
     "output_type": "stream",
     "text": [
      "1000\n"
     ]
    }
   ],
   "source": [
    "def make_addition_examples_v2(curriculum_list):\n",
    "    # print('making examples of a+b=c')\n",
    "    # if not os.path.exists(input_file_path):\n",
    "    count = 0\n",
    "    num_two_digit = 0\n",
    "    for a in range(100):\n",
    "        for b in range(100):\n",
    "            if a < 10 and b < 10: p = 100/100\n",
    "            elif a < 100 and b < 100: p = 900/(100*100-10*10)\n",
    "            \n",
    "            pp = random.uniform(0,1)\n",
    "            if pp > p:\n",
    "                continue\n",
    "            \n",
    "            if a < 100 and b < 100:\n",
    "                num_two_digit +=1 \n",
    "                \n",
    "            c = a + b\n",
    "\n",
    "            curriculum_list.append(f\"${a}+{b}={c}$\\n\")\n",
    "        \n",
    "            count += 1\n",
    "                    \n",
    "    # print(f'{num_two_digit} - 2 digit numbers')\n",
    "\n",
    "    return count, curriculum_list\n",
    "\n",
    "# make_addition_examples_v2(curriculum_list)\n",
    "\n",
    "while True:\n",
    "    curriculum_list = []\n",
    "    count, curriculum_list = make_addition_examples_v2(curriculum_list)\n",
    "    if count == 1000:\n",
    "        break\n",
    "\n",
    "print(len(curriculum_list))\n"
   ]
  },
  {
   "cell_type": "code",
   "execution_count": 3,
   "metadata": {},
   "outputs": [],
   "source": [
    "def numCarryOps(a, b):\n",
    "    a,b=int(a),int(b)\n",
    "    def digitSum(n):\n",
    "        return sum(map(int,str(n)))\n",
    "    # assert(a >= 0); assert(b >= 0);\n",
    "    return int((digitSum(a) + digitSum(b) - digitSum(a+b)) / 9)"
   ]
  },
  {
   "cell_type": "code",
   "execution_count": 4,
   "metadata": {},
   "outputs": [
    {
     "name": "stdout",
     "output_type": "stream",
     "text": [
      "[352, 421, 227, 0]\n"
     ]
    }
   ],
   "source": [
    "num_carries = [0, 0, 0, 0]\n",
    "for example in curriculum_list:\n",
    "    [a, b] = example.split('+')\n",
    "    a = a[1:]\n",
    "    b = b.split('=')[0]\n",
    "    num_carry = numCarryOps(a,b)\n",
    "    \n",
    "    if num_carry == 0:\n",
    "        num_carries[0] += 1\n",
    "    elif num_carry == 1:\n",
    "        num_carries[1] += 1\n",
    "    elif num_carry == 2:\n",
    "        num_carries[2] += 1\n",
    "\n",
    "print(num_carries)"
   ]
  },
  {
   "cell_type": "code",
   "execution_count": 5,
   "metadata": {},
   "outputs": [
    {
     "name": "stdout",
     "output_type": "stream",
     "text": [
      "163350 354375 336150 136125\n"
     ]
    }
   ],
   "source": [
    "carry_0_list = []\n",
    "carry_1_list = []\n",
    "carry_2_list = []\n",
    "carry_3_list = []\n",
    "\n",
    "for a in range(1000):\n",
    "    for b in range(1000):\n",
    "            if a < 100 and b < 100:\n",
    "                continue\n",
    "            num_carry = numCarryOps(a,b)\n",
    "            c = a + b\n",
    "\n",
    "            if num_carry == 0:\n",
    "                carry_0_list.append(f\"${a}+{b}={c}$\\n\")\n",
    "            elif num_carry == 1:\n",
    "                carry_1_list.append(f\"${a}+{b}={c}$\\n\")\n",
    "            elif num_carry == 2:\n",
    "                carry_2_list.append(f\"${a}+{b}={c}$\\n\")\n",
    "            else:\n",
    "                carry_3_list.append(f\"${a}+{b}={c}$\\n\")\n",
    "\n",
    "print(len(carry_0_list),len(carry_1_list),len(carry_2_list),len(carry_3_list))"
   ]
  },
  {
   "cell_type": "code",
   "execution_count": 6,
   "metadata": {},
   "outputs": [
    {
     "data": {
      "text/plain": [
       "990000"
      ]
     },
     "execution_count": 6,
     "metadata": {},
     "output_type": "execute_result"
    }
   ],
   "source": [
    "163350 + 354375 + 336150 + 136125"
   ]
  },
  {
   "cell_type": "code",
   "execution_count": 7,
   "metadata": {},
   "outputs": [],
   "source": [
    "def make_addition_examples_balanced():\n",
    "    print('making balanced (in terms of # of carry) examples of a+b=c')\n",
    "    # if not os.path.exists(input_file_path):\n",
    "    \n",
    "    carry_lists = [carry_0_list, carry_1_list, carry_2_list, carry_3_list]\n",
    "\n",
    "    with open(input_file_path, 'w+') as f:\n",
    "        count = 0\n",
    "        for example in curriculum_list:\n",
    "            f.write(example)\n",
    "            count += 1\n",
    "            \n",
    "        for i, carry_list in enumerate(carry_lists):\n",
    "            for example in random.sample(carry_list,2500 - num_carries[i]):\n",
    "                f.write(example)\n",
    "                count += 1\n",
    "\n",
    "    print(f'{count} number of samples saved to {input_file_path}')\n"
   ]
  },
  {
   "cell_type": "code",
   "execution_count": 8,
   "metadata": {},
   "outputs": [
    {
     "name": "stdout",
     "output_type": "stream",
     "text": [
      "making balanced (in terms of # of carry) examples of a+b=c\n",
      "10000 number of samples saved to add_examples_balanced.txt\n"
     ]
    }
   ],
   "source": [
    "# download the tiny shakespeare dataset\n",
    "input_file_path =  'add_examples_balanced.txt'\n",
    "# if not os.path.exists(input_file_path):\n",
    "#     make_addition_examples_v2(pad=True)\n",
    "make_addition_examples_balanced()\n",
    "\n"
   ]
  },
  {
   "cell_type": "code",
   "execution_count": 9,
   "metadata": {},
   "outputs": [
    {
     "name": "stdout",
     "output_type": "stream",
     "text": [
      "length of dataset in characters: 140,027\n",
      "all the unique characters: \n",
      "$+0123456789=\n",
      "vocab size: 14\n",
      "train has 126,024 tokens\n",
      "val has 14,003 tokens\n"
     ]
    }
   ],
   "source": [
    "with open(input_file_path, 'r') as f:\n",
    "    data = f.read()\n",
    "print(f\"length of dataset in characters: {len(data):,}\")\n",
    "\n",
    "# get all the unique characters that occur in this text\n",
    "chars = sorted(list(set(data)))\n",
    "vocab_size = len(chars)\n",
    "print(\"all the unique characters:\", ''.join(chars))\n",
    "print(f\"vocab size: {vocab_size:,}\")\n",
    "\n",
    "# create a mapping from characters to integers\n",
    "stoi = { ch:i for i,ch in enumerate(chars) }\n",
    "itos = { i:ch for i,ch in enumerate(chars) }\n",
    "def encode(s):\n",
    "    return [stoi[c] for c in s] # encoder: take a string, output a list of integers\n",
    "def decode(l):\n",
    "    ''.join([itos[i] for i in l]) # decoder: take a list of integers, output a string\n",
    "\n",
    "# create the train and test splits\n",
    "n = len(data) # 130,023\n",
    "train_data = data[:int(n*0.9)]\n",
    "val_data = data[int(n*0.9):]\n",
    "\n",
    "# encode both to integers\n",
    "train_ids = encode(train_data)\n",
    "val_ids = encode(val_data)\n",
    "print(f\"train has {len(train_ids):,} tokens\")\n",
    "print(f\"val has {len(val_ids):,} tokens\")\n",
    "\n",
    "# export to bin files\n",
    "train_ids = np.array(train_ids, dtype=np.uint16)\n",
    "val_ids = np.array(val_ids, dtype=np.uint16)\n",
    "train_ids.tofile(f'train.bin')\n",
    "val_ids.tofile(f'val.bin')\n",
    "\n",
    "# save the meta information as well, to help us encode/decode later\n",
    "meta = {\n",
    "    'vocab_size': vocab_size,\n",
    "    'itos': itos,\n",
    "    'stoi': stoi,\n",
    "}\n",
    "with open(f'meta.pkl', 'wb') as f:\n",
    "    pickle.dump(meta, f)\n",
    "\n",
    "\n",
    "# length of dataset in characters: 142,699\n",
    "# all the unique characters: \n",
    "# $+0123456789=\n",
    "# vocab size: 14\n",
    "# train has 128,429 tokens\n",
    "# val has 14,270 tokens"
   ]
  },
  {
   "cell_type": "code",
   "execution_count": 11,
   "metadata": {},
   "outputs": [
    {
     "name": "stdout",
     "output_type": "stream",
     "text": [
      "[2500, 2500, 2500, 2500]\n"
     ]
    }
   ],
   "source": [
    "num_carries = [0, 0, 0, 0]\n",
    "input_file_path = 'add_examples_balanced.txt'\n",
    "\n",
    "with open(input_file_path, 'r') as f:\n",
    "    for example in f.readlines():\n",
    "        [a, b] = example.split('+')\n",
    "        a = a[1:]\n",
    "        b = b.split('=')[0]\n",
    "        num_carry = numCarryOps(a,b)\n",
    "        \n",
    "        if num_carry == 0:\n",
    "            num_carries[0] += 1\n",
    "        elif num_carry == 1:\n",
    "            num_carries[1] += 1\n",
    "        elif num_carry == 2:\n",
    "            num_carries[2] += 1\n",
    "        elif num_carry == 3:\n",
    "            num_carries[3] += 1\n",
    "\n",
    "    print(num_carries)"
   ]
  },
  {
   "cell_type": "code",
   "execution_count": null,
   "metadata": {},
   "outputs": [],
   "source": []
  },
  {
   "cell_type": "code",
   "execution_count": null,
   "metadata": {},
   "outputs": [],
   "source": []
  }
 ],
 "metadata": {
  "kernelspec": {
   "display_name": "nanogpt",
   "language": "python",
   "name": "python3"
  },
  "language_info": {
   "codemirror_mode": {
    "name": "ipython",
    "version": 3
   },
   "file_extension": ".py",
   "mimetype": "text/x-python",
   "name": "python",
   "nbconvert_exporter": "python",
   "pygments_lexer": "ipython3",
   "version": "3.8.12"
  },
  "orig_nbformat": 4,
  "vscode": {
   "interpreter": {
    "hash": "a2ba5c7570592e86f20458013332ec3c55b0ae10b9d5b24be29cc9bc24858e1a"
   }
  }
 },
 "nbformat": 4,
 "nbformat_minor": 2
}
