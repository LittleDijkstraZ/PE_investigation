{
 "cells": [
  {
   "cell_type": "code",
   "execution_count": 1,
   "metadata": {},
   "outputs": [],
   "source": [
    "import os\n",
    "import pickle\n",
    "import requests\n",
    "import numpy as np\n",
    "import random\n",
    "import re"
   ]
  },
  {
   "cell_type": "code",
   "execution_count": 2,
   "metadata": {},
   "outputs": [
    {
     "name": "stdout",
     "output_type": "stream",
     "text": [
      "[1, 2, 8]\n",
      "[1,2,8]\n"
     ]
    }
   ],
   "source": [
    "x = 128\n",
    "def list_to_string(a):\n",
    "    a = str(a)\n",
    "    return a.replace(' ', '')\n",
    "\n",
    "def num_to_list(num):\n",
    "    return [int(x) for x in str(num)]\n",
    "\n",
    "list_x = num_to_list(x)\n",
    "print(list_x)\n",
    "print(list_to_string(list_x))"
   ]
  },
  {
   "cell_type": "code",
   "execution_count": 3,
   "metadata": {},
   "outputs": [],
   "source": [
    "def get_input_string(x,y):\n",
    "    x, y = str(x), str(y)\n",
    "    input_str = f'Input:\\n{x}+{y}\\n'\n",
    "\n",
    "    return input_str\n",
    "\n",
    "def get_output_string(x,y):\n",
    "    x, y = str(x), str(y)\n",
    "\n",
    "    len_x, len_y = len(x), len(y)\n",
    "    list_x, list_y = num_to_list(x), num_to_list(y)\n",
    "\n",
    "    output_str = f'Target:\\n<scratch>\\n'\n",
    "\n",
    "    output_str += f'{list_to_string(list_x)} has {len_x} digits.\\n'\n",
    "    output_str += f'{list_to_string(list_y)} has {len_y} digits.\\n'\n",
    "\n",
    "    C=0\n",
    "    A=[]\n",
    "    for i in range(max(len_x, len_y)):\n",
    "        a = list_x[-1] if i < len_x else 0\n",
    "        b = list_y[-1] if i < len_y else 0\n",
    "        c = a + b + C\n",
    "        \n",
    "        output_str += f'{list_to_string(list_x)} + {list_to_string(list_y)} , A={list_to_string(A)} , C={C} , {a}+{b}+{C}={c} , A->{c%10} , C->{c//10}\\n'\n",
    "\n",
    "        A.insert(0, c % 10)\n",
    "        C = c // 10\n",
    "\n",
    "        list_x = list_x[:-1]\n",
    "        list_y = list_y[:-1]\n",
    "\n",
    "    output_str += f'{list_to_string(list_x)} + {list_to_string(list_y)} , A={list_to_string(A)} C={C} , END\\n</scratch>\\n'\n",
    "    if C == 1:\n",
    "        A.insert(0, 1)\n",
    "    for a in A:\n",
    "        output_str += f'{a} '\n",
    "\n",
    "    return output_str[:-1]+'\\n'"
   ]
  },
  {
   "cell_type": "code",
   "execution_count": 21,
   "metadata": {},
   "outputs": [],
   "source": [
    "def make_addition_test_examples():\n",
    "    input_file_path =  f'prompt_addition_test.txt'\n",
    "\n",
    "    print(input_file_path)\n",
    "    # if not os.path.exists(input_file_path):\n",
    "    with open(input_file_path, 'w') as f:\n",
    "        for a in range(1000):\n",
    "            for b in range(1000):\n",
    "                c = a + b\n",
    "                f.write(f\"${a}+{b}=\\n\")\n",
    "\n",
    "def make_addition_test_subexamples(p=0.1, output=None, input=None):\n",
    "    print(input, output)\n",
    "    if not output is None and not input is None:\n",
    "        test = input\n",
    "        output_file_path = output\n",
    "    else:\n",
    "        test='prompt_addition_nonoverlap.txt'\n",
    "        output_file_path = f'prompt_addition_test_{p}.txt'\n",
    "    print(output_file_path)\n",
    "    # if not os.path.exists(input_file_path):\n",
    "    with open(output_file_path, 'w') as f:\n",
    "        with open(test, 'r') as ft:\n",
    "            data = ft.read()\n",
    "            data_stripped = data.split('\\n')[:-1]\n",
    "            num_samples = len(data_stripped)\n",
    "            subsampled = [data_stripped[i] for i in sorted(random.sample(range(len(data_stripped)), int(num_samples * p)))]\n",
    "            # subsampled = random.sample(data_stripped, int(num_samples * p))\n",
    "            for subsample in subsampled:\n",
    "                x, y = re.split('\\$|\\+|=',subsample)[1:3]\n",
    "                input_str = get_input_string(x,y)\n",
    "                f.write(input_str)\n",
    "\n"
   ]
  },
  {
   "cell_type": "code",
   "execution_count": null,
   "metadata": {},
   "outputs": [],
   "source": [
    "# make_addition_test_examples()"
   ]
  },
  {
   "cell_type": "code",
   "execution_count": 5,
   "metadata": {},
   "outputs": [],
   "source": [
    "# create non-overlapping pairs of train/test\n",
    "# input_file_path = 'add_examples_balanced.txt'\n",
    "# output_file_path = 'prompt_addition_nonoverlap.txt'\n",
    "\n",
    "# lines_to_remove = set()\n",
    "# with open(input_file_path, \"r\") as f:\n",
    "#     for line in f.readlines():\n",
    "#         lines_to_remove.add(line.strip())\n",
    "\n",
    "# with open(\"prompt_addition_test.txt\", \"r\") as f:\n",
    "#     with open(\"prompt_addition_nonoverlap.txt\", \"w\") as f2:\n",
    "#         for line in f.readlines():\n",
    "#             for line_to_remove in lines_to_remove:\n",
    "#                 if line_to_remove.startswith(line.strip('\\n')):\n",
    "#                     # print(len(lines_to_remove), line)\n",
    "#                     lines_to_remove.remove(line_to_remove)\n",
    "#                     break\n",
    "#             else:\n",
    "#                 f2.write(line)\n"
   ]
  },
  {
   "cell_type": "code",
   "execution_count": 22,
   "metadata": {},
   "outputs": [
    {
     "name": "stdout",
     "output_type": "stream",
     "text": [
      "None None\n",
      "prompt_addition_test_0.0001.txt\n",
      "None None\n",
      "prompt_addition_test_0.001.txt\n",
      "None None\n",
      "prompt_addition_test_0.01.txt\n"
     ]
    }
   ],
   "source": [
    "make_addition_test_subexamples(p=0.0001)\n",
    "make_addition_test_subexamples(p=0.001)\n",
    "make_addition_test_subexamples(p=0.01)"
   ]
  },
  {
   "cell_type": "code",
   "execution_count": 31,
   "metadata": {},
   "outputs": [],
   "source": [
    "def make_num_digit_examples(num_digit=1):\n",
    "    input_file_path = f'prompt_addition_test_{num_digit}.txt'\n",
    "    print(input_file_path)\n",
    "    # if not os.path.exists(input_file_path):\n",
    "    with open(input_file_path, 'w') as f:\n",
    "        for a in range(10**num_digit):\n",
    "            for b in range(10**num_digit):\n",
    "                c = a + b\n",
    "                f.write(f\"${a}+{b}=\\n\")\n",
    "\n",
    "\n",
    "def make_num_digit_nonoverlap_examples(num_digit=1):\n",
    "    input_file_path = f'prompt_addition_test_{num_digit}_nonoverlap.txt'\n",
    "    print(input_file_path)\n",
    "    # if not os.path.exists(input_file_path):\n",
    "    \n",
    "    def get_abc(abc):\n",
    "        [a,b] = abc.split('+')\n",
    "        a = a[1:]\n",
    "        b = b.split('=')[0]\n",
    "        return a, b\n",
    "\n",
    "    lines_to_remove = set()\n",
    "    with open(\"add_examples_balanced.txt\", \"r\") as f:\n",
    "        for line in f.readlines():\n",
    "            a, b = get_abc(line)\n",
    "            if len(a) <=num_digit and len(b) <= num_digit:\n",
    "                lines_to_remove.add(line.strip())\n",
    "    \n",
    "    print(len(lines_to_remove))\n",
    "\n",
    "    with open(input_file_path, 'w') as f:\n",
    "        for a in range(10**num_digit):\n",
    "            for b in range(10**num_digit):\n",
    "                addition_sample = f'${a}+{b}='\n",
    "                for line_to_remove in lines_to_remove:\n",
    "                    if line_to_remove.startswith(addition_sample):\n",
    "                        lines_to_remove.remove(line_to_remove)\n",
    "                        break\n",
    "                else:\n",
    "                    f.write(f'{addition_sample}\\n')"
   ]
  },
  {
   "cell_type": "code",
   "execution_count": 37,
   "metadata": {},
   "outputs": [
    {
     "name": "stdout",
     "output_type": "stream",
     "text": [
      "prompt_addition_test_1.txt\n",
      "prompt_addition_test_2.txt\n",
      "prompt_addition_test_2_nonoverlap.txt\n",
      "1000\n"
     ]
    }
   ],
   "source": [
    "make_num_digit_examples(num_digit=1)\n",
    "make_num_digit_examples(num_digit=2)\n",
    "make_num_digit_nonoverlap_examples(num_digit=2)\n"
   ]
  },
  {
   "cell_type": "code",
   "execution_count": 38,
   "metadata": {},
   "outputs": [
    {
     "name": "stdout",
     "output_type": "stream",
     "text": [
      "prompt_addition_test_1_copied.txt prompt_addition_test_1.txt\n",
      "prompt_addition_test_1.txt\n",
      "prompt_addition_test_2_nonoverlap.txt prompt_addition_test_2_0.1.txt\n",
      "prompt_addition_test_2_0.1.txt\n"
     ]
    }
   ],
   "source": [
    "make_addition_test_subexamples(p=1, output='prompt_addition_test_1.txt', input='prompt_addition_test_1_copied.txt')\n",
    "make_addition_test_subexamples(p=0.1, output='prompt_addition_test_2_0.1.txt', input='prompt_addition_test_2_nonoverlap.txt')\n"
   ]
  },
  {
   "cell_type": "code",
   "execution_count": null,
   "metadata": {},
   "outputs": [],
   "source": []
  },
  {
   "cell_type": "code",
   "execution_count": 4,
   "metadata": {},
   "outputs": [],
   "source": [
    "input_file_path = 'add_examples_balanced.txt'\n",
    "output_file_path = 'prompt_train.txt'\n",
    "\n",
    "with open(input_file_path, 'r') as f:\n",
    "    lines = f.readlines()\n",
    "\n",
    "with open(output_file_path, 'w') as f:\n",
    "    for line in lines:\n",
    "        x,y = re.split('\\$|\\+|=',line)[1:3]\n",
    "        x, y = int(x), int(y)\n",
    "        input_str = get_input_string(x,y)\n",
    "        f.write(input_str)\n"
   ]
  },
  {
   "cell_type": "code",
   "execution_count": null,
   "metadata": {},
   "outputs": [],
   "source": []
  }
 ],
 "metadata": {
  "kernelspec": {
   "display_name": "nanogpt",
   "language": "python",
   "name": "python3"
  },
  "language_info": {
   "codemirror_mode": {
    "name": "ipython",
    "version": 3
   },
   "file_extension": ".py",
   "mimetype": "text/x-python",
   "name": "python",
   "nbconvert_exporter": "python",
   "pygments_lexer": "ipython3",
   "version": "3.8.12"
  },
  "orig_nbformat": 4,
  "vscode": {
   "interpreter": {
    "hash": "a2ba5c7570592e86f20458013332ec3c55b0ae10b9d5b24be29cc9bc24858e1a"
   }
  }
 },
 "nbformat": 4,
 "nbformat_minor": 2
}
