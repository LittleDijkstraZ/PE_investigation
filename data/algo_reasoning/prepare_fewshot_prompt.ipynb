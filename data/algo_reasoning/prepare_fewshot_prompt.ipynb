{
 "cells": [
  {
   "cell_type": "code",
   "execution_count": 1,
   "metadata": {},
   "outputs": [],
   "source": [
    "\"\"\"\n",
    "create few shot (1~3) prompt from the test prompt\n",
    "\"\"\"\n",
    "import os\n",
    "import pickle\n",
    "import requests\n",
    "import numpy as np\n",
    "import random\n",
    "import re"
   ]
  },
  {
   "cell_type": "code",
   "execution_count": 2,
   "metadata": {},
   "outputs": [
    {
     "name": "stdout",
     "output_type": "stream",
     "text": [
      "[1, 2, 8]\n",
      "[1,2,8]\n"
     ]
    }
   ],
   "source": [
    "x = 128\n",
    "def list_to_string(a):\n",
    "    a = str(a)\n",
    "    return a.replace(' ', '')\n",
    "\n",
    "def num_to_list(num):\n",
    "    return [int(x) for x in str(num)]\n",
    "\n",
    "list_x = num_to_list(x)\n",
    "print(list_x)\n",
    "print(list_to_string(list_x))"
   ]
  },
  {
   "cell_type": "code",
   "execution_count": 3,
   "metadata": {},
   "outputs": [],
   "source": [
    "def get_input_string(x,y):\n",
    "    x, y = str(x), str(y)\n",
    "    input_str = f'Input:\\n{x}+{y}\\n'\n",
    "\n",
    "    return input_str\n",
    "\n",
    "def get_output_string(x,y):\n",
    "    x, y = str(x), str(y)\n",
    "\n",
    "    len_x, len_y = len(x), len(y)\n",
    "    list_x, list_y = num_to_list(x), num_to_list(y)\n",
    "\n",
    "    output_str = f'Target:\\n<scratch>\\n'\n",
    "\n",
    "    output_str += f'{list_to_string(list_x)} has {len_x} digits.\\n'\n",
    "    output_str += f'{list_to_string(list_y)} has {len_y} digits.\\n'\n",
    "\n",
    "    C=0\n",
    "    A=[]\n",
    "    for i in range(max(len_x, len_y)):\n",
    "        a = list_x[-1] if i < len_x else 0\n",
    "        b = list_y[-1] if i < len_y else 0\n",
    "        c = a + b + C\n",
    "        \n",
    "        output_str += f'{list_to_string(list_x)} + {list_to_string(list_y)} , A={list_to_string(A)} , C={C} , {a}+{b}+{C}={c} , A->{c%10} , C->{c//10}\\n'\n",
    "\n",
    "        A.insert(0, c % 10)\n",
    "        C = c // 10\n",
    "\n",
    "        list_x = list_x[:-1]\n",
    "        list_y = list_y[:-1]\n",
    "\n",
    "    output_str += f'{list_to_string(list_x)} + {list_to_string(list_y)} , A={list_to_string(A)} C={C} , END\\n</scratch>\\n'\n",
    "    if C == 1:\n",
    "        A.insert(0, 1)\n",
    "    for a in A:\n",
    "        output_str += f'{a} '\n",
    "\n",
    "    return output_str[:-1]+'\\n'"
   ]
  },
  {
   "cell_type": "code",
   "execution_count": 4,
   "metadata": {},
   "outputs": [
    {
     "name": "stdout",
     "output_type": "stream",
     "text": [
      "Input:\n",
      "128+367\n",
      "Target:\n",
      "<scratch>\n",
      "[1,2,8] has 3 digits.\n",
      "[3,6,7] has 3 digits.\n",
      "[1,2,8] + [3,6,7] , A=[] , C=0 , 8+7+0=15 , A->5 , C->1\n",
      "[1,2] + [3,6] , A=[5] , C=1 , 2+6+1=9 , A->9 , C->0\n",
      "[1] + [3] , A=[9,5] , C=0 , 1+3+0=4 , A->4 , C->0\n",
      "[] + [] , A=[4,9,5] C=0 , END\n",
      "</scratch>\n",
      "4 9 5\n",
      "\n",
      "282\n"
     ]
    }
   ],
   "source": [
    "x,y = 128, 367\n",
    "input_str = get_input_string(x,y)\n",
    "output_str = get_output_string(x,y)\n",
    "\n",
    "print(input_str+output_str)\n",
    "print(len(input_str+output_str))"
   ]
  },
  {
   "cell_type": "code",
   "execution_count": 4,
   "metadata": {},
   "outputs": [
    {
     "name": "stdout",
     "output_type": "stream",
     "text": [
      "creating new file: few_shot_prefix/1shot_1.txt!\n",
      "creating new file: few_shot_prefix/1shot_2.txt!\n",
      "creating new file: few_shot_prefix/1shot_3.txt!\n",
      "creating new file: few_shot_prefix/1shot_4.txt!\n",
      "creating new file: few_shot_prefix/1shot_5.txt!\n"
     ]
    }
   ],
   "source": [
    "out_dir = 'few_shot_prefix'\n",
    "num_prompts = 5\n",
    "\n",
    "shots=1\n",
    "\n",
    "if not os.path.exists(out_dir):\n",
    "    os.makedirs(out_dir)\n",
    "\n",
    "for num_prompt in range(1, num_prompts+1):\n",
    "    output_file_path = f'{out_dir}/{shots}shot_{num_prompt}.txt'\n",
    "    if os.path.exists(output_file_path):\n",
    "         continue\n",
    "    with open(output_file_path, 'w') as f:\n",
    "        print(f'creating new file: {output_file_path}!')\n",
    "        for shot in range(shots):\n",
    "            x, y = random.randint(1, 1000), random.randint(1, 999)\n",
    "            input_str = get_input_string(x, y)\n",
    "            output_str = get_output_string(x, y)            \n",
    "            f.write(input_str + output_str)\n"
   ]
  },
  {
   "cell_type": "code",
   "execution_count": 5,
   "metadata": {},
   "outputs": [
    {
     "name": "stdout",
     "output_type": "stream",
     "text": [
      "creating new file: few_shot_prefix/2shot_1.txt!\n",
      "creating new file: few_shot_prefix/2shot_2.txt!\n",
      "creating new file: few_shot_prefix/2shot_3.txt!\n",
      "creating new file: few_shot_prefix/2shot_4.txt!\n",
      "creating new file: few_shot_prefix/2shot_5.txt!\n"
     ]
    }
   ],
   "source": [
    "out_dir = 'few_shot_prefix'\n",
    "num_prompts = 5\n",
    "\n",
    "shots=2\n",
    "\n",
    "if not os.path.exists(out_dir):\n",
    "    os.makedirs(out_dir)\n",
    "\n",
    "for num_prompt in range(1, num_prompts+1):\n",
    "    output_file_path = f'{out_dir}/{shots}shot_{num_prompt}.txt'\n",
    "    if os.path.exists(output_file_path):\n",
    "         continue\n",
    "    with open(output_file_path, 'w') as f:\n",
    "        print(f'creating new file: {output_file_path}!')\n",
    "        for shot in range(shots):\n",
    "            x, y = random.randint(1, 1000), random.randint(1, 999)\n",
    "            input_str = get_input_string(x, y)\n",
    "            output_str = get_output_string(x, y)            \n",
    "            f.write(input_str + output_str)\n"
   ]
  },
  {
   "cell_type": "code",
   "execution_count": 6,
   "metadata": {},
   "outputs": [
    {
     "name": "stdout",
     "output_type": "stream",
     "text": [
      "creating new file: few_shot_prefix/3shot_1.txt!\n",
      "creating new file: few_shot_prefix/3shot_2.txt!\n",
      "creating new file: few_shot_prefix/3shot_3.txt!\n",
      "creating new file: few_shot_prefix/3shot_4.txt!\n",
      "creating new file: few_shot_prefix/3shot_5.txt!\n"
     ]
    }
   ],
   "source": [
    "out_dir = 'few_shot_prefix'\n",
    "num_prompts = 5\n",
    "\n",
    "shots=3\n",
    "\n",
    "if not os.path.exists(out_dir):\n",
    "    os.makedirs(out_dir)\n",
    "\n",
    "for num_prompt in range(1, num_prompts+1):\n",
    "    output_file_path = f'{out_dir}/{shots}shot_{num_prompt}.txt'\n",
    "    if os.path.exists(output_file_path):\n",
    "         continue\n",
    "    with open(output_file_path, 'w') as f:\n",
    "        print(f'creating new file: {output_file_path}!')\n",
    "        for shot in range(shots):\n",
    "            x, y = random.randint(1, 1000), random.randint(1, 999)\n",
    "            input_str = get_input_string(x, y)\n",
    "            output_str = get_output_string(x, y)            \n",
    "            f.write(input_str + output_str)\n"
   ]
  },
  {
   "cell_type": "code",
   "execution_count": 15,
   "metadata": {},
   "outputs": [
    {
     "name": "stdout",
     "output_type": "stream",
     "text": [
      "creating 3 shot prompts in few_shot_prompts/prompt_addition_3shot_test_0.0001_1.txt\n",
      "creating 3 shot prompts in few_shot_prompts/prompt_addition_3shot_test_0.0001_2.txt\n",
      "creating 3 shot prompts in few_shot_prompts/prompt_addition_3shot_test_0.0001_3.txt\n",
      "creating 3 shot prompts in few_shot_prompts/prompt_addition_3shot_test_0.0001_4.txt\n",
      "creating 3 shot prompts in few_shot_prompts/prompt_addition_3shot_test_0.0001_5.txt\n"
     ]
    }
   ],
   "source": [
    "out_dir = 'few_shot_prompts'\n",
    "num_prompts = 5\n",
    "\n",
    "shots=3\n",
    "\n",
    "if not os.path.exists(out_dir):\n",
    "    os.makedirs(out_dir)\n",
    "\n",
    "input_file_path = f'prompt_addition_test_0.0001.txt'\n",
    "with open(input_file_path, 'r') as f:\n",
    "    lines = f.readlines()\n",
    "\n",
    "for num_prompt in range(1, num_prompts+1):\n",
    "    few_shot_prefix_path = f'few_shot_prefix/{shots}shot_{num_prompt}.txt'\n",
    "    with open(few_shot_prefix_path, 'r') as f:\n",
    "        data_few_shot_prefix = f.read()\n",
    "\n",
    "    output_file_path = f'{out_dir}/prompt_addition_{shots}shot_test_0.0001_{num_prompt}.txt'\n",
    "    \n",
    "    print(f'creating {shots} shot prompts in {output_file_path}')\n",
    "\n",
    "    with open(output_file_path, 'w') as f:\n",
    "        total_num_examples = len(lines) // 2\n",
    "        for num_ex in range(total_num_examples):\n",
    "            prompt = lines[2*num_ex] + lines[2*num_ex+1]\n",
    "            f.write(data_few_shot_prefix + prompt + '\\n')\n"
   ]
  },
  {
   "cell_type": "code",
   "execution_count": 16,
   "metadata": {},
   "outputs": [
    {
     "name": "stdout",
     "output_type": "stream",
     "text": [
      "creating 2 shot prompts in few_shot_prompts/prompt_addition_2shot_test_0.0001_1.txt\n",
      "creating 2 shot prompts in few_shot_prompts/prompt_addition_2shot_test_0.0001_2.txt\n",
      "creating 2 shot prompts in few_shot_prompts/prompt_addition_2shot_test_0.0001_3.txt\n",
      "creating 2 shot prompts in few_shot_prompts/prompt_addition_2shot_test_0.0001_4.txt\n",
      "creating 2 shot prompts in few_shot_prompts/prompt_addition_2shot_test_0.0001_5.txt\n"
     ]
    }
   ],
   "source": [
    "out_dir = 'few_shot_prompts'\n",
    "num_prompts = 5\n",
    "\n",
    "shots=2\n",
    "\n",
    "if not os.path.exists(out_dir):\n",
    "    os.makedirs(out_dir)\n",
    "\n",
    "input_file_path = f'prompt_addition_test_0.0001.txt'\n",
    "with open(input_file_path, 'r') as f:\n",
    "    lines = f.readlines()\n",
    "\n",
    "for num_prompt in range(1, num_prompts+1):\n",
    "    few_shot_prefix_path = f'few_shot_prefix/{shots}shot_{num_prompt}.txt'\n",
    "    with open(few_shot_prefix_path, 'r') as f:\n",
    "        data_few_shot_prefix = f.read()\n",
    "\n",
    "    output_file_path = f'{out_dir}/prompt_addition_{shots}shot_test_0.0001_{num_prompt}.txt'\n",
    "    \n",
    "    print(f'creating {shots} shot prompts in {output_file_path}')\n",
    "\n",
    "    with open(output_file_path, 'w') as f:\n",
    "        total_num_examples = len(lines) // 2\n",
    "        for num_ex in range(total_num_examples):\n",
    "            prompt = lines[2*num_ex] + lines[2*num_ex+1]\n",
    "            f.write(data_few_shot_prefix + prompt + '\\n')\n"
   ]
  },
  {
   "cell_type": "code",
   "execution_count": 18,
   "metadata": {},
   "outputs": [
    {
     "name": "stdout",
     "output_type": "stream",
     "text": [
      "creating 1 shot prompts in few_shot_prompts/prompt_addition_1shot_test_0.0001_1.txt\n",
      "creating 1 shot prompts in few_shot_prompts/prompt_addition_1shot_test_0.0001_2.txt\n",
      "creating 1 shot prompts in few_shot_prompts/prompt_addition_1shot_test_0.0001_3.txt\n",
      "creating 1 shot prompts in few_shot_prompts/prompt_addition_1shot_test_0.0001_4.txt\n",
      "creating 1 shot prompts in few_shot_prompts/prompt_addition_1shot_test_0.0001_5.txt\n"
     ]
    }
   ],
   "source": [
    "out_dir = 'few_shot_prompts'\n",
    "num_prompts = 5\n",
    "\n",
    "shots=1\n",
    "\n",
    "if not os.path.exists(out_dir):\n",
    "    os.makedirs(out_dir)\n",
    "\n",
    "input_file_path = f'prompt_addition_test_0.0001.txt'\n",
    "with open(input_file_path, 'r') as f:\n",
    "    lines = f.readlines()\n",
    "\n",
    "for num_prompt in range(1, num_prompts+1):\n",
    "    few_shot_prefix_path = f'few_shot_prefix/{shots}shot_{num_prompt}.txt'\n",
    "    with open(few_shot_prefix_path, 'r') as f:\n",
    "        data_few_shot_prefix = f.read()\n",
    "\n",
    "    output_file_path = f'{out_dir}/prompt_addition_{shots}shot_test_0.0001_{num_prompt}.txt'\n",
    "    \n",
    "    print(f'creating {shots} shot prompts in {output_file_path}')\n",
    "\n",
    "    with open(output_file_path, 'w') as f:\n",
    "        total_num_examples = len(lines) // 2\n",
    "        for num_ex in range(total_num_examples):\n",
    "            prompt = lines[2*num_ex] + lines[2*num_ex+1]\n",
    "            f.write(data_few_shot_prefix + prompt + '\\n')\n"
   ]
  },
  {
   "cell_type": "code",
   "execution_count": null,
   "metadata": {},
   "outputs": [],
   "source": []
  }
 ],
 "metadata": {
  "kernelspec": {
   "display_name": "nanogpt",
   "language": "python",
   "name": "python3"
  },
  "language_info": {
   "codemirror_mode": {
    "name": "ipython",
    "version": 3
   },
   "file_extension": ".py",
   "mimetype": "text/x-python",
   "name": "python",
   "nbconvert_exporter": "python",
   "pygments_lexer": "ipython3",
   "version": "3.8.12"
  },
  "orig_nbformat": 4,
  "vscode": {
   "interpreter": {
    "hash": "a2ba5c7570592e86f20458013332ec3c55b0ae10b9d5b24be29cc9bc24858e1a"
   }
  }
 },
 "nbformat": 4,
 "nbformat_minor": 2
}
