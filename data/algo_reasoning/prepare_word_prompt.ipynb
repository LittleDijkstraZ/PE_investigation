{
 "cells": [
  {
   "cell_type": "code",
   "execution_count": 1,
   "metadata": {},
   "outputs": [],
   "source": [
    "\"\"\"\n",
    "create few shot (1~3) prompt from the test prompt\n",
    "NOTE: prefix taken from ar few_shot_prefix!! -> please first copy and paste the folder and use it\n",
    "\"\"\"\n",
    "import os\n",
    "import pickle\n",
    "import requests\n",
    "import numpy as np\n",
    "import random\n",
    "import re"
   ]
  },
  {
   "cell_type": "code",
   "execution_count": 2,
   "metadata": {},
   "outputs": [],
   "source": [
    "def reverse_string(a: str) -> str:\n",
    "    return a[::-1]"
   ]
  },
  {
   "cell_type": "code",
   "execution_count": 3,
   "metadata": {},
   "outputs": [],
   "source": [
    "def list_to_string(a):\n",
    "    a = str(a)\n",
    "    return a.replace(' ', '')\n",
    "\n",
    "def num_to_list(num):\n",
    "    return [int(x) for x in str(num)]\n",
    "\n",
    "def get_input_string(x,y):\n",
    "    x, y = str(x), str(y)\n",
    "    input_str = f'Input:\\n{x}+{y}\\n'\n",
    "\n",
    "    return input_str\n",
    "\n",
    "def get_output_string(x,y):\n",
    "    x, y = str(x), str(y)\n",
    "\n",
    "    len_x, len_y = len(x), len(y)\n",
    "    list_x, list_y = num_to_list(x), num_to_list(y)\n",
    "\n",
    "    output_str = f'Target:\\n<scratch>\\n'\n",
    "\n",
    "    output_str += f'{list_to_string(list_x)} has {len_x} digits.\\n'\n",
    "    output_str += f'{list_to_string(list_y)} has {len_y} digits.\\n'\n",
    "\n",
    "    C=0\n",
    "    A=[]\n",
    "    for i in range(max(len_x, len_y)):\n",
    "        a = list_x[-1] if i < len_x else 0\n",
    "        b = list_y[-1] if i < len_y else 0\n",
    "        c = a + b + C\n",
    "        \n",
    "        output_str += f'{list_to_string(list_x)} + {list_to_string(list_y)} , A={list_to_string(A)} , C={C} , {a}+{b}+{C}={c} , A->{c%10} , C->{c//10}\\n'\n",
    "\n",
    "        A.insert(0, c % 10)\n",
    "        C = c // 10\n",
    "\n",
    "        list_x = list_x[:-1]\n",
    "        list_y = list_y[:-1]\n",
    "\n",
    "    output_str += f'{list_to_string(list_x)} + {list_to_string(list_y)} , A={list_to_string(A)} C={C} , END\\n</scratch>\\n'\n",
    "    if C == 1:\n",
    "        A.insert(0, 1)\n",
    "    for a in A:\n",
    "        output_str += f'{a} '\n",
    "\n",
    "    return output_str[:-1]+'\\n'"
   ]
  },
  {
   "cell_type": "code",
   "execution_count": 5,
   "metadata": {},
   "outputs": [
    {
     "name": "stdout",
     "output_type": "stream",
     "text": [
      "creating prompts in word_prompts/prompt_addition_0.0001_1.txt\n",
      "creating prompts in word_prompts/prompt_addition_0.0001_2.txt\n",
      "creating prompts in word_prompts/prompt_addition_0.0001_3.txt\n",
      "creating prompts in word_prompts/prompt_addition_0.0001_4.txt\n",
      "creating prompts in word_prompts/prompt_addition_0.0001_5.txt\n"
     ]
    }
   ],
   "source": [
    "out_dir = 'word_prompts'\n",
    "num_prompts = 5\n",
    "\n",
    "# shots=3\n",
    "p = 0.0001\n",
    "\n",
    "if not os.path.exists(out_dir):\n",
    "    os.makedirs(out_dir)\n",
    "\n",
    "input_file_path = f'prompt_addition_test_{p}.txt'\n",
    "with open(input_file_path, 'r') as f:\n",
    "    lines = f.readlines()\n",
    "\n",
    "for num_prompt in range(1, num_prompts+1):\n",
    "    few_shot_prefix_path = f'word_prefix/phrase{num_prompt}.txt'\n",
    "    with open(few_shot_prefix_path, 'r') as f:\n",
    "        data_few_shot_prefix = f.read()\n",
    "\n",
    "    output_file_path = f'{out_dir}/prompt_addition_{p}_{num_prompt}.txt'\n",
    "    \n",
    "    print(f'creating prompts in {output_file_path}')\n",
    "\n",
    "    with open(output_file_path, 'w') as f:\n",
    "        total_num_examples = len(lines) // 2\n",
    "        for num_ex in range(total_num_examples):\n",
    "            prompt = lines[2*num_ex] + lines[2*num_ex+1]\n",
    "            f.write(data_few_shot_prefix + prompt + '\\n')\n"
   ]
  },
  {
   "cell_type": "code",
   "execution_count": null,
   "metadata": {},
   "outputs": [],
   "source": []
  },
  {
   "cell_type": "code",
   "execution_count": null,
   "metadata": {},
   "outputs": [],
   "source": [
    "out_dir = 'word_prompts'\n",
    "num_prompts = 5\n",
    "num_phrase = 5\n",
    "\n",
    "# shots=3\n",
    "p = 0.0001\n",
    "\n",
    "if not os.path.exists(out_dir):\n",
    "    os.makedirs(out_dir)\n",
    "\n",
    "input_file_path = f'prompt_addition_test_{p}.txt'\n",
    "with open(input_file_path, 'r') as f:\n",
    "    lines = f.readlines()\n",
    "\n",
    "for num_phrase in range(1, num_phrase+1):\n",
    "    for num_prompt in range(1, num_prompts+1):\n",
    "        few_shot_prefix_path = f'word_prefix/phrase{num_phrase}_{num_prompt}.txt'\n",
    "        with open(few_shot_prefix_path, 'r') as f:\n",
    "            data_few_shot_prefix = f.read()\n",
    "\n",
    "        output_file_path = f'{out_dir}/prompt_addition_{p}_{num_phrase}_{num_prompt}.txt'\n",
    "        \n",
    "        print(f'creating prompts in {output_file_path}')\n",
    "\n",
    "        with open(output_file_path, 'w') as f:\n",
    "            total_num_examples = len(lines) // 2\n",
    "            for num_ex in range(total_num_examples):\n",
    "                prompt = lines[2*num_ex] + lines[2*num_ex+1]\n",
    "                f.write(data_few_shot_prefix + prompt + '\\n')\n"
   ]
  }
 ],
 "metadata": {
  "kernelspec": {
   "display_name": "nanogpt",
   "language": "python",
   "name": "python3"
  },
  "language_info": {
   "codemirror_mode": {
    "name": "ipython",
    "version": 3
   },
   "file_extension": ".py",
   "mimetype": "text/x-python",
   "name": "python",
   "nbconvert_exporter": "python",
   "pygments_lexer": "ipython3",
   "version": "3.8.16"
  },
  "orig_nbformat": 4,
  "vscode": {
   "interpreter": {
    "hash": "a2ba5c7570592e86f20458013332ec3c55b0ae10b9d5b24be29cc9bc24858e1a"
   }
  }
 },
 "nbformat": 4,
 "nbformat_minor": 2
}
