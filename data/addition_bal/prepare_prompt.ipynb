{
 "cells": [
  {
   "cell_type": "code",
   "execution_count": 11,
   "metadata": {},
   "outputs": [],
   "source": [
    "import os\n",
    "import pickle\n",
    "import requests\n",
    "import numpy as np\n",
    "import random\n",
    "import re"
   ]
  },
  {
   "cell_type": "code",
   "execution_count": 12,
   "metadata": {},
   "outputs": [
    {
     "name": "stdout",
     "output_type": "stream",
     "text": [
      "['prompt_from_ar/prompt_addition_test_0.01.txt', 'prompt_from_ar/prompt_addition_test_1.txt', 'prompt_from_ar/prompt_addition_test_2_0.1.txt', 'prompt_from_ar/prompt_addition_test_0.0001.txt', 'prompt_from_ar/prompt_addition_test_0.001.txt']\n"
     ]
    }
   ],
   "source": [
    "import glob\n",
    "\n",
    "files = glob.glob('prompt_from_ar/*.txt')\n",
    "print(files)"
   ]
  },
  {
   "cell_type": "code",
   "execution_count": 15,
   "metadata": {},
   "outputs": [
    {
     "name": "stdout",
     "output_type": "stream",
     "text": [
      "prompt_from_ar/prompt_addition_test_0.01.txt prompt_addition_test_0.01.txt\n",
      "prompt_from_ar/prompt_addition_test_1.txt prompt_addition_test_1.txt\n",
      "prompt_from_ar/prompt_addition_test_2_0.1.txt prompt_addition_test_2_0.1.txt\n",
      "prompt_from_ar/prompt_addition_test_0.0001.txt prompt_addition_test_0.0001.txt\n",
      "prompt_from_ar/prompt_addition_test_0.001.txt prompt_addition_test_0.001.txt\n"
     ]
    }
   ],
   "source": [
    "for file in files:\n",
    "    input_file_path = file\n",
    "    output_file_path = file.split('/')[1]\n",
    "    print(input_file_path, output_file_path)\n",
    "\n",
    "    with open(input_file_path, 'r') as f:\n",
    "        with open(output_file_path, 'w+') as fw:\n",
    "            for line in f.readlines():\n",
    "                if line.startswith('Input:'):\n",
    "                    continue\n",
    "                line = line.strip('\\n')\n",
    "                fw.write(f\"{line}=\\n\")\n"
   ]
  },
  {
   "cell_type": "code",
   "execution_count": null,
   "metadata": {},
   "outputs": [],
   "source": []
  }
 ],
 "metadata": {
  "kernelspec": {
   "display_name": "nanogpt",
   "language": "python",
   "name": "python3"
  },
  "language_info": {
   "codemirror_mode": {
    "name": "ipython",
    "version": 3
   },
   "file_extension": ".py",
   "mimetype": "text/x-python",
   "name": "python",
   "nbconvert_exporter": "python",
   "pygments_lexer": "ipython3",
   "version": "3.8.12"
  },
  "orig_nbformat": 4,
  "vscode": {
   "interpreter": {
    "hash": "a2ba5c7570592e86f20458013332ec3c55b0ae10b9d5b24be29cc9bc24858e1a"
   }
  }
 },
 "nbformat": 4,
 "nbformat_minor": 2
}
