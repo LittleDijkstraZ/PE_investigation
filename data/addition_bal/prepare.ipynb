{
 "cells": [
  {
   "cell_type": "code",
   "execution_count": 1,
   "metadata": {},
   "outputs": [],
   "source": [
    "import os\n",
    "import pickle\n",
    "import requests\n",
    "import numpy as np\n",
    "import random\n",
    "import re"
   ]
  },
  {
   "cell_type": "code",
   "execution_count": 2,
   "metadata": {},
   "outputs": [],
   "source": [
    "def reverse_string(a: str) -> str:\n",
    "    return a[::-1]"
   ]
  },
  {
   "cell_type": "code",
   "execution_count": 3,
   "metadata": {},
   "outputs": [
    {
     "name": "stdout",
     "output_type": "stream",
     "text": [
      "['from_addition_dollar_reverse_curr_bal2/add_examples_5000.txt', 'from_addition_dollar_reverse_curr_bal2/add_examples_1000.txt', 'from_addition_dollar_reverse_curr_bal2/add_examples_3000.txt', 'from_addition_dollar_reverse_curr_bal2/add_examples_20000.txt', 'from_addition_dollar_reverse_curr_bal2/add_examples.txt', 'from_addition_dollar_reverse_curr_bal2/add_examples_4000.txt', 'from_addition_dollar_reverse_curr_bal2/add_examples_2000.txt']\n"
     ]
    }
   ],
   "source": [
    "import glob\n",
    "files = glob.glob('from_addition_dollar_reverse_curr_bal2/*.txt')\n",
    "print(files)"
   ]
  },
  {
   "cell_type": "code",
   "execution_count": 5,
   "metadata": {},
   "outputs": [
    {
     "name": "stdout",
     "output_type": "stream",
     "text": [
      "from_addition_dollar_reverse_curr_bal2/add_examples_5000.txt add_examples_5000.txt\n",
      "from_addition_dollar_reverse_curr_bal2/add_examples_1000.txt add_examples_1000.txt\n",
      "from_addition_dollar_reverse_curr_bal2/add_examples_3000.txt add_examples_3000.txt\n",
      "from_addition_dollar_reverse_curr_bal2/add_examples_20000.txt add_examples_20000.txt\n",
      "from_addition_dollar_reverse_curr_bal2/add_examples.txt add_examples.txt\n",
      "from_addition_dollar_reverse_curr_bal2/add_examples_4000.txt add_examples_4000.txt\n",
      "from_addition_dollar_reverse_curr_bal2/add_examples_2000.txt add_examples_2000.txt\n"
     ]
    }
   ],
   "source": [
    "# prepare data\n",
    "for file in files:\n",
    "    input_file_path =  file\n",
    "    output_file_path =  file.split('/')[1]\n",
    "    print(input_file_path, output_file_path)\n",
    "\n",
    "    with open(input_file_path, 'r') as f:\n",
    "        with open(output_file_path, 'w+') as fw:\n",
    "            for line in f.readlines():\n",
    "                line = line.strip('\\n')\n",
    "                line = line.replace('$','')\n",
    "                a,b,c=re.split('\\+|=',line)\n",
    "                aa, bb, cc = a, b, reverse_string(c)\n",
    "                fw.write(f\"{aa}+{bb}={cc}\\n\")\n",
    "        "
   ]
  },
  {
   "cell_type": "code",
   "execution_count": 6,
   "metadata": {},
   "outputs": [
    {
     "name": "stdout",
     "output_type": "stream",
     "text": [
      "length of dataset in characters: 120,027\n",
      "all the unique characters: \n",
      "+0123456789=\n",
      "vocab size: 13\n",
      "train has 108,024 tokens\n",
      "val has 12,003 tokens\n",
      "saving meta file!\n"
     ]
    }
   ],
   "source": [
    "# prepare meta file, .bin file\n",
    "\n",
    "output_file_path = 'add_examples.txt'\n",
    "\n",
    "with open(output_file_path, 'r') as f:\n",
    "    data = f.read()        \n",
    "\n",
    "print(f\"length of dataset in characters: {len(data):,}\")\n",
    "\n",
    "# get all the unique characters that occur in this text\n",
    "chars = sorted(list(set(data)))\n",
    "vocab_size = len(chars)\n",
    "print(\"all the unique characters:\", ''.join(chars))\n",
    "print(f\"vocab size: {vocab_size:,}\")\n",
    "\n",
    "# create a mapping from characters to integers\n",
    "stoi = { ch:i for i,ch in enumerate(chars) }\n",
    "itos = { i:ch for i,ch in enumerate(chars) }\n",
    "def encode(s):\n",
    "    return [stoi[c] for c in s] # encoder: take a string, output a list of integers\n",
    "def decode(l):\n",
    "    ''.join([itos[i] for i in l]) # decoder: take a list of integers, output a string\n",
    "\n",
    "# create the train and test splits\n",
    "n = len(data) # 130,023\n",
    "train_data = data[:int(n*0.9)]\n",
    "val_data = data[int(n*0.9):]\n",
    "\n",
    "# encode both to integers\n",
    "train_ids = encode(train_data)\n",
    "val_ids = encode(val_data)\n",
    "print(f\"train has {len(train_ids):,} tokens\")\n",
    "print(f\"val has {len(val_ids):,} tokens\")\n",
    "\n",
    "# export to bin files\n",
    "train_ids = np.array(train_ids, dtype=np.uint16)\n",
    "val_ids = np.array(val_ids, dtype=np.uint16)\n",
    "train_ids.tofile(f'train.bin')\n",
    "val_ids.tofile(f'val.bin')\n",
    "\n",
    "# save the meta information as well, to help us encode/decode later\n",
    "meta = {\n",
    "    'vocab_size': vocab_size,\n",
    "    'itos': itos,\n",
    "    'stoi': stoi,\n",
    "}\n",
    "\n",
    "if not os.path.exists('meta.pkl'):\n",
    "    print('saving meta file!')\n",
    "    with open(f'meta.pkl', 'wb') as f:\n",
    "        pickle.dump(meta, f)\n"
   ]
  },
  {
   "cell_type": "code",
   "execution_count": 7,
   "metadata": {},
   "outputs": [
    {
     "name": "stdout",
     "output_type": "stream",
     "text": [
      "length of dataset in characters: 11,512\n",
      "all the unique characters: \n",
      "+0123456789=\n",
      "vocab size: 13\n",
      "train has 11,512 tokens\n",
      "length of dataset in characters: 23,573\n",
      "all the unique characters: \n",
      "+0123456789=\n",
      "vocab size: 13\n",
      "train has 23,573 tokens\n",
      "length of dataset in characters: 35,598\n",
      "all the unique characters: \n",
      "+0123456789=\n",
      "vocab size: 13\n",
      "train has 35,598 tokens\n",
      "length of dataset in characters: 47,585\n",
      "all the unique characters: \n",
      "+0123456789=\n",
      "vocab size: 13\n",
      "train has 47,585 tokens\n",
      "length of dataset in characters: 59,682\n",
      "all the unique characters: \n",
      "+0123456789=\n",
      "vocab size: 13\n",
      "train has 59,682 tokens\n",
      "length of dataset in characters: 240,468\n",
      "all the unique characters: \n",
      "+0123456789=\n",
      "vocab size: 13\n",
      "train has 240,468 tokens\n"
     ]
    }
   ],
   "source": [
    "# prepare meta file, .bin file\n",
    "num_samples = [1000,2000,3000,4000,5000,20000]\n",
    "\n",
    "for num_sample in num_samples:\n",
    "    output_file_path = f'add_examples_{num_sample}.txt'\n",
    "\n",
    "    with open(output_file_path, 'r') as f:\n",
    "        data = f.read()        \n",
    "\n",
    "    print(f\"length of dataset in characters: {len(data):,}\")\n",
    "\n",
    "    # get all the unique characters that occur in this text\n",
    "    chars = sorted(list(set(data)))\n",
    "    vocab_size = len(chars)\n",
    "    print(\"all the unique characters:\", ''.join(chars))\n",
    "    print(f\"vocab size: {vocab_size:,}\")\n",
    "\n",
    "    # create a mapping from characters to integers\n",
    "    stoi = { ch:i for i,ch in enumerate(chars) }\n",
    "    itos = { i:ch for i,ch in enumerate(chars) }\n",
    "    def encode(s):\n",
    "        return [stoi[c] for c in s] # encoder: take a string, output a list of integers\n",
    "    def decode(l):\n",
    "        ''.join([itos[i] for i in l]) # decoder: take a list of integers, output a string\n",
    "\n",
    "    # create the train and test splits\n",
    "    n = len(data) # 130,023\n",
    "    # train_data = data[:int(n*0.9)]\n",
    "    train_data = data\n",
    "    # val_data = data[int(n*0.9):]\n",
    "\n",
    "    # encode both to integers\n",
    "    train_ids = encode(train_data)\n",
    "    # val_ids = encode(val_data)\n",
    "    print(f\"train has {len(train_ids):,} tokens\")\n",
    "    # print(f\"val has {len(val_ids):,} tokens\")\n",
    "\n",
    "    # export to bin files\n",
    "    train_ids = np.array(train_ids, dtype=np.uint16)\n",
    "    # val_ids = np.array(val_ids, dtype=np.uint16)\n",
    "    train_ids.tofile(f'train_{num_sample}.bin')\n",
    "    # val_ids.tofile(f'val.bin')\n",
    "\n",
    "    # save the meta information as well, to help us encode/decode later\n",
    "    meta = {\n",
    "        'vocab_size': vocab_size,\n",
    "        'itos': itos,\n",
    "        'stoi': stoi,\n",
    "    }\n",
    "\n",
    "    if not os.path.exists('meta.pkl'):\n",
    "        print('saving meta file!')\n",
    "        with open(f'meta.pkl', 'wb') as f:\n",
    "            pickle.dump(meta, f)\n"
   ]
  },
  {
   "cell_type": "code",
   "execution_count": null,
   "metadata": {},
   "outputs": [],
   "source": []
  }
 ],
 "metadata": {
  "kernelspec": {
   "display_name": "nanogpt",
   "language": "python",
   "name": "python3"
  },
  "language_info": {
   "codemirror_mode": {
    "name": "ipython",
    "version": 3
   },
   "file_extension": ".py",
   "mimetype": "text/x-python",
   "name": "python",
   "nbconvert_exporter": "python",
   "pygments_lexer": "ipython3",
   "version": "3.8.12"
  },
  "orig_nbformat": 4,
  "vscode": {
   "interpreter": {
    "hash": "a2ba5c7570592e86f20458013332ec3c55b0ae10b9d5b24be29cc9bc24858e1a"
   }
  }
 },
 "nbformat": 4,
 "nbformat_minor": 2
}
