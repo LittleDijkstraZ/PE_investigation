{
 "cells": [
  {
   "cell_type": "code",
   "execution_count": 2,
   "metadata": {},
   "outputs": [],
   "source": [
    "\"\"\"\n",
    "create few shot (1~3) prompt from the test prompt\n",
    "NOTE: prefix taken from ar few_shot_prefix!! -> please first copy and paste the folder and use it\n",
    "\"\"\"\n",
    "import os\n",
    "import pickle\n",
    "import requests\n",
    "import numpy as np\n",
    "import random\n",
    "import re"
   ]
  },
  {
   "cell_type": "code",
   "execution_count": 3,
   "metadata": {},
   "outputs": [],
   "source": [
    "def reverse_string(a: str) -> str:\n",
    "    return a[::-1]"
   ]
  },
  {
   "cell_type": "code",
   "execution_count": 6,
   "metadata": {},
   "outputs": [
    {
     "name": "stdout",
     "output_type": "stream",
     "text": [
      "creating prompts in word_prompts/prompt_addition_0.01_1.txt\n",
      "creating prompts in word_prompts/prompt_addition_0.01_2.txt\n",
      "creating prompts in word_prompts/prompt_addition_0.01_3.txt\n",
      "creating prompts in word_prompts/prompt_addition_0.01_4.txt\n",
      "creating prompts in word_prompts/prompt_addition_0.01_5.txt\n"
     ]
    }
   ],
   "source": [
    "out_dir = 'word_prompts'\n",
    "num_prompts = 5\n",
    "\n",
    "# shots=3\n",
    "p = 0.01\n",
    "\n",
    "if not os.path.exists(out_dir):\n",
    "    os.makedirs(out_dir)\n",
    "\n",
    "input_file_path = f'prompt_addition_test_{p}.txt'\n",
    "with open(input_file_path, 'r') as f:\n",
    "    lines = f.readlines()\n",
    "\n",
    "for num_prompt in range(1, num_prompts+1):\n",
    "    few_shot_prefix_path = f'word_prefix/phrase{num_prompt}.txt'\n",
    "    with open(few_shot_prefix_path, 'r') as f:\n",
    "        data_few_shot_prefix = f.read()\n",
    "\n",
    "    output_file_path = f'{out_dir}/prompt_addition_{p}_{num_prompt}.txt'\n",
    "    \n",
    "    print(f'creating prompts in {output_file_path}')\n",
    "\n",
    "    with open(output_file_path, 'w') as f:\n",
    "        total_num_examples = len(lines) \n",
    "        for num_ex in range(total_num_examples):\n",
    "            prompt = lines[num_ex]\n",
    "            f.write(data_few_shot_prefix + prompt + '\\n')\n"
   ]
  },
  {
   "cell_type": "code",
   "execution_count": null,
   "metadata": {},
   "outputs": [],
   "source": []
  },
  {
   "cell_type": "code",
   "execution_count": 5,
   "metadata": {},
   "outputs": [
    {
     "name": "stdout",
     "output_type": "stream",
     "text": [
      "creating prompts in word_prompts/prompt_addition_0.01_1_1.txt\n",
      "creating prompts in word_prompts/prompt_addition_0.01_1_2.txt\n",
      "creating prompts in word_prompts/prompt_addition_0.01_1_3.txt\n",
      "creating prompts in word_prompts/prompt_addition_0.01_1_4.txt\n",
      "creating prompts in word_prompts/prompt_addition_0.01_1_5.txt\n",
      "creating prompts in word_prompts/prompt_addition_0.01_2_1.txt\n",
      "creating prompts in word_prompts/prompt_addition_0.01_2_2.txt\n",
      "creating prompts in word_prompts/prompt_addition_0.01_2_3.txt\n",
      "creating prompts in word_prompts/prompt_addition_0.01_2_4.txt\n",
      "creating prompts in word_prompts/prompt_addition_0.01_2_5.txt\n",
      "creating prompts in word_prompts/prompt_addition_0.01_3_1.txt\n",
      "creating prompts in word_prompts/prompt_addition_0.01_3_2.txt\n",
      "creating prompts in word_prompts/prompt_addition_0.01_3_3.txt\n",
      "creating prompts in word_prompts/prompt_addition_0.01_3_4.txt\n",
      "creating prompts in word_prompts/prompt_addition_0.01_3_5.txt\n",
      "creating prompts in word_prompts/prompt_addition_0.01_4_1.txt\n",
      "creating prompts in word_prompts/prompt_addition_0.01_4_2.txt\n",
      "creating prompts in word_prompts/prompt_addition_0.01_4_3.txt\n",
      "creating prompts in word_prompts/prompt_addition_0.01_4_4.txt\n",
      "creating prompts in word_prompts/prompt_addition_0.01_4_5.txt\n",
      "creating prompts in word_prompts/prompt_addition_0.01_5_1.txt\n",
      "creating prompts in word_prompts/prompt_addition_0.01_5_2.txt\n",
      "creating prompts in word_prompts/prompt_addition_0.01_5_3.txt\n",
      "creating prompts in word_prompts/prompt_addition_0.01_5_4.txt\n",
      "creating prompts in word_prompts/prompt_addition_0.01_5_5.txt\n"
     ]
    }
   ],
   "source": [
    "out_dir = 'word_prompts'\n",
    "num_prompts = 5\n",
    "num_phrase = 5\n",
    "# shots=3\n",
    "p = 0.01\n",
    "\n",
    "if not os.path.exists(out_dir):\n",
    "    os.makedirs(out_dir)\n",
    "\n",
    "input_file_path = f'prompt_addition_test_{p}.txt'\n",
    "with open(input_file_path, 'r') as f:\n",
    "    lines = f.readlines()\n",
    "\n",
    "for num_phrase in range(1, num_phrase+1):\n",
    "    for num_prompt in range(1, num_prompts+1):\n",
    "        few_shot_prefix_path = f'word_prefix/phrase{num_phrase}_{num_prompt}.txt'\n",
    "        with open(few_shot_prefix_path, 'r') as f:\n",
    "            data_few_shot_prefix = f.read()\n",
    "\n",
    "        output_file_path = f'{out_dir}/prompt_addition_{p}_{num_phrase}_{num_prompt}.txt'\n",
    "        \n",
    "        print(f'creating prompts in {output_file_path}')\n",
    "\n",
    "        with open(output_file_path, 'w') as f:\n",
    "            total_num_examples = len(lines) \n",
    "            for num_ex in range(total_num_examples):\n",
    "                prompt = lines[num_ex]\n",
    "                f.write(data_few_shot_prefix + prompt + '\\n')\n"
   ]
  },
  {
   "cell_type": "code",
   "execution_count": null,
   "metadata": {},
   "outputs": [],
   "source": []
  },
  {
   "cell_type": "code",
   "execution_count": null,
   "metadata": {},
   "outputs": [],
   "source": []
  }
 ],
 "metadata": {
  "kernelspec": {
   "display_name": "nanogpt",
   "language": "python",
   "name": "python3"
  },
  "language_info": {
   "codemirror_mode": {
    "name": "ipython",
    "version": 3
   },
   "file_extension": ".py",
   "mimetype": "text/x-python",
   "name": "python",
   "nbconvert_exporter": "python",
   "pygments_lexer": "ipython3",
   "version": "3.8.16"
  },
  "orig_nbformat": 4,
  "vscode": {
   "interpreter": {
    "hash": "a2ba5c7570592e86f20458013332ec3c55b0ae10b9d5b24be29cc9bc24858e1a"
   }
  }
 },
 "nbformat": 4,
 "nbformat_minor": 2
}
