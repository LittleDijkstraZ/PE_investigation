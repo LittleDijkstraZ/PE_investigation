{
 "cells": [
  {
   "cell_type": "code",
   "execution_count": 1,
   "metadata": {},
   "outputs": [],
   "source": [
    "num_samples = [500,1000,2000,3000,4000,5000,10000,20000,40000]"
   ]
  },
  {
   "cell_type": "code",
   "execution_count": 2,
   "metadata": {},
   "outputs": [
    {
     "name": "stdout",
     "output_type": "stream",
     "text": [
      "78449\n",
      "2\n"
     ]
    }
   ],
   "source": [
    "total_num_examples = 10000\n",
    "num_digits = 3\n",
    "input_file_paths = [f'add_examples_{num_sample}.txt' for num_sample in num_samples]\n",
    "output_file_path = f'train_nonoverlap.txt'\n",
    "\n",
    "lines_to_remove = set()\n",
    "for input_file_path in input_file_paths:\n",
    "    with open(input_file_path, 'r') as f:\n",
    "        for line in f.readlines():\n",
    "            lines_to_remove.add(line)\n",
    "\n",
    "print(len(lines_to_remove))\n",
    "\n",
    "with open(output_file_path, 'w') as f:\n",
    "    for x in range(1000):\n",
    "        for y in range(1000):\n",
    "            line_to_add = f'{x}+{y}={x+y}\\n'\n",
    "            if line_to_add in lines_to_remove:\n",
    "                lines_to_remove.remove(line_to_add)\n",
    "            else:\n",
    "                f.write(line_to_add)\n",
    "\n",
    "print(len(lines_to_remove))"
   ]
  },
  {
   "cell_type": "code",
   "execution_count": 3,
   "metadata": {},
   "outputs": [],
   "source": [
    "import random\n",
    "num_test_samples = [100, 1000, 10000]\n",
    "ps = [0.0001, 0.001, 0.01]\n",
    "\n",
    "entire_nonoverlap_file_path = 'train_nonoverlap.txt'\n",
    "with open(entire_nonoverlap_file_path, 'r') as f:\n",
    "    lines = f.readlines()\n",
    "\n",
    "for i in range(len(num_test_samples)):\n",
    "    num_test_sample = num_test_samples[i]\n",
    "    p = ps[i]\n",
    "    test_file_path = f'prompt_addition_test_{p}.txt'\n",
    "    with open(test_file_path, 'w') as f:\n",
    "        f.writelines(random.sample(lines, num_test_sample))\n",
    "        "
   ]
  },
  {
   "cell_type": "code",
   "execution_count": null,
   "metadata": {},
   "outputs": [],
   "source": []
  }
 ],
 "metadata": {
  "kernelspec": {
   "display_name": "nanogpt",
   "language": "python",
   "name": "python3"
  },
  "language_info": {
   "codemirror_mode": {
    "name": "ipython",
    "version": 3
   },
   "file_extension": ".py",
   "mimetype": "text/x-python",
   "name": "python",
   "nbconvert_exporter": "python",
   "pygments_lexer": "ipython3",
   "version": "3.8.16"
  },
  "orig_nbformat": 4
 },
 "nbformat": 4,
 "nbformat_minor": 2
}
