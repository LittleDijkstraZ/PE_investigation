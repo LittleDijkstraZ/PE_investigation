{
 "cells": [
  {
   "cell_type": "code",
   "execution_count": 1,
   "metadata": {},
   "outputs": [],
   "source": [
    "\"\"\"\n",
    "create few shot (1~3) prompt from the test prompt\n",
    "NOTE: prefix taken from ar few_shot_prefix!! -> please first copy and paste the folder and use it\n",
    "\"\"\"\n",
    "import os\n",
    "import pickle\n",
    "import requests\n",
    "import numpy as np\n",
    "import random\n",
    "import re"
   ]
  },
  {
   "cell_type": "code",
   "execution_count": 2,
   "metadata": {},
   "outputs": [],
   "source": [
    "def reverse_string(a: str) -> str:\n",
    "    return a[::-1]"
   ]
  },
  {
   "cell_type": "code",
   "execution_count": 19,
   "metadata": {},
   "outputs": [
    {
     "name": "stdout",
     "output_type": "stream",
     "text": [
      "['few_shot_prefix_ar/1shot_2.txt', 'few_shot_prefix_ar/2shot_5.txt', 'few_shot_prefix_ar/2shot_1.txt', 'few_shot_prefix_ar/3shot_1.txt', 'few_shot_prefix_ar/2shot_4.txt', 'few_shot_prefix_ar/2shot_2.txt', 'few_shot_prefix_ar/1shot_3.txt', 'few_shot_prefix_ar/1shot_5.txt', 'few_shot_prefix_ar/3shot_3.txt', 'few_shot_prefix_ar/2shot_3.txt', 'few_shot_prefix_ar/3shot_4.txt', 'few_shot_prefix_ar/1shot_1.txt', 'few_shot_prefix_ar/3shot_5.txt', 'few_shot_prefix_ar/3shot_2.txt', 'few_shot_prefix_ar/1shot_4.txt']\n",
      "few_shot_prefix_ar/1shot_2.txt\n",
      "few_shot_prefix_ar/2shot_5.txt\n",
      "few_shot_prefix_ar/2shot_1.txt\n",
      "few_shot_prefix_ar/3shot_1.txt\n",
      "few_shot_prefix_ar/2shot_4.txt\n",
      "few_shot_prefix_ar/2shot_2.txt\n",
      "few_shot_prefix_ar/1shot_3.txt\n",
      "few_shot_prefix_ar/1shot_5.txt\n",
      "few_shot_prefix_ar/3shot_3.txt\n",
      "few_shot_prefix_ar/2shot_3.txt\n",
      "few_shot_prefix_ar/3shot_4.txt\n",
      "few_shot_prefix_ar/1shot_1.txt\n",
      "few_shot_prefix_ar/3shot_5.txt\n",
      "few_shot_prefix_ar/3shot_2.txt\n",
      "few_shot_prefix_ar/1shot_4.txt\n"
     ]
    }
   ],
   "source": [
    "# import glob\n",
    "# ar_prefix_files = glob.glob('few_shot_prefix_ar/*')\n",
    "# print(ar_prefix_files)\n",
    "\n",
    "# for ar_prefix_file in ar_prefix_files:\n",
    "#     output_prefix_file = ar_prefix_file.replace('few_shot_prefix_ar', 'few_shot_prefix')\n",
    "\n",
    "#     with open(ar_prefix_file, 'r') as f:\n",
    "#         print(ar_prefix_file)\n",
    "#         with open(output_prefix_file, 'w') as f2:\n",
    "#             data = f.read()\n",
    "#             data_lines = data.split('Input:\\n')[1:]\n",
    "#             for d in data_lines:\n",
    "#                 d = d.split('\\n')[0]\n",
    "#                 x, y = d.split('+')\n",
    "#                 x, y = x.strip(), y.strip()\n",
    "#                 z = int(x) + int(y)\n",
    "#                 f2.write(f'{x}+{y}={z}\\n')\n"
   ]
  },
  {
   "cell_type": "code",
   "execution_count": 6,
   "metadata": {},
   "outputs": [
    {
     "name": "stdout",
     "output_type": "stream",
     "text": [
      "creating 3 shot prompts in few_shot_prompts/prompt_addition_3shot_test_0.01_1.txt\n",
      "creating 3 shot prompts in few_shot_prompts/prompt_addition_3shot_test_0.01_2.txt\n",
      "creating 3 shot prompts in few_shot_prompts/prompt_addition_3shot_test_0.01_3.txt\n",
      "creating 3 shot prompts in few_shot_prompts/prompt_addition_3shot_test_0.01_4.txt\n",
      "creating 3 shot prompts in few_shot_prompts/prompt_addition_3shot_test_0.01_5.txt\n"
     ]
    }
   ],
   "source": [
    "out_dir = 'few_shot_prompts'\n",
    "num_prompts = 5\n",
    "\n",
    "shots=3\n",
    "p = 0.01\n",
    "\n",
    "if not os.path.exists(out_dir):\n",
    "    os.makedirs(out_dir)\n",
    "\n",
    "input_file_path = f'prompt_addition_test_{p}.txt'\n",
    "with open(input_file_path, 'r') as f:\n",
    "    lines = f.readlines()\n",
    "\n",
    "for num_prompt in range(1, num_prompts+1):\n",
    "    few_shot_prefix_path = f'few_shot_prefix/{shots}shot_{num_prompt}.txt'\n",
    "    with open(few_shot_prefix_path, 'r') as f:\n",
    "        data_few_shot_prefix = f.read()\n",
    "\n",
    "    output_file_path = f'{out_dir}/prompt_addition_{shots}shot_test_{p}_{num_prompt}.txt'\n",
    "    \n",
    "    print(f'creating {shots} shot prompts in {output_file_path}')\n",
    "\n",
    "    with open(output_file_path, 'w') as f:\n",
    "        total_num_examples = len(lines) \n",
    "        for num_ex in range(total_num_examples):\n",
    "            prompt = lines[num_ex]\n",
    "            f.write(data_few_shot_prefix + prompt + '\\n')\n"
   ]
  },
  {
   "cell_type": "code",
   "execution_count": 5,
   "metadata": {},
   "outputs": [
    {
     "name": "stdout",
     "output_type": "stream",
     "text": [
      "creating 2 shot prompts in few_shot_prompts/prompt_addition_2shot_test_0.01_1.txt\n",
      "creating 2 shot prompts in few_shot_prompts/prompt_addition_2shot_test_0.01_2.txt\n",
      "creating 2 shot prompts in few_shot_prompts/prompt_addition_2shot_test_0.01_3.txt\n",
      "creating 2 shot prompts in few_shot_prompts/prompt_addition_2shot_test_0.01_4.txt\n",
      "creating 2 shot prompts in few_shot_prompts/prompt_addition_2shot_test_0.01_5.txt\n"
     ]
    }
   ],
   "source": [
    "out_dir = 'few_shot_prompts'\n",
    "num_prompts = 5\n",
    "\n",
    "shots=2\n",
    "p = 0.01\n",
    "\n",
    "if not os.path.exists(out_dir):\n",
    "    os.makedirs(out_dir)\n",
    "\n",
    "input_file_path = f'prompt_addition_test_{p}.txt'\n",
    "with open(input_file_path, 'r') as f:\n",
    "    lines = f.readlines()\n",
    "\n",
    "for num_prompt in range(1, num_prompts+1):\n",
    "    few_shot_prefix_path = f'few_shot_prefix/{shots}shot_{num_prompt}.txt'\n",
    "    with open(few_shot_prefix_path, 'r') as f:\n",
    "        data_few_shot_prefix = f.read()\n",
    "\n",
    "    output_file_path = f'{out_dir}/prompt_addition_{shots}shot_test_{p}_{num_prompt}.txt'\n",
    "    \n",
    "    print(f'creating {shots} shot prompts in {output_file_path}')\n",
    "\n",
    "    with open(output_file_path, 'w') as f:\n",
    "        total_num_examples = len(lines) \n",
    "        for num_ex in range(total_num_examples):\n",
    "            prompt = lines[num_ex]\n",
    "            f.write(data_few_shot_prefix + prompt + '\\n')\n"
   ]
  },
  {
   "cell_type": "code",
   "execution_count": 7,
   "metadata": {},
   "outputs": [
    {
     "name": "stdout",
     "output_type": "stream",
     "text": [
      "creating 1 shot prompts in few_shot_prompts/prompt_addition_1shot_test_0.01_1.txt\n",
      "creating 1 shot prompts in few_shot_prompts/prompt_addition_1shot_test_0.01_2.txt\n",
      "creating 1 shot prompts in few_shot_prompts/prompt_addition_1shot_test_0.01_3.txt\n",
      "creating 1 shot prompts in few_shot_prompts/prompt_addition_1shot_test_0.01_4.txt\n",
      "creating 1 shot prompts in few_shot_prompts/prompt_addition_1shot_test_0.01_5.txt\n"
     ]
    }
   ],
   "source": [
    "out_dir = 'few_shot_prompts'\n",
    "num_prompts = 5\n",
    "\n",
    "shots=1\n",
    "p = 0.01\n",
    "\n",
    "if not os.path.exists(out_dir):\n",
    "    os.makedirs(out_dir)\n",
    "\n",
    "input_file_path = f'prompt_addition_test_{p}.txt'\n",
    "with open(input_file_path, 'r') as f:\n",
    "    lines = f.readlines()\n",
    "\n",
    "for num_prompt in range(1, num_prompts+1):\n",
    "    few_shot_prefix_path = f'few_shot_prefix/{shots}shot_{num_prompt}.txt'\n",
    "    with open(few_shot_prefix_path, 'r') as f:\n",
    "        data_few_shot_prefix = f.read()\n",
    "\n",
    "    output_file_path = f'{out_dir}/prompt_addition_{shots}shot_test_{p}_{num_prompt}.txt'\n",
    "    \n",
    "    print(f'creating {shots} shot prompts in {output_file_path}')\n",
    "\n",
    "    with open(output_file_path, 'w') as f:\n",
    "        total_num_examples = len(lines) \n",
    "        for num_ex in range(total_num_examples):\n",
    "            prompt = lines[num_ex]\n",
    "            f.write(data_few_shot_prefix + prompt + '\\n')\n"
   ]
  },
  {
   "cell_type": "code",
   "execution_count": null,
   "metadata": {},
   "outputs": [],
   "source": []
  },
  {
   "cell_type": "code",
   "execution_count": null,
   "metadata": {},
   "outputs": [],
   "source": []
  },
  {
   "cell_type": "code",
   "execution_count": 1,
   "metadata": {},
   "outputs": [],
   "source": [
    "## create non-sense (noisy) prompt\n",
    "\"\"\"\n",
    "create few shot (1~3) prompt from the test prompt\n",
    "\"\"\"\n",
    "import os\n",
    "import pickle\n",
    "import requests\n",
    "import numpy as np\n",
    "import random\n",
    "import re"
   ]
  },
  {
   "cell_type": "code",
   "execution_count": 2,
   "metadata": {},
   "outputs": [
    {
     "name": "stdout",
     "output_type": "stream",
     "text": [
      "creating new file: few_shot_noisy_prefix/3shot_1.txt!\n",
      "creating new file: few_shot_noisy_prefix/3shot_2.txt!\n",
      "creating new file: few_shot_noisy_prefix/3shot_3.txt!\n",
      "creating new file: few_shot_noisy_prefix/3shot_4.txt!\n",
      "creating new file: few_shot_noisy_prefix/3shot_5.txt!\n"
     ]
    }
   ],
   "source": [
    "out_dir = 'few_shot_noisy_prefix'\n",
    "num_prompts = 5\n",
    "\n",
    "shots=3\n",
    "\n",
    "if not os.path.exists(out_dir):\n",
    "    os.makedirs(out_dir)\n",
    "\n",
    "for num_prompt in range(1, num_prompts+1):\n",
    "    output_file_path = f'{out_dir}/{shots}shot_{num_prompt}.txt'\n",
    "    if os.path.exists(output_file_path):\n",
    "         continue\n",
    "    with open(output_file_path, 'w') as f:\n",
    "        print(f'creating new file: {output_file_path}!')\n",
    "        for shot in range(shots):\n",
    "            x, y = random.randint(1, 1000), random.randint(1, 999)\n",
    "            x2, y2 = random.randint(1, 1000), random.randint(1, 999)\n",
    "            z = x2 + y2            \n",
    "            f.write(f'{x}+{y}={z}\\n')\n"
   ]
  },
  {
   "cell_type": "code",
   "execution_count": 3,
   "metadata": {},
   "outputs": [
    {
     "name": "stdout",
     "output_type": "stream",
     "text": [
      "creating 3 shot prompts in few_shot_noisy_prompts/prompt_addition_3shot_test_0.01_1.txt\n",
      "creating 3 shot prompts in few_shot_noisy_prompts/prompt_addition_3shot_test_0.01_2.txt\n",
      "creating 3 shot prompts in few_shot_noisy_prompts/prompt_addition_3shot_test_0.01_3.txt\n",
      "creating 3 shot prompts in few_shot_noisy_prompts/prompt_addition_3shot_test_0.01_4.txt\n",
      "creating 3 shot prompts in few_shot_noisy_prompts/prompt_addition_3shot_test_0.01_5.txt\n",
      "creating 3 shot prompts in few_shot_noisy_prompts/prompt_addition_3shot_test_0.001_1.txt\n",
      "creating 3 shot prompts in few_shot_noisy_prompts/prompt_addition_3shot_test_0.001_2.txt\n",
      "creating 3 shot prompts in few_shot_noisy_prompts/prompt_addition_3shot_test_0.001_3.txt\n",
      "creating 3 shot prompts in few_shot_noisy_prompts/prompt_addition_3shot_test_0.001_4.txt\n",
      "creating 3 shot prompts in few_shot_noisy_prompts/prompt_addition_3shot_test_0.001_5.txt\n",
      "creating 3 shot prompts in few_shot_noisy_prompts/prompt_addition_3shot_test_0.0001_1.txt\n",
      "creating 3 shot prompts in few_shot_noisy_prompts/prompt_addition_3shot_test_0.0001_2.txt\n",
      "creating 3 shot prompts in few_shot_noisy_prompts/prompt_addition_3shot_test_0.0001_3.txt\n",
      "creating 3 shot prompts in few_shot_noisy_prompts/prompt_addition_3shot_test_0.0001_4.txt\n",
      "creating 3 shot prompts in few_shot_noisy_prompts/prompt_addition_3shot_test_0.0001_5.txt\n"
     ]
    }
   ],
   "source": [
    "out_dir = 'few_shot_noisy_prompts'\n",
    "num_prompts = 5\n",
    "\n",
    "shots=3\n",
    "ps = [0.01, 0.001, 0.0001]\n",
    "\n",
    "if not os.path.exists(out_dir):\n",
    "    os.makedirs(out_dir)\n",
    "\n",
    "for p in ps:\n",
    "    input_file_path = f'prompt_addition_test_{p}.txt'\n",
    "    with open(input_file_path, 'r') as f:\n",
    "        lines = f.readlines()\n",
    "\n",
    "    for num_prompt in range(1, num_prompts+1):\n",
    "        few_shot_prefix_path = f'few_shot_noisy_prefix/{shots}shot_{num_prompt}.txt'\n",
    "        with open(few_shot_prefix_path, 'r') as f:\n",
    "            data_few_shot_prefix = f.read()\n",
    "\n",
    "        output_file_path = f'{out_dir}/prompt_addition_{shots}shot_test_{p}_{num_prompt}.txt'\n",
    "        \n",
    "        print(f'creating {shots} shot prompts in {output_file_path}')\n",
    "\n",
    "        with open(output_file_path, 'w') as f:\n",
    "            total_num_examples = len(lines) \n",
    "            for num_ex in range(total_num_examples):\n",
    "                prompt = lines[num_ex]\n",
    "                f.write(data_few_shot_prefix + prompt + '\\n')\n"
   ]
  },
  {
   "cell_type": "code",
   "execution_count": null,
   "metadata": {},
   "outputs": [],
   "source": []
  },
  {
   "cell_type": "code",
   "execution_count": null,
   "metadata": {},
   "outputs": [],
   "source": []
  },
  {
   "cell_type": "code",
   "execution_count": 1,
   "metadata": {},
   "outputs": [],
   "source": [
    "## create 4-digit addition prompt\n",
    "\"\"\"\n",
    "create few shot (1~3) prompt from the test prompt\n",
    "\"\"\"\n",
    "import os\n",
    "import pickle\n",
    "import requests\n",
    "import numpy as np\n",
    "import random\n",
    "import re\n",
    "out_dir = 'few_shot_prefix'\n",
    "num_prompts = 5\n",
    "\n",
    "shots=3\n",
    "\n",
    "if not os.path.exists(out_dir):\n",
    "    os.makedirs(out_dir)\n",
    "\n",
    "for num_prompt in range(1, num_prompts+1):\n",
    "    output_file_path = f'{out_dir}/4digit_{shots}shot_{num_prompt}.txt'\n",
    "    if os.path.exists(output_file_path):\n",
    "         continue\n",
    "    with open(output_file_path, 'w') as f:\n",
    "        print(f'creating new file: {output_file_path}!')\n",
    "        for shot in range(shots):\n",
    "            x, y = random.randint(1, 9999), random.randint(1, 9999)\n",
    "            z = x + y           \n",
    "            f.write(f'{x}+{y}={z}\\n')\n"
   ]
  },
  {
   "cell_type": "code",
   "execution_count": 2,
   "metadata": {},
   "outputs": [
    {
     "name": "stdout",
     "output_type": "stream",
     "text": [
      "creating 3 shot prompts in few_shot_prompts/prompt_addition_4digit_3shot_test_1.txt\n",
      "creating 3 shot prompts in few_shot_prompts/prompt_addition_4digit_3shot_test_2.txt\n",
      "creating 3 shot prompts in few_shot_prompts/prompt_addition_4digit_3shot_test_3.txt\n",
      "creating 3 shot prompts in few_shot_prompts/prompt_addition_4digit_3shot_test_4.txt\n",
      "creating 3 shot prompts in few_shot_prompts/prompt_addition_4digit_3shot_test_5.txt\n"
     ]
    }
   ],
   "source": [
    "out_dir = 'few_shot_prompts'\n",
    "num_prompts = 5\n",
    "\n",
    "shots=3\n",
    "\n",
    "if not os.path.exists(out_dir):\n",
    "    os.makedirs(out_dir)\n",
    "\n",
    "input_file_path = f'prompt_4digit_10000.txt'\n",
    "with open(input_file_path, 'r') as f:\n",
    "    lines = f.readlines()\n",
    "\n",
    "for num_prompt in range(1, num_prompts+1):\n",
    "    few_shot_prefix_path = f'few_shot_prefix/4digit_{shots}shot_{num_prompt}.txt'\n",
    "    with open(few_shot_prefix_path, 'r') as f:\n",
    "        data_few_shot_prefix = f.read()\n",
    "\n",
    "    output_file_path = f'{out_dir}/prompt_addition_4digit_{shots}shot_test_{num_prompt}.txt'\n",
    "    \n",
    "    print(f'creating {shots} shot prompts in {output_file_path}')\n",
    "\n",
    "    with open(output_file_path, 'w') as f:\n",
    "        total_num_examples = len(lines) \n",
    "        for num_ex in range(total_num_examples):\n",
    "            prompt = lines[num_ex]\n",
    "            f.write(data_few_shot_prefix + prompt + '\\n')\n"
   ]
  },
  {
   "cell_type": "code",
   "execution_count": 3,
   "metadata": {},
   "outputs": [
    {
     "name": "stdout",
     "output_type": "stream",
     "text": [
      "creating new file: few_shot_prefix/4digit_20shot_1.txt!\n",
      "creating new file: few_shot_prefix/4digit_20shot_2.txt!\n",
      "creating new file: few_shot_prefix/4digit_20shot_3.txt!\n",
      "creating new file: few_shot_prefix/4digit_20shot_4.txt!\n",
      "creating new file: few_shot_prefix/4digit_20shot_5.txt!\n",
      "creating 20 shot prompts in few_shot_prompts/prompt_addition_4digit_20shot_test_1.txt\n",
      "creating 20 shot prompts in few_shot_prompts/prompt_addition_4digit_20shot_test_2.txt\n",
      "creating 20 shot prompts in few_shot_prompts/prompt_addition_4digit_20shot_test_3.txt\n",
      "creating 20 shot prompts in few_shot_prompts/prompt_addition_4digit_20shot_test_4.txt\n",
      "creating 20 shot prompts in few_shot_prompts/prompt_addition_4digit_20shot_test_5.txt\n"
     ]
    }
   ],
   "source": [
    "## create 4-digit addition prompt\n",
    "\"\"\"\n",
    "create few shot (1~3) prompt from the test prompt\n",
    "\"\"\"\n",
    "import os\n",
    "import pickle\n",
    "import requests\n",
    "import numpy as np\n",
    "import random\n",
    "import re\n",
    "out_dir = 'few_shot_prefix'\n",
    "num_prompts = 5\n",
    "\n",
    "shots=20\n",
    "\n",
    "if not os.path.exists(out_dir):\n",
    "    os.makedirs(out_dir)\n",
    "\n",
    "for num_prompt in range(1, num_prompts+1):\n",
    "    output_file_path = f'{out_dir}/4digit_{shots}shot_{num_prompt}.txt'\n",
    "    if os.path.exists(output_file_path):\n",
    "         continue\n",
    "    with open(output_file_path, 'w') as f:\n",
    "        print(f'creating new file: {output_file_path}!')\n",
    "        for shot in range(shots):\n",
    "            x, y = random.randint(1, 9999), random.randint(1, 9999)\n",
    "            z = x + y           \n",
    "            f.write(f'{x}+{y}={z}\\n')\n",
    "\n",
    "\n",
    "out_dir = 'few_shot_prompts'\n",
    "num_prompts = 5\n",
    "\n",
    "shots=20\n",
    "\n",
    "if not os.path.exists(out_dir):\n",
    "    os.makedirs(out_dir)\n",
    "\n",
    "input_file_path = f'prompt_4digit_10000.txt'\n",
    "with open(input_file_path, 'r') as f:\n",
    "    lines = f.readlines()\n",
    "\n",
    "for num_prompt in range(1, num_prompts+1):\n",
    "    few_shot_prefix_path = f'few_shot_prefix/4digit_{shots}shot_{num_prompt}.txt'\n",
    "    with open(few_shot_prefix_path, 'r') as f:\n",
    "        data_few_shot_prefix = f.read()\n",
    "\n",
    "    output_file_path = f'{out_dir}/prompt_addition_4digit_{shots}shot_test_{num_prompt}.txt'\n",
    "    \n",
    "    print(f'creating {shots} shot prompts in {output_file_path}')\n",
    "\n",
    "    with open(output_file_path, 'w') as f:\n",
    "        total_num_examples = len(lines) \n",
    "        for num_ex in range(total_num_examples):\n",
    "            prompt = lines[num_ex]\n",
    "            f.write(data_few_shot_prefix + prompt + '\\n')\n"
   ]
  },
  {
   "cell_type": "code",
   "execution_count": null,
   "metadata": {},
   "outputs": [],
   "source": []
  },
  {
   "cell_type": "code",
   "execution_count": 3,
   "metadata": {},
   "outputs": [
    {
     "name": "stdout",
     "output_type": "stream",
     "text": [
      "creating 3 shot prompts in few_shot_prompts/prompt_addition_dollar_4digit_3shot_test_1.txt\n",
      "creating 3 shot prompts in few_shot_prompts/prompt_addition_dollar_4digit_3shot_test_2.txt\n",
      "creating 3 shot prompts in few_shot_prompts/prompt_addition_dollar_4digit_3shot_test_3.txt\n",
      "creating 3 shot prompts in few_shot_prompts/prompt_addition_dollar_4digit_3shot_test_4.txt\n",
      "creating 3 shot prompts in few_shot_prompts/prompt_addition_dollar_4digit_3shot_test_5.txt\n"
     ]
    }
   ],
   "source": [
    "## create 4-digit addition prompt with dollar + reverse\n",
    "\"\"\"\n",
    "create few shot (1~3) prompt from the test prompt\n",
    "\"\"\"\n",
    "import os\n",
    "import pickle\n",
    "import requests\n",
    "import numpy as np\n",
    "import random\n",
    "import re\n",
    "out_dir = 'few_shot_prefix'\n",
    "num_prompts = 5\n",
    "\n",
    "shots=3\n",
    "\n",
    "if not os.path.exists(out_dir):\n",
    "    os.makedirs(out_dir)\n",
    "\n",
    "for num_prompt in range(1, num_prompts+1):\n",
    "    output_file_path = f'{out_dir}/4digit_{shots}shot_{num_prompt}.txt'\n",
    "    with open(output_file_path, 'r') as f:\n",
    "        save_path = f'{out_dir}/dollar_4digit_{shots}shot_{num_prompt}.txt'\n",
    "        if os.path.exists(save_path):\n",
    "            continue\n",
    "        print(f'creating new file: {save_path}!')\n",
    "        lines = f.readlines()\n",
    "        with open(save_path, 'w') as f:\n",
    "            for line in lines:\n",
    "                a_plus_b, c = line.rstrip().split('=')\n",
    "                c_rev = c[::-1]\n",
    "                f.write(f'${a_plus_b}={c_rev}$\\n')\n",
    "\n",
    "\n",
    "out_dir = 'few_shot_prompts'\n",
    "num_prompts = 5\n",
    "\n",
    "shots=3\n",
    "\n",
    "if not os.path.exists(out_dir):\n",
    "    os.makedirs(out_dir)\n",
    "\n",
    "input_file_path = f'prompt_4digit_10000.txt'\n",
    "with open(input_file_path, 'r') as f:\n",
    "    lines = f.readlines()\n",
    "\n",
    "for num_prompt in range(1, num_prompts+1):\n",
    "    few_shot_prefix_path = f'few_shot_prefix/dollar_4digit_{shots}shot_{num_prompt}.txt'\n",
    "    with open(few_shot_prefix_path, 'r') as f:\n",
    "        data_few_shot_prefix = f.read()\n",
    "\n",
    "    output_file_path = f'{out_dir}/prompt_addition_dollar_4digit_{shots}shot_test_{num_prompt}.txt'\n",
    "    \n",
    "    print(f'creating {shots} shot prompts in {output_file_path}')\n",
    "\n",
    "    with open(output_file_path, 'w') as f:\n",
    "        total_num_examples = len(lines) \n",
    "        for num_ex in range(total_num_examples):\n",
    "            prompt = lines[num_ex]\n",
    "            f.write(data_few_shot_prefix + '$' + prompt + '\\n')\n"
   ]
  },
  {
   "cell_type": "code",
   "execution_count": null,
   "metadata": {},
   "outputs": [],
   "source": []
  }
 ],
 "metadata": {
  "kernelspec": {
   "display_name": "nanogpt",
   "language": "python",
   "name": "python3"
  },
  "language_info": {
   "codemirror_mode": {
    "name": "ipython",
    "version": 3
   },
   "file_extension": ".py",
   "mimetype": "text/x-python",
   "name": "python",
   "nbconvert_exporter": "python",
   "pygments_lexer": "ipython3",
   "version": "3.8.10"
  },
  "orig_nbformat": 4,
  "vscode": {
   "interpreter": {
    "hash": "a2ba5c7570592e86f20458013332ec3c55b0ae10b9d5b24be29cc9bc24858e1a"
   }
  }
 },
 "nbformat": 4,
 "nbformat_minor": 2
}
