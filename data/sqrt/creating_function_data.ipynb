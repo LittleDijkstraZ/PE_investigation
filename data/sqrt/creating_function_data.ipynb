{
 "cells": [
  {
   "attachments": {},
   "cell_type": "markdown",
   "metadata": {},
   "source": [
    "# Create square root data"
   ]
  },
  {
   "cell_type": "code",
   "execution_count": 2,
   "metadata": {},
   "outputs": [],
   "source": [
    "import math\n",
    "import random\n",
    "import os"
   ]
  },
  {
   "cell_type": "code",
   "execution_count": 3,
   "metadata": {},
   "outputs": [],
   "source": [
    "def truncate_to_4_digit(x):\n",
    "    return math.floor(x * 10000) / 10000\n",
    "\n",
    "def create_sqrt_data(filename, total_num_examples=10000):\n",
    "    with open(filename, 'w') as f:\n",
    "        for i in range(total_num_examples):\n",
    "            x = random.uniform(1, 10)\n",
    "            x_trunc = truncate_to_4_digit(x)\n",
    "            y = math.sqrt(x_trunc)\n",
    "            y_trunc = truncate_to_4_digit(y)\n",
    "            f.write(f'sqrt({x_trunc})={y_trunc}\\n')"
   ]
  },
  {
   "cell_type": "code",
   "execution_count": 4,
   "metadata": {},
   "outputs": [
    {
     "name": "stdout",
     "output_type": "stream",
     "text": [
      "File train_sqrt_10000.txt already exists\n"
     ]
    }
   ],
   "source": [
    "total_num_examples = 10000\n",
    "input_file_path = f'train_sqrt_{total_num_examples}.txt'\n",
    "if not os.path.exists(input_file_path):\n",
    "    create_sqrt_data(input_file_path, total_num_examples=total_num_examples)\n",
    "else:\n",
    "    print(f'File {input_file_path} already exists')\n",
    "\n",
    "total_num_examples = 20000\n",
    "input_file_path = f'train_sqrt_{total_num_examples}.txt'\n",
    "if not os.path.exists(input_file_path):\n",
    "    create_sqrt_data(input_file_path, total_num_examples=total_num_examples)\n",
    "else:\n",
    "    print(f'File {input_file_path} already exists')\n",
    "\n",
    "total_num_examples = 40000\n",
    "input_file_path = f'train_sqrt_{total_num_examples}.txt'\n",
    "if not os.path.exists(input_file_path):\n",
    "    create_sqrt_data(input_file_path, total_num_examples=total_num_examples)\n",
    "else:\n",
    "    print(f'File {input_file_path} already exists')"
   ]
  },
  {
   "cell_type": "code",
   "execution_count": 4,
   "metadata": {},
   "outputs": [],
   "source": [
    "# create non-overlapping data\n",
    "total_num_examples = 10000\n",
    "input_file_path = f'train_sqrt_{total_num_examples}.txt'\n",
    "output_file_path = f'train_sqrt_{total_num_examples}_nonoverlap.txt'\n",
    "\n",
    "if not os.path.exists(output_file_path):\n",
    "    lines_to_remove = set()\n",
    "    with open(input_file_path, 'r') as f:\n",
    "        for line in f.readlines():\n",
    "            lines_to_remove.add(line)\n",
    "\n",
    "    print(len(lines_to_remove))\n",
    "\n",
    "    with open(output_file_path, 'w') as f:\n",
    "        for x in range(10000, 100000):\n",
    "            x = x / 10000\n",
    "            x_trunc = truncate_to_4_digit(x)\n",
    "            y = math.sqrt(x_trunc)\n",
    "            y_trunc = truncate_to_4_digit(y)\n",
    "            line_to_add = f'sqrt({x_trunc})={y_trunc}\\n'\n",
    "            if line_to_add in lines_to_remove:\n",
    "                lines_to_remove.remove(line_to_add)\n",
    "            else:\n",
    "                f.write(line_to_add)\n",
    "\n",
    "    print(len(lines_to_remove))\n"
   ]
  },
  {
   "cell_type": "code",
   "execution_count": 5,
   "metadata": {},
   "outputs": [],
   "source": [
    "# shuffle and create a smaller version\n",
    "# total_num_examples = 10000\n",
    "# input_file_path = f'train_sqrt_{total_num_examples}_nonoverlap.txt'\n",
    "# num_test_samples = 10000\n",
    "\n",
    "# with open(input_file_path, 'r') as f:\n",
    "#     lines = f.readlines()\n",
    "#     random.shuffle(lines)\n",
    "#     with open(f'test_sqrt_{num_test_samples}.txt', 'w') as f2:\n",
    "#         for line in lines[:num_test_samples]:\n",
    "#             f2.write(line)"
   ]
  },
  {
   "cell_type": "code",
   "execution_count": 6,
   "metadata": {},
   "outputs": [],
   "source": [
    "# shuffle and create a smaller version\n",
    "# total_num_examples = 10000\n",
    "# input_file_path = f'train_sqrt_{total_num_examples}_nonoverlap.txt'\n",
    "# num_test_samples = 1000\n",
    "\n",
    "# with open(input_file_path, 'r') as f:\n",
    "#     lines = f.readlines()\n",
    "#     random.shuffle(lines)\n",
    "#     with open(f'test_sqrt_{num_test_samples}.txt', 'w') as f2:\n",
    "#         for line in lines[:num_test_samples]:\n",
    "#             f2.write(line)"
   ]
  },
  {
   "cell_type": "code",
   "execution_count": 7,
   "metadata": {},
   "outputs": [],
   "source": [
    "# shuffle and create a smaller version\n",
    "# total_num_examples = 10000\n",
    "# input_file_path = f'train_sqrt_{total_num_examples}_nonoverlap.txt'\n",
    "# num_test_samples = 100\n",
    "\n",
    "# with open(input_file_path, 'r') as f:\n",
    "#     lines = f.readlines()\n",
    "#     random.shuffle(lines)\n",
    "#     with open(f'test_sqrt_{num_test_samples}.txt', 'w') as f2:\n",
    "#         for line in lines[:num_test_samples]:\n",
    "#             f2.write(line)"
   ]
  },
  {
   "cell_type": "code",
   "execution_count": 1,
   "metadata": {},
   "outputs": [],
   "source": [
    "import random\n",
    "import os\n",
    "def get_subset_train_data(num_samples):\n",
    "    with open('train_sqrt_10000.txt', 'r') as f:\n",
    "        lines = f.readlines()\n",
    "    random.shuffle(lines)\n",
    "    if os.path.exists(f'train_sqrt_{num_samples}.txt'):\n",
    "        print('file exists!')\n",
    "        return\n",
    "    \n",
    "    with open(f'train_sqrt_{num_samples}.txt', 'w') as f:\n",
    "        for line in lines[:num_samples]:\n",
    "            f.write(line)\n",
    "\n",
    "get_subset_train_data(1000)\n",
    "get_subset_train_data(3000)\n",
    "get_subset_train_data(5000)"
   ]
  },
  {
   "attachments": {},
   "cell_type": "markdown",
   "metadata": {},
   "source": [
    "# Let's make an algorithmic reasomic-like function (Newton's method based) to calculate the square root of a number"
   ]
  },
  {
   "cell_type": "code",
   "execution_count": 8,
   "metadata": {},
   "outputs": [
    {
     "name": "stdout",
     "output_type": "stream",
     "text": [
      "[1, 2, 8]\n",
      "[1,2,8]\n"
     ]
    }
   ],
   "source": [
    "import math \n",
    "\n",
    "def truncate_to_n_digit(x, n=4):\n",
    "    return math.floor(x * (10 ** n)) / (10 ** n)\n",
    "\n",
    "x = 128\n",
    "def list_to_string(a):\n",
    "    a = str(a)\n",
    "    return a.replace(' ', '')\n",
    "\n",
    "def num_to_list(num):\n",
    "    return [int(x) for x in str(num)]\n",
    "\n",
    "list_x = num_to_list(x)\n",
    "print(list_x)\n",
    "print(list_to_string(list_x))"
   ]
  },
  {
   "cell_type": "code",
   "execution_count": 9,
   "metadata": {},
   "outputs": [
    {
     "name": "stdout",
     "output_type": "stream",
     "text": [
      "Input:\n",
      "sqrt(1.2345)\n",
      "Target:\n",
      "\n"
     ]
    }
   ],
   "source": [
    "def get_input_string(x: float, operator='sqrt'):\n",
    "    x_trunc = truncate_to_4_digit(x)\n",
    "    input_str = f'Input:\\n{operator}({x_trunc})\\n'\n",
    "    input_str += f'Target:\\n'\n",
    "\n",
    "    return input_str\n",
    "\n",
    "print(get_input_string(1.23456789))"
   ]
  },
  {
   "cell_type": "code",
   "execution_count": 10,
   "metadata": {},
   "outputs": [],
   "source": [
    "def get_input_string(x: float, operator='sqrt'):\n",
    "    x_trunc = truncate_to_4_digit(x)\n",
    "    input_str = f'Input:\\n{operator}({x_trunc})\\n'\n",
    "    input_str += f'Target:\\n'\n",
    "\n",
    "    return input_str\n",
    "\n",
    "\n",
    "def get_output_string(x,y=0, n=5):\n",
    "    output_str = f'<scratch>\\n'\n",
    "\n",
    "    a = x\n",
    "    x_true = truncate_to_n_digit(math.sqrt(a), 4)\n",
    "    this_x = x_true\n",
    "\n",
    "    if this_x >= 1:\n",
    "        this_x = int(this_x)\n",
    "    else:\n",
    "        this_x = 0.1\n",
    "    output_str += f'x_0={this_x}\\n'\n",
    "\n",
    "    for i in range(1, n+1):\n",
    "        x_i =this_x\n",
    "\n",
    "        this_x = 0.5 * (this_x + a / this_x)\n",
    "        this_x = truncate_to_n_digit(this_x, 4)\n",
    "\n",
    "        output_str += f'x_{i}: 1/2*({x_i}+{a}/{x_i})={this_x}, x_{i}={this_x}'\n",
    "\n",
    "        if not i == n:\n",
    "            output_str += '\\n'\n",
    "\n",
    "    output_str += ' , END\\n</scratch>\\n'\n",
    "    \n",
    "    output_str += f'{this_x}\\n'\n",
    "\n",
    "    return output_str[:-1]+'\\n'"
   ]
  },
  {
   "cell_type": "code",
   "execution_count": 11,
   "metadata": {},
   "outputs": [
    {
     "name": "stdout",
     "output_type": "stream",
     "text": [
      "x=3.9026, y=1.9754, newton_y=1.9755, error=9.999999999998899e-05\n",
      "x=1.2544, y=1.1199, newton_y=1.12, error=0.00010000000000021103\n",
      "max error = 0.00010000000000021103\n"
     ]
    }
   ],
   "source": [
    "max_error = 0\n",
    "for i in range(1000000):\n",
    "    x = random.uniform(1, 10)\n",
    "    x_trunc = truncate_to_4_digit(x)\n",
    "    y = math.sqrt(x_trunc)\n",
    "    y_trunc = truncate_to_4_digit(y)\n",
    "    newton_y = get_output_string(x_trunc, n=4)\n",
    "    newton_y = float(newton_y.split('\\n')[-2])\n",
    "    error = abs(y_trunc - newton_y)\n",
    "    \n",
    "    if error > max_error:\n",
    "        max_error = error\n",
    "        print(f'x={x_trunc}, y={y_trunc}, newton_y={newton_y}, error={error}')\n",
    "\n",
    "print(f'max error = {max_error}')"
   ]
  }
 ],
 "metadata": {
  "kernelspec": {
   "display_name": "nanogpt",
   "language": "python",
   "name": "python3"
  },
  "language_info": {
   "codemirror_mode": {
    "name": "ipython",
    "version": 3
   },
   "file_extension": ".py",
   "mimetype": "text/x-python",
   "name": "python",
   "nbconvert_exporter": "python",
   "pygments_lexer": "ipython3",
   "version": "3.8.10"
  },
  "orig_nbformat": 4
 },
 "nbformat": 4,
 "nbformat_minor": 2
}
