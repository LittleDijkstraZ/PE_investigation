{
 "cells": [
  {
   "cell_type": "code",
   "execution_count": 1,
   "metadata": {},
   "outputs": [],
   "source": [
    "import os\n",
    "import pickle\n",
    "import requests\n",
    "import numpy as np\n",
    "import random\n",
    "import re"
   ]
  },
  {
   "cell_type": "code",
   "execution_count": 2,
   "metadata": {},
   "outputs": [],
   "source": [
    "def reverse_string(a: str) -> str:\n",
    "    return a[::-1]"
   ]
  },
  {
   "cell_type": "code",
   "execution_count": 3,
   "metadata": {},
   "outputs": [
    {
     "name": "stdout",
     "output_type": "stream",
     "text": [
      "$0+2083=3802$\n",
      "\n",
      "9893\n"
     ]
    }
   ],
   "source": [
    "addition_list = []\n",
    "b_list = random.choices(range(10**4), k=10**4)\n",
    "\n",
    "for i in range(10**4):\n",
    "    a = i\n",
    "    b = b_list[i]\n",
    "    if a < 10**3 and b < 10**3:\n",
    "        continue\n",
    "\n",
    "    c = a + b\n",
    "    \n",
    "    cc = reverse_string(str(c))\n",
    "    addition_list.append(f\"${a}+{b}={cc}$\\n\")\n",
    "\n",
    "print(addition_list[0])\n",
    "print(len(addition_list))"
   ]
  },
  {
   "cell_type": "code",
   "execution_count": 4,
   "metadata": {},
   "outputs": [],
   "source": [
    "# create a txt file of 4 difit examples only\n",
    "output_file_path =  'add_examples_4digit.txt'\n",
    "\n",
    "# with open(output_file_path, 'w+') as f:\n",
    "#     for example in addition_list:\n",
    "#         f.write(example)"
   ]
  },
  {
   "cell_type": "code",
   "execution_count": 5,
   "metadata": {},
   "outputs": [
    {
     "name": "stdout",
     "output_type": "stream",
     "text": [
      "10000\n",
      "9893\n"
     ]
    }
   ],
   "source": [
    "input_file_path =  'add_examples.txt'\n",
    "with open(input_file_path, 'r') as f:\n",
    "    lines_3digit = f.readlines()\n",
    "    num_lines_3digit = len(lines_3digit)\n",
    "    print(num_lines_3digit)\n",
    "\n",
    "with open(output_file_path, 'r') as f:\n",
    "    lines = f.readlines()\n",
    "    num_lines = len(lines)\n",
    "    print(num_lines)"
   ]
  },
  {
   "cell_type": "code",
   "execution_count": 6,
   "metadata": {},
   "outputs": [],
   "source": [
    "n = 100\n",
    "save_path = f\"add_examples_4digit_{n}.txt\"\n",
    "line_idx = random.sample(range(num_lines), n)\n",
    "selected_lines = [lines[i] for i in line_idx]\n",
    "\n",
    "with open(save_path, 'w+') as f:\n",
    "    for selected_line in lines_3digit+selected_lines:\n",
    "        f.write(selected_line)\n",
    "\n"
   ]
  },
  {
   "cell_type": "code",
   "execution_count": 7,
   "metadata": {},
   "outputs": [
    {
     "name": "stdout",
     "output_type": "stream",
     "text": [
      "length of dataset in characters: 141,767\n",
      "all the unique characters: \n",
      "$+0123456789=\n",
      "vocab size: 14\n",
      "train has 126,637 tokens\n",
      "val has 15,130 tokens\n"
     ]
    }
   ],
   "source": [
    "with open(save_path, 'r') as f:\n",
    "    data = f.read()        \n",
    "\n",
    "print(f\"length of dataset in characters: {len(data):,}\")\n",
    "\n",
    "# get all the unique characters that occur in this text\n",
    "chars = sorted(list(set(data)))\n",
    "vocab_size = len(chars)\n",
    "print(\"all the unique characters:\", ''.join(chars))\n",
    "print(f\"vocab size: {vocab_size:,}\")\n",
    "\n",
    "# create a mapping from characters to integers\n",
    "stoi = { ch:i for i,ch in enumerate(chars) }\n",
    "itos = { i:ch for i,ch in enumerate(chars) }\n",
    "def encode(s):\n",
    "    return [stoi[c] for c in s] # encoder: take a string, output a list of integers\n",
    "def decode(l):\n",
    "    ''.join([itos[i] for i in l]) # decoder: take a list of integers, output a string\n",
    "\n",
    "# create the train and test splits\n",
    "train_data = lines_3digit[:int(num_lines_3digit*0.9)] + selected_lines[:int(n*0.9)]\n",
    "val_data = lines_3digit[int(num_lines_3digit*0.9):] + selected_lines[int(n*0.9):]\n",
    "\n",
    "# encode both to integers\n",
    "train_ids = encode(\"\".join(train_data))\n",
    "val_ids = encode(\"\".join(val_data))\n",
    "print(f\"train has {len(train_ids):,} tokens\")\n",
    "print(f\"val has {len(val_ids):,} tokens\")\n",
    "\n",
    "# export to bin files\n",
    "train_ids = np.array(train_ids, dtype=np.uint16)\n",
    "val_ids = np.array(val_ids, dtype=np.uint16)\n",
    "train_ids.tofile(f'train_4digit_{n}.bin')\n",
    "val_ids.tofile(f'val_4digit_{n}.bin')\n"
   ]
  },
  {
   "cell_type": "code",
   "execution_count": 8,
   "metadata": {},
   "outputs": [
    {
     "name": "stdout",
     "output_type": "stream",
     "text": [
      "train has 132,831 tokens\n",
      "val has 15,832 tokens\n"
     ]
    }
   ],
   "source": [
    "n = 500\n",
    "save_path = f\"add_examples_4digit_{n}.txt\"\n",
    "line_idx = random.sample(range(num_lines), n)\n",
    "selected_lines = [lines[i] for i in line_idx]\n",
    "\n",
    "with open(save_path, 'w+') as f:\n",
    "    for selected_line in lines_3digit+selected_lines:\n",
    "        f.write(selected_line)\n",
    "\n",
    "\n",
    "# create the train and test splits\n",
    "train_data = lines_3digit[:int(num_lines_3digit*0.9)] + selected_lines[:int(n*0.9)]\n",
    "val_data = lines_3digit[int(num_lines_3digit*0.9):] + selected_lines[int(n*0.9):]\n",
    "\n",
    "# encode both to integers\n",
    "train_ids = encode(\"\".join(train_data))\n",
    "val_ids = encode(\"\".join(val_data))\n",
    "print(f\"train has {len(train_ids):,} tokens\")\n",
    "print(f\"val has {len(val_ids):,} tokens\")\n",
    "\n",
    "# export to bin files\n",
    "train_ids = np.array(train_ids, dtype=np.uint16)\n",
    "val_ids = np.array(val_ids, dtype=np.uint16)\n",
    "train_ids.tofile(f'train_4digit_{n}.bin')\n",
    "val_ids.tofile(f'val_4digit_{n}.bin')"
   ]
  },
  {
   "cell_type": "code",
   "execution_count": 9,
   "metadata": {},
   "outputs": [
    {
     "name": "stdout",
     "output_type": "stream",
     "text": [
      "train has 140,602 tokens\n",
      "val has 16,689 tokens\n"
     ]
    }
   ],
   "source": [
    "n = 1000\n",
    "save_path = f\"add_examples_4digit_{n}.txt\"\n",
    "line_idx = random.sample(range(num_lines), n)\n",
    "selected_lines = [lines[i] for i in line_idx]\n",
    "\n",
    "with open(save_path, 'w+') as f:\n",
    "    for selected_line in lines_3digit+selected_lines:\n",
    "        f.write(selected_line)\n",
    "\n",
    "\n",
    "# create the train and test splits\n",
    "train_data = lines_3digit[:int(num_lines_3digit*0.9)] + selected_lines[:int(n*0.9)]\n",
    "val_data = lines_3digit[int(num_lines_3digit*0.9):] + selected_lines[int(n*0.9):]\n",
    "\n",
    "# encode both to integers\n",
    "train_ids = encode(\"\".join(train_data))\n",
    "val_ids = encode(\"\".join(val_data))\n",
    "print(f\"train has {len(train_ids):,} tokens\")\n",
    "print(f\"val has {len(val_ids):,} tokens\")\n",
    "\n",
    "# export to bin files\n",
    "train_ids = np.array(train_ids, dtype=np.uint16)\n",
    "val_ids = np.array(val_ids, dtype=np.uint16)\n",
    "train_ids.tofile(f'train_4digit_{n}.bin')\n",
    "val_ids.tofile(f'val_4digit_{n}.bin')"
   ]
  },
  {
   "cell_type": "code",
   "execution_count": 10,
   "metadata": {},
   "outputs": [
    {
     "name": "stdout",
     "output_type": "stream",
     "text": [
      "train has 156,261 tokens\n",
      "val has 18,419 tokens\n"
     ]
    }
   ],
   "source": [
    "n = 2000\n",
    "save_path = f\"add_examples_4digit_{n}.txt\"\n",
    "line_idx = random.sample(range(num_lines), n)\n",
    "selected_lines = [lines[i] for i in line_idx]\n",
    "\n",
    "with open(save_path, 'w+') as f:\n",
    "    for selected_line in lines_3digit+selected_lines:\n",
    "        f.write(selected_line)\n",
    "\n",
    "\n",
    "# create the train and test splits\n",
    "train_data = lines_3digit[:int(num_lines_3digit*0.9)] + selected_lines[:int(n*0.9)]\n",
    "val_data = lines_3digit[int(num_lines_3digit*0.9):] + selected_lines[int(n*0.9):]\n",
    "\n",
    "# encode both to integers\n",
    "train_ids = encode(\"\".join(train_data))\n",
    "val_ids = encode(\"\".join(val_data))\n",
    "print(f\"train has {len(train_ids):,} tokens\")\n",
    "print(f\"val has {len(val_ids):,} tokens\")\n",
    "\n",
    "# export to bin files\n",
    "train_ids = np.array(train_ids, dtype=np.uint16)\n",
    "val_ids = np.array(val_ids, dtype=np.uint16)\n",
    "train_ids.tofile(f'train_4digit_{n}.bin')\n",
    "val_ids.tofile(f'val_4digit_{n}.bin')"
   ]
  },
  {
   "cell_type": "code",
   "execution_count": 11,
   "metadata": {},
   "outputs": [
    {
     "name": "stdout",
     "output_type": "stream",
     "text": [
      "train has 202,958 tokens\n",
      "val has 23,646 tokens\n"
     ]
    }
   ],
   "source": [
    "n = 5000\n",
    "save_path = f\"add_examples_4digit_{n}.txt\"\n",
    "line_idx = random.sample(range(num_lines), n)\n",
    "selected_lines = [lines[i] for i in line_idx]\n",
    "\n",
    "with open(save_path, 'w+') as f:\n",
    "    for selected_line in lines_3digit+selected_lines:\n",
    "        f.write(selected_line)\n",
    "\n",
    "\n",
    "# create the train and test splits\n",
    "train_data = lines_3digit[:int(num_lines_3digit*0.9)] + selected_lines[:int(n*0.9)]\n",
    "val_data = lines_3digit[int(num_lines_3digit*0.9):] + selected_lines[int(n*0.9):]\n",
    "\n",
    "# encode both to integers\n",
    "train_ids = encode(\"\".join(train_data))\n",
    "val_ids = encode(\"\".join(val_data))\n",
    "print(f\"train has {len(train_ids):,} tokens\")\n",
    "print(f\"val has {len(val_ids):,} tokens\")\n",
    "\n",
    "# export to bin files\n",
    "train_ids = np.array(train_ids, dtype=np.uint16)\n",
    "val_ids = np.array(val_ids, dtype=np.uint16)\n",
    "train_ids.tofile(f'train_4digit_{n}.bin')\n",
    "val_ids.tofile(f'val_4digit_{n}.bin')"
   ]
  },
  {
   "cell_type": "code",
   "execution_count": null,
   "metadata": {},
   "outputs": [],
   "source": []
  },
  {
   "cell_type": "code",
   "execution_count": null,
   "metadata": {},
   "outputs": [],
   "source": []
  },
  {
   "cell_type": "code",
   "execution_count": 4,
   "metadata": {},
   "outputs": [],
   "source": [
    "# making 4 digit prompts\n",
    "n = 10000\n",
    "save_path = f\"prompt_4digit_{n}.txt\"\n",
    "\n",
    "count = 0\n",
    "import random \n",
    "with open(save_path, 'w+') as f:\n",
    "    while count < n:\n",
    "        x = random.randint(0,9999)\n",
    "        y = random.randint(0,9999)\n",
    "        if len(str(x)) < 4 and len(str(y)) < 4:\n",
    "            continue\n",
    "        f.write(f\"${x}+{y}=\\n\")\n",
    "        count += 1\n"
   ]
  },
  {
   "cell_type": "code",
   "execution_count": 5,
   "metadata": {},
   "outputs": [],
   "source": [
    "# making 4 digit prompts\n",
    "n = 10000\n",
    "input_path = f\"prompt_4digit_{n}.txt\"\n",
    "save_path = f\"prompt_4digit_{n}_2.txt\"\n",
    "\n",
    "count = 0\n",
    "import random \n",
    "with open(input_path, 'r') as f:\n",
    "    lines = f.readlines()\n",
    "    with open(save_path, 'w+') as f:\n",
    "        for line in lines:\n",
    "            f.write(line.replace('$', ''))"
   ]
  },
  {
   "cell_type": "code",
   "execution_count": null,
   "metadata": {},
   "outputs": [],
   "source": []
  }
 ],
 "metadata": {
  "kernelspec": {
   "display_name": "nanogpt",
   "language": "python",
   "name": "python3"
  },
  "language_info": {
   "codemirror_mode": {
    "name": "ipython",
    "version": 3
   },
   "file_extension": ".py",
   "mimetype": "text/x-python",
   "name": "python",
   "nbconvert_exporter": "python",
   "pygments_lexer": "ipython3",
   "version": "3.8.10"
  },
  "orig_nbformat": 4,
  "vscode": {
   "interpreter": {
    "hash": "a2ba5c7570592e86f20458013332ec3c55b0ae10b9d5b24be29cc9bc24858e1a"
   }
  }
 },
 "nbformat": 4,
 "nbformat_minor": 2
}
