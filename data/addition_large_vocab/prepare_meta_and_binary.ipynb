{
 "cells": [
  {
   "cell_type": "code",
   "execution_count": 1,
   "metadata": {},
   "outputs": [],
   "source": [
    "\"\"\"\n",
    "create a dataset with addition only, but use meta file, encode/decode, using Shakespeare and algorithmic reasoning too!\n",
    "This will allow you to try out ICL \n",
    "\"\"\"\n",
    "\n",
    "import pickle\n",
    "import requests\n",
    "import numpy as np\n",
    "import os\n"
   ]
  },
  {
   "cell_type": "code",
   "execution_count": 2,
   "metadata": {},
   "outputs": [
    {
     "name": "stdout",
     "output_type": "stream",
     "text": [
      "813510\n",
      "120027\n",
      "1115394\n"
     ]
    }
   ],
   "source": [
    "# use the existing text/addition data (taken from addition_bal / algorithmic_reasoning folder)\n",
    "\n",
    "addition_ar_path = f'add_examples_algorithmic_3000.txt'\n",
    "addition_add_path = f'add_examples.txt'\n",
    "\n",
    "with open(addition_ar_path, 'r') as f:\n",
    "    data_ar = f.read()\n",
    "    print(len(data_ar))\n",
    "\n",
    "with open(addition_add_path, 'r') as f:\n",
    "    data_add = f.read()\n",
    "    print(len(data_add))\n",
    "\n",
    "text_file_path = 'shakespeare.txt'\n",
    "with open(text_file_path, 'r') as f:\n",
    "    data_text = f.read()\n",
    "    print(len(data_text))\n"
   ]
  },
  {
   "cell_type": "code",
   "execution_count": 3,
   "metadata": {},
   "outputs": [
    {
     "name": "stdout",
     "output_type": "stream",
     "text": [
      "all the unique characters: \n",
      " +,-./0123456789:<=>ACDEINT[]acdeghinprstu\n",
      "vocab size: 43\n"
     ]
    }
   ],
   "source": [
    "chars = sorted(list(set(data_ar + data_add)))\n",
    "vocab_size = len(chars)\n",
    "print(\"all the unique characters:\", ''.join(chars))\n",
    "print(f\"vocab size: {vocab_size:,}\")\n"
   ]
  },
  {
   "cell_type": "code",
   "execution_count": 4,
   "metadata": {},
   "outputs": [
    {
     "name": "stdout",
     "output_type": "stream",
     "text": [
      "all the unique characters: \n",
      " !&',-.3:;?ABCDEFGHIJKLMNOPQRSTUVWXYZabcdefghijklmnopqrstuvwxyz\n",
      "vocab size: 64\n"
     ]
    }
   ],
   "source": [
    "chars = sorted(list(set(data_text)))\n",
    "vocab_size = len(chars)\n",
    "print(\"all the unique characters:\", ''.join(chars))\n",
    "print(f\"vocab size: {vocab_size:,}\")"
   ]
  },
  {
   "cell_type": "code",
   "execution_count": 5,
   "metadata": {},
   "outputs": [
    {
     "name": "stdout",
     "output_type": "stream",
     "text": [
      "all the unique characters: \n",
      " !&'+,-./0123456789:;<=>?ABCDEFGHIJKLMNOPQRSTUVWXYZ[]abcdefghijklmnopqrstuvwxyz\n",
      "vocab size: 80\n"
     ]
    }
   ],
   "source": [
    "data_all = data_text + data_ar + data_add\n",
    "# get all the unique characters that occur in this text\n",
    "chars = sorted(list(set(data_all)))\n",
    "vocab_size = len(chars)\n",
    "print(\"all the unique characters:\", ''.join(chars))\n",
    "print(f\"vocab size: {vocab_size:,}\")\n",
    "\n",
    "# create a mapping from characters to integers\n",
    "stoi = { ch:i for i,ch in enumerate(chars) }\n",
    "itos = { i:ch for i,ch in enumerate(chars) }\n",
    "def encode(s):\n",
    "    return [stoi[c] for c in s] # encoder: take a string, output a list of integers\n",
    "def decode(l):\n",
    "    ''.join([itos[i] for i in l]) # decoder: take a list of integers, output a string\n",
    "\n"
   ]
  },
  {
   "cell_type": "code",
   "execution_count": 6,
   "metadata": {},
   "outputs": [],
   "source": [
    "# save the meta information as well, to help us encode/decode later\n",
    "meta = {\n",
    "    'vocab_size': vocab_size,\n",
    "    'itos': itos,\n",
    "    'stoi': stoi,\n",
    "}\n",
    "with open(f'meta.pkl', 'wb') as f:\n",
    "    pickle.dump(meta, f)\n",
    "\n",
    "# length of dataset in characters:  1115394\n",
    "# all the unique characters:\n",
    "#  !$&',-.3:;?ABCDEFGHIJKLMNOPQRSTUVWXYZabcdefghijklmnopqrstuvwxyz\n",
    "# vocab size: 65\n",
    "# train has 1003854 tokens\n",
    "# val has 111540 tokens"
   ]
  },
  {
   "cell_type": "code",
   "execution_count": 7,
   "metadata": {},
   "outputs": [],
   "source": [
    "def make_binary_file(filepath, input_file_path):\n",
    "    with open(input_file_path, 'r') as f:\n",
    "        data = f.read()        \n",
    "\n",
    "    print(f\"length of dataset in characters: {len(data):,}\")\n",
    "\n",
    "    # create the train and test splits\n",
    "    n = len(data) # 130,023\n",
    "    # train_data = data[:int(n*0.9)]\n",
    "    train_data = data\n",
    "    # val_data = data[int(n*0.9):]\n",
    "\n",
    "    # encode both to integers\n",
    "    train_ids = encode(train_data)\n",
    "    # val_ids = encode(val_data)\n",
    "    print(f\"train has {len(train_ids):,} tokens\")\n",
    "    # print(f\"val has {len(val_ids):,} tokens\")\n",
    "\n",
    "    # export to bin files\n",
    "    train_ids = np.array(train_ids, dtype=np.uint16)\n",
    "    # val_ids = np.array(val_ids, dtype=np.uint16)\n",
    "    train_ids.tofile(f'{filepath}')\n",
    "    # val_ids.tofile(f'val_no527.bin')\n"
   ]
  },
  {
   "cell_type": "code",
   "execution_count": 8,
   "metadata": {},
   "outputs": [
    {
     "name": "stdout",
     "output_type": "stream",
     "text": [
      "number of samples:  500\n",
      "length of dataset in characters: 5,463\n",
      "train has 5,463 tokens\n",
      "number of samples:  1000\n",
      "length of dataset in characters: 11,512\n",
      "train has 11,512 tokens\n",
      "number of samples:  2000\n",
      "length of dataset in characters: 23,573\n",
      "train has 23,573 tokens\n",
      "number of samples:  3000\n",
      "length of dataset in characters: 35,598\n",
      "train has 35,598 tokens\n",
      "number of samples:  4000\n",
      "length of dataset in characters: 47,585\n",
      "train has 47,585 tokens\n",
      "number of samples:  5000\n",
      "length of dataset in characters: 59,682\n",
      "train has 59,682 tokens\n",
      "number of samples:  10000\n",
      "length of dataset in characters: 120,027\n",
      "train has 120,027 tokens\n",
      "number of samples:  20000\n",
      "length of dataset in characters: 240,468\n",
      "train has 240,468 tokens\n",
      "number of samples:  40000\n",
      "length of dataset in characters: 481,047\n",
      "train has 481,047 tokens\n"
     ]
    }
   ],
   "source": [
    "number_of_samples = [500,1000,2000,3000,4000,5000,10000,20000,40000]\n",
    "\n",
    "for i in number_of_samples:\n",
    "    print(\"number of samples: \", i)\n",
    "    input_file_path = f'add_examples_{i}.txt'\n",
    "    filepath = f'train_{i}.bin'\n",
    "    if not os.path.exists(filepath):\n",
    "        make_binary_file(filepath, input_file_path)"
   ]
  },
  {
   "cell_type": "code",
   "execution_count": 9,
   "metadata": {},
   "outputs": [
    {
     "name": "stdout",
     "output_type": "stream",
     "text": [
      "80\n",
      "\n",
      "\n",
      "34\n"
     ]
    }
   ],
   "source": [
    "# check if our meta file is correct\n",
    "with open(f'meta.pkl', 'rb') as f:\n",
    "    meta = pickle.load(f)\n",
    "    print(meta['vocab_size'])\n",
    "    print(meta['itos'][0])\n",
    "    print(meta['stoi']['I'])"
   ]
  }
 ],
 "metadata": {
  "kernelspec": {
   "display_name": "nanogpt",
   "language": "python",
   "name": "python3"
  },
  "language_info": {
   "codemirror_mode": {
    "name": "ipython",
    "version": 3
   },
   "file_extension": ".py",
   "mimetype": "text/x-python",
   "name": "python",
   "nbconvert_exporter": "python",
   "pygments_lexer": "ipython3",
   "version": "3.8.16"
  },
  "orig_nbformat": 4,
  "vscode": {
   "interpreter": {
    "hash": "a2ba5c7570592e86f20458013332ec3c55b0ae10b9d5b24be29cc9bc24858e1a"
   }
  }
 },
 "nbformat": 4,
 "nbformat_minor": 2
}
