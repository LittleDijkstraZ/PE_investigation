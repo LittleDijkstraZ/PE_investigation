{
 "cells": [
  {
   "cell_type": "code",
   "execution_count": 13,
   "metadata": {},
   "outputs": [
    {
     "name": "stdout",
     "output_type": "stream",
     "text": [
      "[100.0, 75.0, 75.0, 75.0, 15.33203125, 7.5439453125, 3.77197265625, 1.88751220703125, 0.943756103515625, 0.4719734191894531]\n",
      "percentage of exmamples for each digit: [100.0, 75.0, 75.0, 75.0, 15.33203125, 7.5439453125, 3.77197265625, 1.88751220703125, 0.943756103515625, 0.4719734191894531]\n",
      "\n"
     ]
    }
   ],
   "source": [
    "p_list = [4, 12, 48, 192, 157, 309, 618, 1237, 2474, 4949]\n",
    "a = [100* p_list[i]/(2**(2*(i+1))) for i in range(len(p_list))]\n",
    "print(a)\n",
    "print(f'percentage of exmamples for each digit: {a}\\n')"
   ]
  },
  {
   "cell_type": "code",
   "execution_count": 10,
   "metadata": {},
   "outputs": [
    {
     "name": "stdout",
     "output_type": "stream",
     "text": [
      "[100.0, 75.0, 75.0, 75.0, 158.59375, 39.6484375, 9.912109375, 2.47802734375, 0.6195068359375, 0.154876708984375]\n"
     ]
    }
   ],
   "source": [
    "p_list = [4, 12, 48, 192, 1624, 1624, 1624, 1624, 1624, 1624]\n",
    "a = [100* p_list[i]/(2**(2*(i+1))) for i in range(len(p_list))]\n",
    "print(a)"
   ]
  },
  {
   "cell_type": "code",
   "execution_count": 12,
   "metadata": {},
   "outputs": [
    {
     "name": "stdout",
     "output_type": "stream",
     "text": [
      "percentage of exmamples for each digit: [100.0, 75.0, 75.0, 75.0, 158.59375, 39.6484375, 9.912109375, 2.47802734375, 0.6195068359375, 0.154876708984375]\n",
      "\n"
     ]
    }
   ],
   "source": [
    "print(f'percentage of exmamples for each digit: {a}\\n')"
   ]
  },
  {
   "cell_type": "code",
   "execution_count": 14,
   "metadata": {},
   "outputs": [
    {
     "name": "stdout",
     "output_type": "stream",
     "text": [
      "[100.0, 16.5, 0.165, 0.00165, 1.65e-05, 1.65e-07, 1.65e-09]\n",
      "percentage of exmamples for each digit: [100.0, 16.5, 0.165, 0.00165, 1.65e-05, 1.65e-07, 1.65e-09]\n",
      "\n"
     ]
    }
   ],
   "source": [
    "p_list = [100, 1650, 1650, 1650, 1650, 1650, 1650]\n",
    "a = [100* p_list[i]/(10**(2*(i+1))) for i in range(len(p_list))]\n",
    "print(a)\n",
    "print(f'percentage of exmamples for each digit: {a}\\n')"
   ]
  },
  {
   "cell_type": "code",
   "execution_count": 15,
   "metadata": {},
   "outputs": [
    {
     "name": "stdout",
     "output_type": "stream",
     "text": [
      "[100.0, 166.5, 1.665, 0.01665, 0.0001665, 1.665e-06, 1.665e-08]\n",
      "percentage of exmamples for each digit: [100.0, 166.5, 1.665, 0.01665, 0.0001665, 1.665e-06, 1.665e-08]\n",
      "\n"
     ]
    }
   ],
   "source": [
    "p_list = [100, 16650, 16650, 16650, 16650, 16650, 16650]\n",
    "a = [100* p_list[i]/(10**(2*(i+1))) for i in range(len(p_list))]\n",
    "print(a)\n",
    "print(f'percentage of exmamples for each digit: {a}\\n')"
   ]
  },
  {
   "cell_type": "code",
   "execution_count": 16,
   "metadata": {},
   "outputs": [
    {
     "name": "stdout",
     "output_type": "stream",
     "text": [
      "[100.0, 0.02, 0.0, 8e-06, 8.9e-07, 8.91e-08, 8.91e-09]\n",
      "percentage of exmamples for each digit: [100.0, 0.02, 0.0, 8e-06, 8.9e-07, 8.91e-08, 8.91e-09]\n",
      "\n"
     ]
    }
   ],
   "source": [
    "p_list = [100, 2, 0, 8, 89, 891, 8910]\n",
    "a = [100* p_list[i]/(10**(2*(i+1))) for i in range(len(p_list))]\n",
    "print(a)\n",
    "print(f'percentage of exmamples for each digit: {a}\\n')"
   ]
  },
  {
   "cell_type": "code",
   "execution_count": 17,
   "metadata": {},
   "outputs": [
    {
     "name": "stdout",
     "output_type": "stream",
     "text": [
      "[100.0, 0.03, 0.0008, 8.9e-05, 8.99e-06, 8.991e-07, 8.991e-08]\n",
      "percentage of exmamples for each digit: [100.0, 0.03, 0.0008, 8.9e-05, 8.99e-06, 8.991e-07, 8.991e-08]\n",
      "\n"
     ]
    }
   ],
   "source": [
    "p_list = [100, 3, 8, 89, 899, 8991, 89910]\n",
    "a = [100* p_list[i]/(10**(2*(i+1))) for i in range(len(p_list))]\n",
    "print(a)\n",
    "print(f'percentage of exmamples for each digit: {a}\\n')"
   ]
  },
  {
   "cell_type": "code",
   "execution_count": 1,
   "metadata": {},
   "outputs": [
    {
     "name": "stdout",
     "output_type": "stream",
     "text": [
      "[100.0, 16.5, 0.0, 0.00165, 1.65e-05]\n",
      "percentage of exmamples for each digit: [100.0, 16.5, 0.0, 0.00165, 1.65e-05]\n",
      "\n"
     ]
    }
   ],
   "source": [
    "p_list = [100, 1650, 0, 1650, 1650]\n",
    "a = [100* p_list[i]/(10**(2*(i+1))) for i in range(len(p_list))]\n",
    "print(a)\n",
    "print(f'percentage of exmamples for each digit: {a}\\n')"
   ]
  },
  {
   "cell_type": "code",
   "execution_count": null,
   "metadata": {},
   "outputs": [],
   "source": []
  }
 ],
 "metadata": {
  "kernelspec": {
   "display_name": "nanogpt",
   "language": "python",
   "name": "python3"
  },
  "language_info": {
   "codemirror_mode": {
    "name": "ipython",
    "version": 3
   },
   "file_extension": ".py",
   "mimetype": "text/x-python",
   "name": "python",
   "nbconvert_exporter": "python",
   "pygments_lexer": "ipython3",
   "version": "3.8.12"
  },
  "orig_nbformat": 4
 },
 "nbformat": 4,
 "nbformat_minor": 2
}
