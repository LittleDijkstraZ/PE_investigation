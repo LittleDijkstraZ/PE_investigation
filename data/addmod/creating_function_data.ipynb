{
 "cells": [
  {
   "attachments": {},
   "cell_type": "markdown",
   "metadata": {},
   "source": [
    "# create add_mod6(x) function\n",
    "\n",
    "- add_mod6(x) is a function that returns the sum of digits of x"
   ]
  },
  {
   "cell_type": "code",
   "execution_count": 1,
   "metadata": {},
   "outputs": [],
   "source": [
    "import math\n",
    "import random\n",
    "import os\n"
   ]
  },
  {
   "cell_type": "code",
   "execution_count": 2,
   "metadata": {},
   "outputs": [
    {
     "data": {
      "text/plain": [
       "('0', '0', '0')"
      ]
     },
     "execution_count": 2,
     "metadata": {},
     "output_type": "execute_result"
    }
   ],
   "source": [
    "with open('./add3_bal.txt', 'r') as f:\n",
    "    all_samples = f.readlines()\n",
    "\n",
    "\n",
    "\n",
    "sample = all_samples[0]\n",
    "eqn = sample.split('$')[1]\n",
    "a, bc = eqn.split('+')\n",
    "b, c = bc.split('=')\n",
    "a, b, c"
   ]
  },
  {
   "cell_type": "code",
   "execution_count": 3,
   "metadata": {},
   "outputs": [],
   "source": [
    "from tqdm.auto import tqdm\n",
    "from sklearn.model_selection import train_test_split\n",
    "\n",
    "def create_add_mod6_data(source, destination, p=3):\n",
    "    with open(source, 'r') as f:\n",
    "        original_all_samples = f.readlines()\n",
    "    \n",
    "    original_all_samples = sorted(original_all_samples)\n",
    "    train_samples, test_samples = train_test_split(original_all_samples, test_size=0.5)\n",
    "\n",
    "    samples_dict = {\n",
    "        'train': train_samples,\n",
    "        'test': test_samples, \n",
    "    }\n",
    "\n",
    "    for split_name in samples_dict:\n",
    "        all_samples = samples_dict[split_name]\n",
    "\n",
    "        # digits = len(str(val_range))\n",
    "        out1, out2 = [], []\n",
    "\n",
    "        for sample in tqdm(all_samples):\n",
    "            if len(sample) ==  0: continue\n",
    "            try:\n",
    "                eqn = sample.split('$')[1]\n",
    "                a, bc = eqn.split('+')\n",
    "                b, c = bc.split('=')\n",
    "            except:\n",
    "                print(sample)\n",
    "                raise ValueError\n",
    "            if int(b[-1]) - p > 0:\n",
    "                b = str(int(b) - p)\n",
    "            \n",
    "            a2 = b[:-1] if len(b) > 1 else '0'\n",
    "\n",
    "            r = int(c)%p\n",
    "\n",
    "            variant1 = f\"$amf({a},{b},{p})={r}$\\n\"\n",
    "            variant2 = f\"$amr({r},{p},{a},{a2})={b[-1]}$\\n\"\n",
    "\n",
    "            out1.append(variant1)\n",
    "            out2.append(variant2)\n",
    "\n",
    "        dest1 = os.path.join(destination, f'{split_name}_addmod_6_f_{len(all_samples)}.txt')\n",
    "        dest2 = os.path.join(destination, f'{split_name}_addmod_6_r_{len(all_samples)}.txt') \n",
    "\n",
    "        with open(dest1, 'w') as f:\n",
    "            for var in out1:\n",
    "                f.write(var)\n",
    "        with open(dest2, 'w') as f:\n",
    "            for var in out2:\n",
    "                f.write(var)\n"
   ]
  },
  {
   "cell_type": "code",
   "execution_count": 12,
   "metadata": {},
   "outputs": [
    {
     "data": {
      "application/vnd.jupyter.widget-view+json": {
       "model_id": "763dd09a7e444fb8bd3daf0ab06faae7",
       "version_major": 2,
       "version_minor": 0
      },
      "text/plain": [
       "  0%|          | 0/10000 [00:00<?, ?it/s]"
      ]
     },
     "metadata": {},
     "output_type": "display_data"
    },
    {
     "data": {
      "application/vnd.jupyter.widget-view+json": {
       "model_id": "19cde25c0fb346dfa9f69284da8f6e62",
       "version_major": 2,
       "version_minor": 0
      },
      "text/plain": [
       "  0%|          | 0/10000 [00:00<?, ?it/s]"
      ]
     },
     "metadata": {},
     "output_type": "display_data"
    }
   ],
   "source": [
    "create_add_mod6_data('./add3_bal.txt', './')"
   ]
  },
  {
   "cell_type": "code",
   "execution_count": 35,
   "metadata": {},
   "outputs": [
    {
     "name": "stdout",
     "output_type": "stream",
     "text": [
      "52\n"
     ]
    },
    {
     "data": {
      "text/plain": [
       "1"
      ]
     },
     "execution_count": 35,
     "metadata": {},
     "output_type": "execute_result"
    }
   ],
   "source": [
    "a, b, p = 123, 2341, 134\n",
    "a2 = b//10*10\n",
    "r = (a+b)%p\n",
    "print(r)\n",
    "(r-(a+a2)%p)"
   ]
  },
  {
   "cell_type": "code",
   "execution_count": 5,
   "metadata": {},
   "outputs": [
    {
     "ename": "TypeError",
     "evalue": "create_add_mod6_data() got an unexpected keyword argument 'total_num_examples'",
     "output_type": "error",
     "traceback": [
      "\u001b[0;31m---------------------------------------------------------------------------\u001b[0m",
      "\u001b[0;31mTypeError\u001b[0m                                 Traceback (most recent call last)",
      "Cell \u001b[0;32mIn[5], line 4\u001b[0m\n\u001b[1;32m      2\u001b[0m input_file_path \u001b[38;5;241m=\u001b[39m \u001b[38;5;124mf\u001b[39m\u001b[38;5;124m'\u001b[39m\u001b[38;5;124mtrain_add_mod6_\u001b[39m\u001b[38;5;132;01m{\u001b[39;00mtotal_num_examples\u001b[38;5;132;01m}\u001b[39;00m\u001b[38;5;124m.txt\u001b[39m\u001b[38;5;124m'\u001b[39m\n\u001b[1;32m      3\u001b[0m \u001b[38;5;28;01mif\u001b[39;00m \u001b[38;5;129;01mnot\u001b[39;00m os\u001b[38;5;241m.\u001b[39mpath\u001b[38;5;241m.\u001b[39mexists(input_file_path):\n\u001b[0;32m----> 4\u001b[0m     \u001b[43mcreate_add_mod6_data\u001b[49m\u001b[43m(\u001b[49m\u001b[43minput_file_path\u001b[49m\u001b[43m,\u001b[49m\u001b[43m \u001b[49m\u001b[43mtotal_num_examples\u001b[49m\u001b[38;5;241;43m=\u001b[39;49m\u001b[43mtotal_num_examples\u001b[49m\u001b[43m)\u001b[49m\n\u001b[1;32m      5\u001b[0m \u001b[38;5;28;01melse\u001b[39;00m:\n\u001b[1;32m      6\u001b[0m     \u001b[38;5;28mprint\u001b[39m(\u001b[38;5;124mf\u001b[39m\u001b[38;5;124m'\u001b[39m\u001b[38;5;124mFile \u001b[39m\u001b[38;5;132;01m{\u001b[39;00minput_file_path\u001b[38;5;132;01m}\u001b[39;00m\u001b[38;5;124m already exists\u001b[39m\u001b[38;5;124m'\u001b[39m)\n",
      "\u001b[0;31mTypeError\u001b[0m: create_add_mod6_data() got an unexpected keyword argument 'total_num_examples'"
     ]
    }
   ],
   "source": [
    "total_num_examples = 20000\n",
    "input_file_path = f'train_add_mod6_{total_num_examples}.txt'\n",
    "if not os.path.exists(input_file_path):\n",
    "    create_add_mod6_data(input_file_path, total_num_examples=total_num_examples)\n",
    "else:\n",
    "    print(f'File {input_file_path} already exists')\n",
    "\n",
    "total_num_examples = 40000\n",
    "input_file_path = f'train_add_mod6_{total_num_examples}.txt'\n",
    "if not os.path.exists(input_file_path):\n",
    "    create_add_mod6_data(input_file_path, total_num_examples=total_num_examples)\n",
    "else:\n",
    "    print(f'File {input_file_path} already exists')"
   ]
  },
  {
   "attachments": {},
   "cell_type": "markdown",
   "metadata": {},
   "source": [
    "# Create Non-overlapping test dataset\n"
   ]
  },
  {
   "cell_type": "code",
   "execution_count": 6,
   "metadata": {},
   "outputs": [
    {
     "name": "stdout",
     "output_type": "stream",
     "text": [
      "10000\n"
     ]
    },
    {
     "data": {
      "application/vnd.jupyter.widget-view+json": {
       "model_id": "55e37e9d356d4cdc85e3664c278ce2a2",
       "version_major": 2,
       "version_minor": 0
      },
      "text/plain": [
       "  0%|          | 0/100000 [00:00<?, ?it/s]"
      ]
     },
     "metadata": {},
     "output_type": "display_data"
    },
    {
     "name": "stdout",
     "output_type": "stream",
     "text": [
      "0\n"
     ]
    }
   ],
   "source": [
    "total_num_examples = 10000\n",
    "# total_num_examples = 2000\n",
    "\n",
    "input_file_path = f'train_add_mod6_{total_num_examples}.txt'\n",
    "output_file_path = f'train_add_mod6_{total_num_examples}_nonoverlap.txt'\n",
    "\n",
    "if not os.path.exists(output_file_path):\n",
    "    lines_to_avoid = set()\n",
    "    with open(input_file_path, 'r') as f:\n",
    "        for line in f.readlines():\n",
    "            lines_to_avoid.add(line)\n",
    "\n",
    "    print(len(lines_to_avoid))\n",
    "\n",
    "    with open(output_file_path, 'w') as f:\n",
    "        for x in tqdm(range(0, VAL_RANGE)):\n",
    "            x_trunc = str(x).zfill(5)\n",
    "            y_trunc = sum([int(d) for d in x_trunc[2:]]) % 3\n",
    "            # line_to_add = f'add_mod6({x_trunc})={y_trunc}\\n'\n",
    "            line_to_add = f'{x_trunc[:2]}add_mod6({x_trunc[2:]})={y_trunc}\\n'\n",
    "\n",
    "            if line_to_add in lines_to_avoid:\n",
    "                lines_to_avoid.remove(line_to_add)\n",
    "            else:\n",
    "                f.write(line_to_add)\n",
    "\n",
    "    print(len(lines_to_avoid))\n"
   ]
  },
  {
   "cell_type": "code",
   "execution_count": 7,
   "metadata": {},
   "outputs": [],
   "source": [
    "# shuffle and create a smaller version\n",
    "input_file_path = f'train_add_mod6_{total_num_examples}_nonoverlap.txt'\n",
    "num_test_samples = 10000\n",
    "# num_test_samples = 2000\n",
    "\n",
    "\n",
    "with open(input_file_path, 'r') as f:\n",
    "    lines = f.readlines()\n",
    "    random.shuffle(lines)\n",
    "    with open(f'test_add_mod6_{num_test_samples}.txt', 'w') as f2:\n",
    "        for line in lines[:num_test_samples]:\n",
    "            f2.write(line)"
   ]
  },
  {
   "cell_type": "code",
   "execution_count": 8,
   "metadata": {},
   "outputs": [],
   "source": [
    "# shuffle and create a smaller version\n",
    "input_file_path = f'train_add_mod6_{total_num_examples}_nonoverlap.txt'\n",
    "num_test_samples = 1000\n",
    "\n",
    "with open(input_file_path, 'r') as f:\n",
    "    lines = f.readlines()\n",
    "    random.shuffle(lines)\n",
    "    with open(f'test_add_mod6_{num_test_samples}.txt', 'w') as f2:\n",
    "        for line in lines[:num_test_samples]:\n",
    "            f2.write(line)"
   ]
  },
  {
   "cell_type": "code",
   "execution_count": 9,
   "metadata": {},
   "outputs": [],
   "source": [
    "# shuffle and create a smaller version\n",
    "input_file_path = f'train_add_mod6_{total_num_examples}_nonoverlap.txt'\n",
    "num_test_samples = 100\n",
    "\n",
    "with open(input_file_path, 'r') as f:\n",
    "    lines = f.readlines()\n",
    "    random.shuffle(lines)\n",
    "    with open(f'test_add_mod6_{num_test_samples}.txt', 'w') as f2:\n",
    "        for line in lines[:num_test_samples]:\n",
    "            f2.write(line)"
   ]
  },
  {
   "cell_type": "code",
   "execution_count": 10,
   "metadata": {},
   "outputs": [],
   "source": [
    "import random\n",
    "import os\n",
    "def get_subset_train_data(num_samples):\n",
    "    with open(f'train_add_mod6_10000.txt', 'r') as f:\n",
    "        lines = f.readlines()\n",
    "    random.shuffle(lines)\n",
    "    if os.path.exists(f'train_add_mod6_{num_samples}.txt'):\n",
    "        print('file exists!')\n",
    "        return\n",
    "    \n",
    "    with open(f'train_add_mod6_{num_samples}.txt', 'w') as f:\n",
    "        for line in lines[:num_samples]:\n",
    "            f.write(line)\n",
    "\n",
    "get_subset_train_data(1000)\n",
    "get_subset_train_data(3000)\n",
    "get_subset_train_data(5000)"
   ]
  },
  {
   "attachments": {},
   "cell_type": "markdown",
   "metadata": {},
   "source": [
    "# Let's make an algorithmic reasonic-like function (Taylor's Approx.) to calculate add_mod6e of a number"
   ]
  },
  {
   "cell_type": "code",
   "execution_count": 9,
   "metadata": {},
   "outputs": [],
   "source": [
    "import math \n",
    "import random\n",
    "\n",
    "def truncate_to_n_digit(x, n=4):\n",
    "    return math.floor(x * (10 ** n)) / (10 ** n)\n"
   ]
  },
  {
   "cell_type": "code",
   "execution_count": 10,
   "metadata": {},
   "outputs": [],
   "source": [
    "def get_input_string(x: float, operator='add_mod6'):\n",
    "    x_trunc = truncate_to_n_digit(x)\n",
    "    input_str = f'Input:\\n{operator}({x_trunc})\\n'\n",
    "    input_str += f'Target:\\n'\n",
    "\n",
    "    return input_str\n",
    "\n",
    "\n",
    "def get_output_string(x,y=0, n=4):\n",
    "    output_str = f'<scratch>\\n'\n",
    "\n",
    "    x_true = truncate_to_n_digit(x, 4)\n",
    "    this_x = x_true\n",
    "\n",
    "    output_str += f'x_0={this_x}\\n'\n",
    "\n",
    "    for i in range(1, n+1):\n",
    "        k = 2*i+1\n",
    "\n",
    "        x_i =this_x\n",
    "\n",
    "        this_x = this_x + (-1) ** i * (x ** k) / (math.factorial(k))\n",
    "        this_x = truncate_to_n_digit(this_x, n)\n",
    "\n",
    "        plus_minus = '+ 1' if i % 2 == 0 else '- 1'\n",
    "\n",
    "        output_str += f'x_{i}: x_{i-1} {plus_minus}/{k}! * (x^{k}) , x_{i}={this_x}'\n",
    "\n",
    "        if not i == n:\n",
    "            output_str += '\\n'\n",
    "\n",
    "    output_str += ' , END\\n</scratch>\\n'\n",
    "    \n",
    "    output_str += f'{this_x}\\n'\n",
    "\n",
    "    return output_str[:-1]+'\\n'"
   ]
  },
  {
   "cell_type": "code",
   "execution_count": 11,
   "metadata": {},
   "outputs": [
    {
     "name": "stdout",
     "output_type": "stream",
     "text": [
      "Input:\n",
      "sin(1.5707)\n",
      "Target:\n",
      "\n",
      "<scratch>\n",
      "x_0=1.5707\n",
      "x_1: x_0 - 1/3! * (x^3) , x_1=0.9247\n",
      "x_2: x_1 + 1/5! * (x^5) , x_2=1.0043\n",
      "x_3: x_2 - 1/7! * (x^7) , x_3=0.9996\n",
      "x_4: x_3 + 1/9! * (x^9) , x_4=0.9997 , END\n",
      "</scratch>\n",
      "0.9997\n",
      "\n",
      "1.0\n"
     ]
    }
   ],
   "source": [
    "a = math.pi / 2\n",
    "print(get_input_string(a))\n",
    "print(get_output_string(a))\n",
    "print(math.add_mod6(a))"
   ]
  },
  {
   "cell_type": "code",
   "execution_count": 13,
   "metadata": {},
   "outputs": [
    {
     "name": "stdout",
     "output_type": "stream",
     "text": [
      "x=1.3192, y=0.9685, taylor_y=0.9683, error=0.00019999999999997797\n",
      "x=1.4569, y=0.9935, taylor_y=0.9933, error=0.000200000000000089\n",
      "x=-1.0947, y=-0.8888, taylor_y=-0.8891, error=0.00029999999999996696\n",
      "x=0.5126, y=0.4904, taylor_y=0.4901, error=0.00030000000000002247\n",
      "x=1.2779, y=0.9574, taylor_y=0.9571, error=0.000300000000000078\n",
      "x=1.4606, y=0.9939, taylor_y=0.9935, error=0.00039999999999995595\n",
      "x=-1.1906, y=-0.9286, taylor_y=-0.929, error=0.00040000000000006697\n",
      "max error = 0.00040000000000006697\n"
     ]
    }
   ],
   "source": [
    "max_error = 0\n",
    "for i in range(1000000):\n",
    "    x = random.uniform(-math.pi/2, math.pi/2)\n",
    "    x_trunc = truncate_to_n_digit(x)\n",
    "    y = math.add_mod6(x_trunc)\n",
    "    y_trunc = truncate_to_n_digit(y)\n",
    "    taylor_y = get_output_string(x_trunc, n=4)\n",
    "    taylor_y = float(taylor_y.split('\\n')[-2])\n",
    "    error = abs(y_trunc - taylor_y)\n",
    "    \n",
    "    if error > max_error:\n",
    "        max_error = error\n",
    "        print(f'x={x_trunc}, y={y_trunc}, taylor_y={taylor_y}, error={error}')\n",
    "\n",
    "print(f'max error = {max_error}')"
   ]
  },
  {
   "attachments": {},
   "cell_type": "markdown",
   "metadata": {},
   "source": [
    "### To-Do:\n",
    "\n",
    "1. make target for test data = what it's supposed to output (instead of the exact add_mod6/sqrt value)\n",
    "\n",
    "2. error criterion:\n",
    "- don't penalize if it is between -> exact & modified\n",
    "- compare the entire generated string with what it's supposed to output (entire or x1~x4)\n",
    "- - (add new function called exact_modfied so that target in)\n",
    "\n",
    "3. new error metric:\n",
    "- Sum | (y-y_hat)/y|^2\n",
    "- Sum | (y-y_hat)_j | <- digit-wise\n",
    "- Sum |# digits incorrect / total number of digits|\n",
    "\n"
   ]
  },
  {
   "cell_type": "code",
   "execution_count": 33,
   "metadata": {},
   "outputs": [],
   "source": [
    "import numpy as np\n",
    "\n",
    "def get_num_digits(a: str):\n",
    "    if a == '':\n",
    "        return 0\n",
    "    else:\n",
    "        if '.' in a: # if a contains a decimal point\n",
    "            return len(a) - 1\n",
    "        else:\n",
    "            return len(str(int(a)))\n",
    "        \n",
    "\n",
    "def get_error_metric(y, y_hat, metric_type='accuracy', eps=0.0):\n",
    "    if metric_type == 'accuracy':\n",
    "        if eps == 0:\n",
    "            return np.abs(y == y_hat)\n",
    "        else:\n",
    "            return np.abs(y - y_hat) < eps\n",
    "\n",
    "    if metric_type == 'mse':\n",
    "        return (y - y_hat)**2\n",
    "\n",
    "    elif metric_type == 'scaled_mse':\n",
    "        return ((y - y_hat) / y)**2\n",
    "\n",
    "    elif metric_type == 'digit_wise_difference':\n",
    "        return np.sum(np.abs(y - y_hat) > eps) / get_num_digits(str(y))\n",
    "\n",
    "    elif metric_type == 'incorrect_digit_count':\n",
    "        #  count the number of digits that are incorrect\n",
    "        count = 0\n",
    "        y, y_hat = str(y), str(y_hat)\n",
    "        y, y_hat = y.replace('.', ''), y_hat.replace('.', '')\n",
    "        len1 = len(y)\n",
    "        len2 = len(y_hat)\n",
    "        for i in range(max(len1, len2)):\n",
    "            if i > len1-1:\n",
    "                y_i = 0\n",
    "                y_hat_i = int(y_hat[i])\n",
    "            elif i > len2-1:\n",
    "                y_i = int(y[i])\n",
    "                y_hat_i = 0\n",
    "            else:\n",
    "                y_i = int(y[i])\n",
    "                y_hat_i = int(y_hat[i])\n",
    "            if y_i != y_hat_i:\n",
    "                count += 1\n",
    "        return count\n"
   ]
  },
  {
   "cell_type": "code",
   "execution_count": 36,
   "metadata": {},
   "outputs": [
    {
     "name": "stdout",
     "output_type": "stream",
     "text": [
      "False\n",
      "9.999999999997797e-09\n",
      "0.2\n",
      "1\n"
     ]
    }
   ],
   "source": [
    "y = 0.9685\n",
    "y_hat = 0.9684\n",
    "eps = 0.00001\n",
    "print(get_error_metric(y, y_hat, metric_type='accuracy', eps=eps))\n",
    "print(get_error_metric(y, y_hat, metric_type='mse', eps=eps))\n",
    "print(get_error_metric(y, y_hat, metric_type='digit_wise_difference', eps=eps))\n",
    "print(get_error_metric(y, y_hat, metric_type='incorrect_digit_count', eps=eps))\n"
   ]
  },
  {
   "cell_type": "code",
   "execution_count": null,
   "metadata": {},
   "outputs": [],
   "source": []
  }
 ],
 "metadata": {
  "kernelspec": {
   "display_name": "nanogpt",
   "language": "python",
   "name": "python3"
  },
  "language_info": {
   "codemirror_mode": {
    "name": "ipython",
    "version": 3
   },
   "file_extension": ".py",
   "mimetype": "text/x-python",
   "name": "python",
   "nbconvert_exporter": "python",
   "pygments_lexer": "ipython3",
   "version": "3.10.8"
  },
  "orig_nbformat": 4
 },
 "nbformat": 4,
 "nbformat_minor": 2
}
