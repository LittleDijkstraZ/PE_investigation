{
 "cells": [
  {
   "cell_type": "code",
   "execution_count": 1,
   "metadata": {},
   "outputs": [],
   "source": [
    "import os\n",
    "import pickle\n",
    "import requests\n",
    "import numpy as np\n",
    "import random"
   ]
  },
  {
   "cell_type": "code",
   "execution_count": 2,
   "metadata": {},
   "outputs": [],
   "source": [
    "def numCarryOps(a, b):\n",
    "    a,b=int(a),int(b)\n",
    "    def digitSum(n):\n",
    "        return sum(map(int,str(n)))\n",
    "    # assert(a >= 0); assert(b >= 0);\n",
    "    return int((digitSum(a) + digitSum(b) - digitSum(a+b)) / 9)\n",
    "\n"
   ]
  },
  {
   "cell_type": "code",
   "execution_count": 6,
   "metadata": {},
   "outputs": [
    {
     "name": "stdout",
     "output_type": "stream",
     "text": [
      "166375 358875 338625 136125\n"
     ]
    }
   ],
   "source": [
    "carry_0_list = []\n",
    "carry_1_list = []\n",
    "carry_2_list = []\n",
    "carry_3_list = []\n",
    "\n",
    "for a in range(1000):\n",
    "    for b in range(1000):\n",
    "            num_carry = numCarryOps(a,b)\n",
    "            c = a + b\n",
    "\n",
    "            if num_carry == 0:\n",
    "                carry_0_list.append(f\"{a:03}+{b:03}={c:04}\\n\")\n",
    "            elif num_carry == 1:\n",
    "                carry_1_list.append(f\"{a:03}+{b:03}={c:04}\\n\")\n",
    "            elif num_carry == 2:\n",
    "                carry_2_list.append(f\"{a:03}+{b:03}={c:04}\\n\")\n",
    "            else:\n",
    "                carry_3_list.append(f\"{a:03}+{b:03}={c:04}\\n\")\n",
    "\n",
    "print(len(carry_0_list),len(carry_1_list),len(carry_2_list),len(carry_3_list))"
   ]
  },
  {
   "cell_type": "code",
   "execution_count": 7,
   "metadata": {},
   "outputs": [
    {
     "name": "stdout",
     "output_type": "stream",
     "text": [
      "no carry examples saved to add_examples_no_carry_1000.txt\n"
     ]
    }
   ],
   "source": [
    "num_samples = 1000\n",
    "\n",
    "output_file_path =  f'add_examples_no_carry_{num_samples}.txt'\n",
    "\n",
    "if not os.path.exists(output_file_path):\n",
    "    with open(output_file_path, 'w+') as f:\n",
    "        for example in random.sample(carry_0_list, num_samples):\n",
    "            f.write(example)\n",
    "    \n",
    "    print(f'no carry examples saved to {output_file_path}')\n",
    "    \n",
    "\n"
   ]
  },
  {
   "cell_type": "code",
   "execution_count": 8,
   "metadata": {},
   "outputs": [
    {
     "name": "stdout",
     "output_type": "stream",
     "text": [
      "length of dataset in characters: 13,000\n",
      "all the unique characters: \n",
      "+0123456789=\n",
      "vocab size: 13\n",
      "train has 11,700 tokens\n",
      "val has 1,300 tokens\n"
     ]
    }
   ],
   "source": [
    "with open(output_file_path, 'r') as f:\n",
    "    data = f.read()\n",
    "print(f\"length of dataset in characters: {len(data):,}\")\n",
    "\n",
    "# get all the unique characters that occur in this text\n",
    "chars = sorted(list(set(data)))\n",
    "vocab_size = len(chars)\n",
    "print(\"all the unique characters:\", ''.join(chars))\n",
    "print(f\"vocab size: {vocab_size:,}\")\n",
    "\n",
    "# create a mapping from characters to integers\n",
    "stoi = { ch:i for i,ch in enumerate(chars) }\n",
    "itos = { i:ch for i,ch in enumerate(chars) }\n",
    "def encode(s):\n",
    "    return [stoi[c] for c in s] # encoder: take a string, output a list of integers\n",
    "def decode(l):\n",
    "    ''.join([itos[i] for i in l]) # decoder: take a list of integers, output a string\n",
    "\n",
    "# create the train and test splits\n",
    "n = len(data) # 130,023\n",
    "train_data = data[:int(n*0.9)]\n",
    "val_data = data[int(n*0.9):]\n",
    "\n",
    "# encode both to integers\n",
    "train_ids = encode(train_data)\n",
    "val_ids = encode(val_data)\n",
    "print(f\"train has {len(train_ids):,} tokens\")\n",
    "print(f\"val has {len(val_ids):,} tokens\")\n",
    "\n",
    "# export to bin files\n",
    "train_ids = np.array(train_ids, dtype=np.uint16)\n",
    "val_ids = np.array(val_ids, dtype=np.uint16)\n",
    "train_ids.tofile(f'train_balanced_no_carry_{num_samples}.bin')\n",
    "val_ids.tofile(f'val_balanced_no_carry_{num_samples}.bin')\n"
   ]
  },
  {
   "cell_type": "code",
   "execution_count": null,
   "metadata": {},
   "outputs": [],
   "source": []
  }
 ],
 "metadata": {
  "kernelspec": {
   "display_name": "nanogpt",
   "language": "python",
   "name": "python3"
  },
  "language_info": {
   "codemirror_mode": {
    "name": "ipython",
    "version": 3
   },
   "file_extension": ".py",
   "mimetype": "text/x-python",
   "name": "python",
   "nbconvert_exporter": "python",
   "pygments_lexer": "ipython3",
   "version": "3.8.12"
  },
  "orig_nbformat": 4,
  "vscode": {
   "interpreter": {
    "hash": "a2ba5c7570592e86f20458013332ec3c55b0ae10b9d5b24be29cc9bc24858e1a"
   }
  }
 },
 "nbformat": 4,
 "nbformat_minor": 2
}
