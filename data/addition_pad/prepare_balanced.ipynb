{
 "cells": [
  {
   "cell_type": "code",
   "execution_count": 1,
   "metadata": {},
   "outputs": [],
   "source": [
    "import os\n",
    "import pickle\n",
    "import requests\n",
    "import numpy as np\n",
    "import random"
   ]
  },
  {
   "cell_type": "code",
   "execution_count": 2,
   "metadata": {},
   "outputs": [],
   "source": [
    "def pad_zero_digit(a: int) -> str:\n",
    "    a = f'{a:03}'\n",
    "    return \"0\"+\"0\".join(a)\n",
    "\n",
    "\n",
    "def remove_zero_pad(a: str):\n",
    "    return a[1::2]\n",
    "\n",
    "\n",
    "def make_addition_examples_v2(pad=True):\n",
    "    print('making examples of a+b=c')\n",
    "    input_file_path = 'add_examples_balanced.txt'\n",
    "    # if not os.path.exists(input_file_path):\n",
    "    count = 0\n",
    "    num_two_digit = 0\n",
    "    with open(input_file_path, 'w+') as f:\n",
    "        for a in range(1000):\n",
    "            for b in range(1000):\n",
    "                if a < 10 and b < 10: p = 100/100\n",
    "                elif a < 100 and b < 100: p = 900/(100*100-10*10)\n",
    "                else: p = 9000/(1000*1000-100*100)\n",
    "                \n",
    "                pp = random.uniform(0,1)\n",
    "                if pp > p:\n",
    "                    continue\n",
    "                \n",
    "                if a < 100 and b < 100:\n",
    "                    num_two_digit +=1 \n",
    "                    \n",
    "                c = a + b\n",
    "                \n",
    "                if pad:\n",
    "                    f.write(f\"{a:03}+{b:03}={c:04}\\n\")\n",
    "                else:\n",
    "                    f.write(f\"{a}+{b}={c}\\n\")\n",
    "\n",
    "            \n",
    "                count += 1\n",
    "                if count == 10000:\n",
    "                    print(f'{num_two_digit} - 2 digit numbers')\n",
    "                    print(f'{count} number of samples saved to {input_file_path}')\n",
    "                    return\n",
    "                    \n",
    "    print(f'{num_two_digit} - 2 digit numbers')\n",
    "    print(f'{count} number of samples saved to {input_file_path}')\n",
    "\n"
   ]
  },
  {
   "cell_type": "code",
   "execution_count": 3,
   "metadata": {},
   "outputs": [],
   "source": [
    "def numCarryOps(a, b):\n",
    "    a,b=int(a),int(b)\n",
    "    def digitSum(n):\n",
    "        return sum(map(int,str(n)))\n",
    "    # assert(a >= 0); assert(b >= 0);\n",
    "    return int((digitSum(a) + digitSum(b) - digitSum(a+b)) / 9)\n",
    "\n"
   ]
  },
  {
   "cell_type": "code",
   "execution_count": 4,
   "metadata": {},
   "outputs": [
    {
     "name": "stdout",
     "output_type": "stream",
     "text": [
      "166375 358875 338625 136125\n"
     ]
    }
   ],
   "source": [
    "carry_0_list = []\n",
    "carry_1_list = []\n",
    "carry_2_list = []\n",
    "carry_3_list = []\n",
    "\n",
    "for a in range(1000):\n",
    "    for b in range(1000):\n",
    "            num_carry = numCarryOps(a,b)\n",
    "            c = a + b\n",
    "\n",
    "            if num_carry == 0:\n",
    "                carry_0_list.append(f\"{a:03}+{b:03}={c:04}\\n\")\n",
    "            elif num_carry == 1:\n",
    "                carry_1_list.append(f\"{a:03}+{b:03}={c:04}\\n\")\n",
    "            elif num_carry == 2:\n",
    "                carry_2_list.append(f\"{a:03}+{b:03}={c:04}\\n\")\n",
    "            else:\n",
    "                carry_3_list.append(f\"{a:03}+{b:03}={c:04}\\n\")\n",
    "\n",
    "print(len(carry_0_list),len(carry_1_list),len(carry_2_list),len(carry_3_list))"
   ]
  },
  {
   "cell_type": "code",
   "execution_count": 5,
   "metadata": {},
   "outputs": [
    {
     "data": {
      "text/plain": [
       "['510+477=0987\\n', '430+322=0752\\n']"
      ]
     },
     "execution_count": 5,
     "metadata": {},
     "output_type": "execute_result"
    }
   ],
   "source": [
    "random.sample(carry_0_list, 2)"
   ]
  },
  {
   "cell_type": "code",
   "execution_count": 7,
   "metadata": {},
   "outputs": [],
   "source": [
    "def make_addition_examples_balanced():\n",
    "    print('making balanced (in terms of # of carry) examples of a+b=c')\n",
    "    input_file_path = 'add_examples_balanced.txt'\n",
    "    # if not os.path.exists(input_file_path):\n",
    "    \n",
    "    carry_lists = [carry_0_list, carry_1_list, carry_2_list, carry_3_list]\n",
    "    with open(input_file_path, 'w+') as f:\n",
    "        count = 0\n",
    "        for carry_list in carry_lists:\n",
    "            for example in random.sample(carry_list,2500):\n",
    "                f.write(example)\n",
    "                count += 1\n",
    "\n",
    "    print(f'{count} number of samples saved to {input_file_path}')\n",
    "\n"
   ]
  },
  {
   "cell_type": "code",
   "execution_count": 8,
   "metadata": {},
   "outputs": [
    {
     "name": "stdout",
     "output_type": "stream",
     "text": [
      "making balanced (in terms of # of carry) examples of a+b=c\n",
      "10000 number of samples saved to add_examples_balanced.txt\n"
     ]
    }
   ],
   "source": [
    "# download the tiny shakespeare dataset\n",
    "input_file_path =  'add_examples_balanced.txt'\n",
    "# if not os.path.exists(input_file_path):\n",
    "#     make_addition_examples_v2(pad=True)\n",
    "make_addition_examples_balanced()\n",
    "\n"
   ]
  },
  {
   "cell_type": "code",
   "execution_count": 9,
   "metadata": {},
   "outputs": [
    {
     "name": "stdout",
     "output_type": "stream",
     "text": [
      "length of dataset in characters: 130,000\n",
      "all the unique characters: \n",
      "+0123456789=\n",
      "vocab size: 13\n",
      "train has 117,000 tokens\n",
      "val has 13,000 tokens\n"
     ]
    }
   ],
   "source": [
    "with open(input_file_path, 'r') as f:\n",
    "    data = f.read()\n",
    "print(f\"length of dataset in characters: {len(data):,}\")\n",
    "\n",
    "# get all the unique characters that occur in this text\n",
    "chars = sorted(list(set(data)))\n",
    "vocab_size = len(chars)\n",
    "print(\"all the unique characters:\", ''.join(chars))\n",
    "print(f\"vocab size: {vocab_size:,}\")\n",
    "\n",
    "# create a mapping from characters to integers\n",
    "stoi = { ch:i for i,ch in enumerate(chars) }\n",
    "itos = { i:ch for i,ch in enumerate(chars) }\n",
    "def encode(s):\n",
    "    return [stoi[c] for c in s] # encoder: take a string, output a list of integers\n",
    "def decode(l):\n",
    "    ''.join([itos[i] for i in l]) # decoder: take a list of integers, output a string\n",
    "\n",
    "# create the train and test splits\n",
    "n = len(data) # 130,023\n",
    "train_data = data[:int(n*0.9)]\n",
    "val_data = data[int(n*0.9):]\n",
    "\n",
    "# encode both to integers\n",
    "train_ids = encode(train_data)\n",
    "val_ids = encode(val_data)\n",
    "print(f\"train has {len(train_ids):,} tokens\")\n",
    "print(f\"val has {len(val_ids):,} tokens\")\n",
    "\n",
    "# export to bin files\n",
    "train_ids = np.array(train_ids, dtype=np.uint16)\n",
    "val_ids = np.array(val_ids, dtype=np.uint16)\n",
    "train_ids.tofile(f'train_balanced.bin')\n",
    "val_ids.tofile(f'val_balanced.bin')\n",
    "\n",
    "# save the meta information as well, to help us encode/decode later\n",
    "meta = {\n",
    "    'vocab_size': vocab_size,\n",
    "    'itos': itos,\n",
    "    'stoi': stoi,\n",
    "}\n",
    "with open(f'meta.pkl', 'wb') as f:\n",
    "    pickle.dump(meta, f)\n"
   ]
  },
  {
   "cell_type": "code",
   "execution_count": null,
   "metadata": {},
   "outputs": [],
   "source": []
  }
 ],
 "metadata": {
  "kernelspec": {
   "display_name": "nanogpt",
   "language": "python",
   "name": "python3"
  },
  "language_info": {
   "codemirror_mode": {
    "name": "ipython",
    "version": 3
   },
   "file_extension": ".py",
   "mimetype": "text/x-python",
   "name": "python",
   "nbconvert_exporter": "python",
   "pygments_lexer": "ipython3",
   "version": "3.8.10"
  },
  "orig_nbformat": 4,
  "vscode": {
   "interpreter": {
    "hash": "a2ba5c7570592e86f20458013332ec3c55b0ae10b9d5b24be29cc9bc24858e1a"
   }
  }
 },
 "nbformat": 4,
 "nbformat_minor": 2
}
