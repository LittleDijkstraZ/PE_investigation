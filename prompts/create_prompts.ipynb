{
 "cells": [
  {
   "cell_type": "code",
   "execution_count": 22,
   "metadata": {},
   "outputs": [],
   "source": [
    "\"\"\"\n",
    "create few shot (1~3) prompt from the test prompt\n",
    "\"\"\"\n",
    "import os\n",
    "import pickle\n",
    "import requests\n",
    "import numpy as np\n",
    "import random\n",
    "import re\n",
    "import glob\n",
    "import math\n",
    "\n",
    "import sys\n",
    "module_path = os.path.abspath(os.path.join('..'))\n",
    "if module_path not in sys.path:\n",
    "    sys.path.append(module_path)\n",
    "from main_utils import get_data_list, generate_data_str"
   ]
  },
  {
   "attachments": {},
   "cell_type": "markdown",
   "metadata": {},
   "source": [
    "# Create subtraction prompts from addition prompts"
   ]
  },
  {
   "cell_type": "code",
   "execution_count": 14,
   "metadata": {},
   "outputs": [
    {
     "name": "stdout",
     "output_type": "stream",
     "text": [
      "+/few_shot_prefix/3shot_2.txt\n",
      "+/few_shot_prefix/1shot_4.txt\n",
      "+/few_shot_prefix/3shot_4.txt\n",
      "+/few_shot_prefix/1shot_3.txt\n",
      "+/few_shot_prefix/2shot_3.txt\n",
      "+/few_shot_prefix/1shot_2.txt\n",
      "+/few_shot_prefix/2shot_5.txt\n",
      "+/few_shot_prefix/1shot_1.txt\n",
      "+/few_shot_prefix/2shot_4.txt\n",
      "+/few_shot_prefix/2shot_1.txt\n",
      "+/few_shot_prefix/3shot_3.txt\n",
      "+/few_shot_prefix/3shot_1.txt\n",
      "+/few_shot_prefix/1shot_5.txt\n",
      "+/few_shot_prefix/2shot_2.txt\n",
      "+/few_shot_prefix/3shot_5.txt\n"
     ]
    }
   ],
   "source": [
    "operator = '-'\n",
    "\n",
    "files = glob.glob('add/few_shot_prefix/*.txt')\n",
    "\n",
    "for file in files:\n",
    "    print(file)\n",
    "    new_file = file.replace('add', 'sub')\n",
    "    data_list = get_data_list(file, operator='+')\n",
    "    if not os.path.exists('/'.join(new_file.split('/')[:-1])):\n",
    "        os.makedirs('/'.join(new_file.split('/')[:-1]))\n",
    "    with open(new_file, 'w') as f:\n",
    "        for data in data_list:\n",
    "            a, b = data[0], data[1]\n",
    "            f.write(f'{a}-{b}={a-b}\\n')\n"
   ]
  },
  {
   "cell_type": "code",
   "execution_count": 16,
   "metadata": {},
   "outputs": [
    {
     "name": "stdout",
     "output_type": "stream",
     "text": [
      "+/few_shot_prefix/3shot_2.txt\n",
      "+/few_shot_prefix/1shot_4.txt\n",
      "+/few_shot_prefix/3shot_4.txt\n",
      "+/few_shot_prefix/1shot_3.txt\n",
      "+/few_shot_prefix/2shot_3.txt\n",
      "+/few_shot_prefix/1shot_2.txt\n",
      "+/few_shot_prefix/2shot_5.txt\n",
      "+/few_shot_prefix/1shot_1.txt\n",
      "+/few_shot_prefix/2shot_4.txt\n",
      "+/few_shot_prefix/2shot_1.txt\n",
      "+/few_shot_prefix/3shot_3.txt\n",
      "+/few_shot_prefix/3shot_1.txt\n",
      "+/few_shot_prefix/1shot_5.txt\n",
      "+/few_shot_prefix/2shot_2.txt\n",
      "+/few_shot_prefix/3shot_5.txt\n"
     ]
    }
   ],
   "source": [
    "operator = '-'\n",
    "\n",
    "files = glob.glob('add/few_shot_prefix/*.txt')\n",
    "\n",
    "for file in files:\n",
    "    print(file)\n",
    "    new_file = 'sub/few_shot_prefix_ar/' + file.split('/')[-1]\n",
    "    data_list = get_data_list(file, operator='-')\n",
    "    if not os.path.exists('/'.join(new_file.split('/')[:-1])):\n",
    "        os.makedirs('/'.join(new_file.split('/')[:-1]))\n",
    "    with open(new_file, 'w') as f:\n",
    "        output_str = generate_data_str(data_list, operator='-', format='algo_reasoning', train=True, shuffle=False)\n",
    "        f.write(output_str)\n"
   ]
  },
  {
   "attachments": {},
   "cell_type": "markdown",
   "metadata": {},
   "source": [
    "# Create multiplication / sin / sqrt prompts from random sampling"
   ]
  },
  {
   "attachments": {},
   "cell_type": "markdown",
   "metadata": {},
   "source": [
    "## Multiplication"
   ]
  },
  {
   "cell_type": "code",
   "execution_count": 21,
   "metadata": {},
   "outputs": [
    {
     "name": "stdout",
     "output_type": "stream",
     "text": [
      "creating new file: */few_shot_prefix/1shot_1.txt!\n",
      "creating new file: */few_shot_prefix_ar/1shot_1.txt!\n",
      "creating new file: */few_shot_prefix/1shot_2.txt!\n",
      "creating new file: */few_shot_prefix_ar/1shot_2.txt!\n",
      "creating new file: */few_shot_prefix/1shot_3.txt!\n",
      "creating new file: */few_shot_prefix_ar/1shot_3.txt!\n",
      "creating new file: */few_shot_prefix/1shot_4.txt!\n",
      "creating new file: */few_shot_prefix_ar/1shot_4.txt!\n",
      "creating new file: */few_shot_prefix/1shot_5.txt!\n",
      "creating new file: */few_shot_prefix_ar/1shot_5.txt!\n",
      "creating new file: */few_shot_prefix/2shot_1.txt!\n",
      "creating new file: */few_shot_prefix_ar/2shot_1.txt!\n",
      "creating new file: */few_shot_prefix/2shot_2.txt!\n",
      "creating new file: */few_shot_prefix_ar/2shot_2.txt!\n",
      "creating new file: */few_shot_prefix/2shot_3.txt!\n",
      "creating new file: */few_shot_prefix_ar/2shot_3.txt!\n",
      "creating new file: */few_shot_prefix/2shot_4.txt!\n",
      "creating new file: */few_shot_prefix_ar/2shot_4.txt!\n",
      "creating new file: */few_shot_prefix/2shot_5.txt!\n",
      "creating new file: */few_shot_prefix_ar/2shot_5.txt!\n",
      "creating new file: */few_shot_prefix/3shot_1.txt!\n",
      "creating new file: */few_shot_prefix_ar/3shot_1.txt!\n",
      "creating new file: */few_shot_prefix/3shot_2.txt!\n",
      "creating new file: */few_shot_prefix_ar/3shot_2.txt!\n",
      "creating new file: */few_shot_prefix/3shot_3.txt!\n",
      "creating new file: */few_shot_prefix_ar/3shot_3.txt!\n",
      "creating new file: */few_shot_prefix/3shot_4.txt!\n",
      "creating new file: */few_shot_prefix_ar/3shot_4.txt!\n",
      "creating new file: */few_shot_prefix/3shot_5.txt!\n",
      "creating new file: */few_shot_prefix_ar/3shot_5.txt!\n"
     ]
    }
   ],
   "source": [
    "out_dir = 'mul/few_shot_prefix'\n",
    "out_dir_ar = 'mul/few_shot_prefix_ar'\n",
    "\n",
    "num_prompts = 5\n",
    "\n",
    "shots = [1,2,3]\n",
    "\n",
    "if not os.path.exists(out_dir):\n",
    "    os.makedirs(out_dir)\n",
    "if not os.path.exists(out_dir_ar):\n",
    "    os.makedirs(out_dir_ar)\n",
    "\n",
    "for shot in shots:\n",
    "    for num_prompt in range(1, num_prompts+1):\n",
    "        data_list = []\n",
    "        output_file_path = f'{out_dir}/{shot}shot_{num_prompt}.txt'\n",
    "        output_file_path_ar = f'{out_dir_ar}/{shot}shot_{num_prompt}.txt'\n",
    "        with open(output_file_path, 'w') as f:\n",
    "            print(f'creating new file: {output_file_path}!')\n",
    "            for _ in range(shot):\n",
    "                x, y = random.randint(0, 99), random.randint(0, 99)\n",
    "                f.write(f'{x}*{y}={x*y}\\n')\n",
    "                data_list.append((x,y,x*y,'*'))\n",
    "        \n",
    "        with open(output_file_path_ar, 'w') as f:\n",
    "            print(f'creating new file: {output_file_path_ar}!')\n",
    "            output_str = generate_data_str(data_list, operator='*', format='algo_reasoning', train=True, shuffle=False)\n",
    "            f.write(output_str)"
   ]
  },
  {
   "attachments": {},
   "cell_type": "markdown",
   "metadata": {},
   "source": [
    "## Sin"
   ]
  },
  {
   "cell_type": "code",
   "execution_count": 24,
   "metadata": {},
   "outputs": [],
   "source": [
    "def truncate_to_n_digit(x, n=4):\n",
    "    return math.floor(x * (10 ** n)) / (10 ** n)"
   ]
  },
  {
   "cell_type": "code",
   "execution_count": 25,
   "metadata": {},
   "outputs": [
    {
     "name": "stdout",
     "output_type": "stream",
     "text": [
      "creating new file: sin/few_shot_prefix/1shot_1.txt!\n",
      "creating new file: sin/few_shot_prefix_ar/1shot_1.txt!\n",
      "creating new file: sin/few_shot_prefix/1shot_2.txt!\n",
      "creating new file: sin/few_shot_prefix_ar/1shot_2.txt!\n",
      "creating new file: sin/few_shot_prefix/1shot_3.txt!\n",
      "creating new file: sin/few_shot_prefix_ar/1shot_3.txt!\n",
      "creating new file: sin/few_shot_prefix/1shot_4.txt!\n",
      "creating new file: sin/few_shot_prefix_ar/1shot_4.txt!\n",
      "creating new file: sin/few_shot_prefix/1shot_5.txt!\n",
      "creating new file: sin/few_shot_prefix_ar/1shot_5.txt!\n",
      "creating new file: sin/few_shot_prefix/2shot_1.txt!\n",
      "creating new file: sin/few_shot_prefix_ar/2shot_1.txt!\n",
      "creating new file: sin/few_shot_prefix/2shot_2.txt!\n",
      "creating new file: sin/few_shot_prefix_ar/2shot_2.txt!\n",
      "creating new file: sin/few_shot_prefix/2shot_3.txt!\n",
      "creating new file: sin/few_shot_prefix_ar/2shot_3.txt!\n",
      "creating new file: sin/few_shot_prefix/2shot_4.txt!\n",
      "creating new file: sin/few_shot_prefix_ar/2shot_4.txt!\n",
      "creating new file: sin/few_shot_prefix/2shot_5.txt!\n",
      "creating new file: sin/few_shot_prefix_ar/2shot_5.txt!\n",
      "creating new file: sin/few_shot_prefix/3shot_1.txt!\n",
      "creating new file: sin/few_shot_prefix_ar/3shot_1.txt!\n",
      "creating new file: sin/few_shot_prefix/3shot_2.txt!\n",
      "creating new file: sin/few_shot_prefix_ar/3shot_2.txt!\n",
      "creating new file: sin/few_shot_prefix/3shot_3.txt!\n",
      "creating new file: sin/few_shot_prefix_ar/3shot_3.txt!\n",
      "creating new file: sin/few_shot_prefix/3shot_4.txt!\n",
      "creating new file: sin/few_shot_prefix_ar/3shot_4.txt!\n",
      "creating new file: sin/few_shot_prefix/3shot_5.txt!\n",
      "creating new file: sin/few_shot_prefix_ar/3shot_5.txt!\n"
     ]
    }
   ],
   "source": [
    "out_dir = 'sin/few_shot_prefix'\n",
    "out_dir_ar = 'sin/few_shot_prefix_ar'\n",
    "\n",
    "num_prompts = 5\n",
    "\n",
    "shots = [1,2,3]\n",
    "\n",
    "if not os.path.exists(out_dir):\n",
    "    os.makedirs(out_dir)\n",
    "if not os.path.exists(out_dir_ar):\n",
    "    os.makedirs(out_dir_ar)\n",
    "\n",
    "for shot in shots:\n",
    "    for num_prompt in range(1, num_prompts+1):\n",
    "        data_list = []\n",
    "        output_file_path = f'{out_dir}/{shot}shot_{num_prompt}.txt'\n",
    "        output_file_path_ar = f'{out_dir_ar}/{shot}shot_{num_prompt}.txt'\n",
    "        with open(output_file_path, 'w') as f:\n",
    "            print(f'creating new file: {output_file_path}!')\n",
    "            for _ in range(shot):\n",
    "                x = random.uniform(-math.pi/2, math.pi/2)\n",
    "                x_trunc = truncate_to_n_digit(x)\n",
    "                y = math.sin(x_trunc)\n",
    "                y_trunc = truncate_to_n_digit(y)\n",
    "                f.write(f'sin({x_trunc})={y_trunc}\\n')\n",
    "                data_list.append((x,y,'sin'))\n",
    "        \n",
    "        with open(output_file_path_ar, 'w') as f:\n",
    "            print(f'creating new file: {output_file_path_ar}!')\n",
    "            output_str = generate_data_str(data_list, operator='sin', format='algo_reasoning', train=True, shuffle=False)\n",
    "            f.write(output_str)"
   ]
  },
  {
   "attachments": {},
   "cell_type": "markdown",
   "metadata": {},
   "source": [
    "## Sqrt"
   ]
  },
  {
   "cell_type": "code",
   "execution_count": null,
   "metadata": {},
   "outputs": [],
   "source": [
    "def truncate_to_n_digit(x, n=4):\n",
    "    return math.floor(x * (10 ** n)) / (10 ** n)"
   ]
  },
  {
   "cell_type": "code",
   "execution_count": 26,
   "metadata": {},
   "outputs": [
    {
     "name": "stdout",
     "output_type": "stream",
     "text": [
      "creating new file: sqrt/few_shot_prefix/1shot_1.txt!\n",
      "creating new file: sqrt/few_shot_prefix_ar/1shot_1.txt!\n",
      "creating new file: sqrt/few_shot_prefix/1shot_2.txt!\n",
      "creating new file: sqrt/few_shot_prefix_ar/1shot_2.txt!\n",
      "creating new file: sqrt/few_shot_prefix/1shot_3.txt!\n",
      "creating new file: sqrt/few_shot_prefix_ar/1shot_3.txt!\n",
      "creating new file: sqrt/few_shot_prefix/1shot_4.txt!\n",
      "creating new file: sqrt/few_shot_prefix_ar/1shot_4.txt!\n",
      "creating new file: sqrt/few_shot_prefix/1shot_5.txt!\n",
      "creating new file: sqrt/few_shot_prefix_ar/1shot_5.txt!\n",
      "creating new file: sqrt/few_shot_prefix/2shot_1.txt!\n",
      "creating new file: sqrt/few_shot_prefix_ar/2shot_1.txt!\n",
      "creating new file: sqrt/few_shot_prefix/2shot_2.txt!\n",
      "creating new file: sqrt/few_shot_prefix_ar/2shot_2.txt!\n",
      "creating new file: sqrt/few_shot_prefix/2shot_3.txt!\n",
      "creating new file: sqrt/few_shot_prefix_ar/2shot_3.txt!\n",
      "creating new file: sqrt/few_shot_prefix/2shot_4.txt!\n",
      "creating new file: sqrt/few_shot_prefix_ar/2shot_4.txt!\n",
      "creating new file: sqrt/few_shot_prefix/2shot_5.txt!\n",
      "creating new file: sqrt/few_shot_prefix_ar/2shot_5.txt!\n",
      "creating new file: sqrt/few_shot_prefix/3shot_1.txt!\n",
      "creating new file: sqrt/few_shot_prefix_ar/3shot_1.txt!\n",
      "creating new file: sqrt/few_shot_prefix/3shot_2.txt!\n",
      "creating new file: sqrt/few_shot_prefix_ar/3shot_2.txt!\n",
      "creating new file: sqrt/few_shot_prefix/3shot_3.txt!\n",
      "creating new file: sqrt/few_shot_prefix_ar/3shot_3.txt!\n",
      "creating new file: sqrt/few_shot_prefix/3shot_4.txt!\n",
      "creating new file: sqrt/few_shot_prefix_ar/3shot_4.txt!\n",
      "creating new file: sqrt/few_shot_prefix/3shot_5.txt!\n",
      "creating new file: sqrt/few_shot_prefix_ar/3shot_5.txt!\n"
     ]
    }
   ],
   "source": [
    "out_dir = 'sqrt/few_shot_prefix'\n",
    "out_dir_ar = 'sqrt/few_shot_prefix_ar'\n",
    "\n",
    "num_prompts = 5\n",
    "\n",
    "shots = [1,2,3]\n",
    "\n",
    "if not os.path.exists(out_dir):\n",
    "    os.makedirs(out_dir)\n",
    "if not os.path.exists(out_dir_ar):\n",
    "    os.makedirs(out_dir_ar)\n",
    "\n",
    "for shot in shots:\n",
    "    for num_prompt in range(1, num_prompts+1):\n",
    "        data_list = []\n",
    "        output_file_path = f'{out_dir}/{shot}shot_{num_prompt}.txt'\n",
    "        output_file_path_ar = f'{out_dir_ar}/{shot}shot_{num_prompt}.txt'\n",
    "        with open(output_file_path, 'w') as f:\n",
    "            print(f'creating new file: {output_file_path}!')\n",
    "            for _ in range(shot):\n",
    "                x = random.uniform(1, 10)\n",
    "                x_trunc = truncate_to_n_digit(x)\n",
    "                y = math.sqrt(x_trunc)\n",
    "                y_trunc = truncate_to_n_digit(y)\n",
    "                f.write(f'sqrt({x_trunc})={y_trunc}\\n')\n",
    "                data_list.append((x,y,'sqrt'))\n",
    "        \n",
    "        with open(output_file_path_ar, 'w') as f:\n",
    "            print(f'creating new file: {output_file_path_ar}!')\n",
    "            output_str = generate_data_str(data_list, operator='sqrt', format='algo_reasoning', train=True, shuffle=False)\n",
    "            f.write(output_str)"
   ]
  },
  {
   "cell_type": "code",
   "execution_count": null,
   "metadata": {},
   "outputs": [],
   "source": []
  }
 ],
 "metadata": {
  "kernelspec": {
   "display_name": "nanogpt",
   "language": "python",
   "name": "python3"
  },
  "language_info": {
   "codemirror_mode": {
    "name": "ipython",
    "version": 3
   },
   "file_extension": ".py",
   "mimetype": "text/x-python",
   "name": "python",
   "nbconvert_exporter": "python",
   "pygments_lexer": "ipython3",
   "version": "3.8.10"
  },
  "orig_nbformat": 4
 },
 "nbformat": 4,
 "nbformat_minor": 2
}
